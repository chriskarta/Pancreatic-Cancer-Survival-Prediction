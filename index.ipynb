{
 "cells": [
  {
   "cell_type": "markdown",
   "id": "42842eed",
   "metadata": {},
   "source": [
    "# Pancreatic Cancer Survival Prediction"
   ]
  },
  {
   "cell_type": "markdown",
   "id": "cbcb2acb",
   "metadata": {},
   "source": [
    "**Introduction and Background**\n",
    "\n",
    "Pancreatic cancer is one of the most lethal malignancies worldwide, with a five-year survival rate of less than 10% due to its late diagnosis and aggressive progression. Accurate prediction of patient survival at the time of diagnosis remains a critical challenge in oncology, limiting clinicians’ ability to personalize treatment and allocate resources effectively. With the increasing availability of clinical and genomic data, there is a growing opportunity to leverage machine learning to estimate patient outcomes and support evidence-based decision-making. \n"
   ]
  },
  {
   "cell_type": "markdown",
   "id": "2bd224ba",
   "metadata": {},
   "source": [
    "**Problem Statement**\n",
    "\n",
    "Pancreatic cancer is often diagnosed late and is difficult to treat, making it one of the deadliest cancers. Doctors lack accurate tools to predict how long a patient might survive, which limits personalized care. Although there is a lot of clinical and genomic data available, survival is still mainly predicted using general staging systems. This project aims to build a machine learning model that can better predict survival in pancreatic cancer patients, helping doctors make more informed decisions.\n",
    "\n",
    "By identifying high-risk individuals early, this tool can support treatment planning, improve patient counseling, and guide the selection of candidates for advanced therapies or clinical trials."
   ]
  },
  {
   "cell_type": "markdown",
   "id": "baa23ad9",
   "metadata": {},
   "source": [
    "**Project Objectives**\n",
    "\n",
    "1.\tFilter and isolate pancreatic cancer patient data from a larger clinical-genomic dataset to create a focused, high-quality subset for analysis.\n",
    "2.\tPreprocess and engineer features from clinical, pathological, and genomic variables such as tumor mutational burden (TMB), tumor purity, disease stage, and demographic data.\n",
    "3.\tBuild a predictive machine learning model to estimate the overall survival status (alive vs. deceased) of pancreatic cancer patients at the time of sample collection or diagnosis.\n",
    "4.\tEvaluate model performance using classification metrics such as accuracy, precision, recall, F1-score, and ROC-AUC to ensure clinical relevance and reliability.\n",
    "5.\tInterpret model outputs to identify the most influential features contributing to survival predictions, thereby providing insights into potential prognostic biomarkers.\n",
    "6.\tDemonstrate potential clinical utility by outlining how the model could support risk stratification, personalized treatment planning, and early patient counseling in real-world oncology settings.\n"
   ]
  },
  {
   "cell_type": "markdown",
   "id": "ed3808f1",
   "metadata": {},
   "source": [
    "## 1.\tData Understanding"
   ]
  },
  {
   "cell_type": "code",
   "execution_count": 393,
   "id": "515ad314",
   "metadata": {},
   "outputs": [],
   "source": [
    "# importing relevant libraries\n",
    "\n",
    "import numpy as np\n",
    "import pandas as pd\n",
    "import matplotlib.pyplot as plt\n",
    "%matplotlib inline\n",
    "import seaborn as sns\n",
    "from sklearn.preprocessing import LabelEncoder, StandardScaler\n",
    "from sklearn.impute import SimpleImputer\n",
    "from sklearn.model_selection import train_test_split, GridSearchCV, cross_val_score\n",
    "from sklearn.linear_model import LogisticRegression\n",
    "from sklearn.ensemble import RandomForestClassifier\n",
    "from xgboost import XGBClassifier\n",
    "from sklearn.metrics import accuracy_score, precision_score, recall_score, f1_score, roc_auc_score, confusion_matrix, classification_report, roc_curve\n",
    "from sklearn.metrics import precision_recall_curve, roc_curve, f1_score, recall_score, precision_score\n",
    "from sklearn.impute import SimpleImputer\n",
    "import joblib\n"
   ]
  },
  {
   "cell_type": "markdown",
   "id": "fe3e936d",
   "metadata": {},
   "source": [
    "MSK-CHORD (MSK, Nature 2024)\n",
    "The dataset was sourced from the MSK CHORD 2024 clinical-genomic database, which includes over 25,000 cancer cases. A subset of 3,109 records corresponding to patients with pancreatic cancer was extracted based on the Cancer Type column.\n",
    "Targeted sequencing of 25040 tumors from 24950 patients and their matched normals via MSK-IMPACT, along with clinical annotations, some of which are derived from natural language processing (denoted NLP). This data is available under the Creative Commons BY-NC-ND 4.0 license. \n",
    "\n",
    "Data Url: https://www.cbioportal.org/study/summary?id=msk_chord_2024"
   ]
  },
  {
   "cell_type": "code",
   "execution_count": 394,
   "id": "a2fa4dbb",
   "metadata": {},
   "outputs": [
    {
     "data": {
      "application/vnd.microsoft.datawrangler.viewer.v0+json": {
       "columns": [
        {
         "name": "index",
         "rawType": "int64",
         "type": "integer"
        },
        {
         "name": "Study ID",
         "rawType": "object",
         "type": "string"
        },
        {
         "name": "Patient ID",
         "rawType": "object",
         "type": "string"
        },
        {
         "name": "Sample ID",
         "rawType": "object",
         "type": "string"
        },
        {
         "name": "Tumor Site: Adrenal Glands (NLP)",
         "rawType": "object",
         "type": "string"
        },
        {
         "name": "Tumor Site: Bone (NLP)",
         "rawType": "object",
         "type": "string"
        },
        {
         "name": "Cancer Type",
         "rawType": "object",
         "type": "string"
        },
        {
         "name": "Cancer Type Detailed",
         "rawType": "object",
         "type": "string"
        },
        {
         "name": "Clinical Group",
         "rawType": "object",
         "type": "string"
        },
        {
         "name": "Clinical Summary",
         "rawType": "object",
         "type": "string"
        },
        {
         "name": "Tumor Site: CNS/Brain (NLP)",
         "rawType": "object",
         "type": "string"
        },
        {
         "name": "Current Age",
         "rawType": "float64",
         "type": "float"
        },
        {
         "name": "Diagnosis Description",
         "rawType": "object",
         "type": "string"
        },
        {
         "name": "Ethnicity",
         "rawType": "object",
         "type": "string"
        },
        {
         "name": "Fraction Genome Altered",
         "rawType": "float64",
         "type": "float"
        },
        {
         "name": "Sex",
         "rawType": "object",
         "type": "string"
        },
        {
         "name": "Gene Panel",
         "rawType": "object",
         "type": "string"
        },
        {
         "name": "Gleason Score, 1st Reported (NLP)",
         "rawType": "float64",
         "type": "float"
        },
        {
         "name": "Gleason Score, Highest Reported (NLP)",
         "rawType": "float64",
         "type": "float"
        },
        {
         "name": "Gleason Score Reported on Sample (NLP)",
         "rawType": "float64",
         "type": "float"
        },
        {
         "name": "HER2",
         "rawType": "object",
         "type": "string"
        },
        {
         "name": "History for Positive PD-L1 (NLP)",
         "rawType": "object",
         "type": "string"
        },
        {
         "name": "HR",
         "rawType": "object",
         "type": "string"
        },
        {
         "name": "ICD-O Histology Description",
         "rawType": "object",
         "type": "string"
        },
        {
         "name": "Tumor Site: Intra Abdominal",
         "rawType": "object",
         "type": "string"
        },
        {
         "name": "Tumor Site: Liver (NLP)",
         "rawType": "object",
         "type": "string"
        },
        {
         "name": "Tumor Site: Lung (NLP)",
         "rawType": "object",
         "type": "string"
        },
        {
         "name": "Tumor Site: Lymph Node (NLP)",
         "rawType": "object",
         "type": "string"
        },
        {
         "name": "Metastatic Site",
         "rawType": "object",
         "type": "string"
        },
        {
         "name": "MSI Comment",
         "rawType": "object",
         "type": "string"
        },
        {
         "name": "MSI Score",
         "rawType": "float64",
         "type": "float"
        },
        {
         "name": "MSI Type",
         "rawType": "object",
         "type": "string"
        },
        {
         "name": "Mutation Count",
         "rawType": "float64",
         "type": "float"
        },
        {
         "name": "Number of Tumor Registry Entries",
         "rawType": "int64",
         "type": "integer"
        },
        {
         "name": "Oncotree Code",
         "rawType": "object",
         "type": "string"
        },
        {
         "name": "Overall Survival (Months)",
         "rawType": "float64",
         "type": "float"
        },
        {
         "name": "Overall Survival Status",
         "rawType": "object",
         "type": "string"
        },
        {
         "name": "Tumor Site: Other (NLP)",
         "rawType": "object",
         "type": "string"
        },
        {
         "name": "Pathological Group",
         "rawType": "object",
         "type": "string"
        },
        {
         "name": "Sample PD-L1 Positive (NLP)",
         "rawType": "object",
         "type": "string"
        },
        {
         "name": "Tumor Site: Pleura (NLP)",
         "rawType": "object",
         "type": "string"
        },
        {
         "name": "Primary Tumor Site",
         "rawType": "object",
         "type": "string"
        },
        {
         "name": "Prior Treatment to MSK (NLP)",
         "rawType": "object",
         "type": "string"
        },
        {
         "name": "Race",
         "rawType": "object",
         "type": "string"
        },
        {
         "name": "Tumor Site: Reproductive Organs (NLP)",
         "rawType": "object",
         "type": "string"
        },
        {
         "name": "Sample Class",
         "rawType": "object",
         "type": "string"
        },
        {
         "name": "Number of Samples Per Patient",
         "rawType": "int64",
         "type": "integer"
        },
        {
         "name": "Sample coverage",
         "rawType": "int64",
         "type": "integer"
        },
        {
         "name": "Sample Type",
         "rawType": "object",
         "type": "string"
        },
        {
         "name": "Smoking History (NLP)",
         "rawType": "object",
         "type": "string"
        },
        {
         "name": "Somatic Status",
         "rawType": "object",
         "type": "string"
        },
        {
         "name": "Stage (Highest Recorded)",
         "rawType": "object",
         "type": "string"
        },
        {
         "name": "TMB (nonsynonymous)",
         "rawType": "float64",
         "type": "float"
        },
        {
         "name": "Tumor Purity",
         "rawType": "float64",
         "type": "float"
        }
       ],
       "ref": "74710b02-cd13-4927-9f7e-d76da2188946",
       "rows": [
        [
         "0",
         "msk_chord_2024",
         "P-0000012",
         "P-0000012-T02-IM3",
         "No",
         "No",
         "Breast Cancer",
         "Breast Invasive Ductal Carcinoma",
         null,
         null,
         "No",
         "68.0",
         "Breast",
         "Non-Spanish; Non-Hispanic",
         "0.3146",
         "Female",
         "IMPACT341",
         null,
         null,
         null,
         "No",
         "No",
         "No",
         "Infiltrating Duct Carcinoma",
         "Yes",
         "No",
         "Yes",
         "Yes",
         null,
         "MICROSATELLITE INSTABILITY-INDETERMINATE. See MSI note below.",
         "4.1",
         "Indeterminate",
         "1.0",
         "2",
         "IDC",
         "118.4546647",
         "0:LIVING",
         "Yes",
         null,
         null,
         "No",
         "Breast",
         "Unknown",
         "White",
         "No",
         "Tumor",
         "2",
         "344",
         "Primary",
         "Former/Current Smoker",
         "Matched",
         "Stage 1-3",
         "1.109155301",
         null
        ],
        [
         "1",
         "msk_chord_2024",
         "P-0000012",
         "P-0000012-T03-IM3",
         "No",
         "No",
         "Non-Small Cell Lung Cancer",
         "Lung Adenocarcinoma",
         "3B",
         "Distant",
         "No",
         "68.0",
         "Lung and Bronchus",
         "Non-Spanish; Non-Hispanic",
         "0.1844",
         "Female",
         "IMPACT341",
         null,
         null,
         null,
         "No",
         "No",
         "No",
         "Adenocarcinoma, Nos",
         "Yes",
         "No",
         "Yes",
         "Yes",
         "Neck",
         "MICROSATELLITE STABLE (MSS). See MSI note below.",
         "0.47",
         "Stable",
         "30.0",
         "2",
         "LUAD",
         "118.4546647",
         "0:LIVING",
         "Yes",
         null,
         null,
         "No",
         "Lung",
         "Unknown",
         "White",
         "No",
         "Tumor",
         "2",
         "428",
         "Metastasis",
         "Former/Current Smoker",
         "Matched",
         "Stage 1-3",
         "32.16550372",
         null
        ],
        [
         "2",
         "msk_chord_2024",
         "P-0000015",
         "P-0000015-T01-IM3",
         "No",
         "Yes",
         "Breast Cancer",
         "Breast Invasive Ductal Carcinoma",
         "1",
         "Localized",
         "Yes",
         "45.0",
         "Breast",
         "Non-Spanish; Non-Hispanic",
         "0.3503",
         "Female",
         "IMPACT341",
         null,
         null,
         null,
         "No",
         null,
         "Yes",
         "Infiltrating Duct Carcinoma",
         "No",
         "Yes",
         "Yes",
         "Yes",
         "Liver",
         null,
         "2.55",
         "Stable",
         "7.0",
         "1",
         "IDC",
         "13.90683407",
         "1:DECEASED",
         "Yes",
         "1",
         null,
         "Yes",
         "Breast",
         "Unknown",
         "White",
         "No",
         "Tumor",
         "1",
         "281",
         "Metastasis",
         "Unknown",
         "Matched",
         "Stage 1-3",
         "7.764087104",
         "40.0"
        ],
        [
         "3",
         "msk_chord_2024",
         "P-0000036",
         "P-0000036-T01-IM3",
         "No",
         "Yes",
         "Non-Small Cell Lung Cancer",
         "Lung Adenocarcinoma",
         "4",
         "Distant",
         "No",
         "68.0",
         "Lung and Bronchus",
         "Non-Spanish; Non-Hispanic",
         "0.0185",
         "Female",
         "IMPACT341",
         null,
         null,
         null,
         null,
         null,
         null,
         "Adenocarcinoma, Nos",
         "No",
         "Yes",
         "Yes",
         "Yes",
         null,
         null,
         "-1.0",
         "Do not report",
         "7.0",
         "1",
         "LUAD",
         "115.4628872",
         "0:LIVING",
         "No",
         null,
         null,
         "Yes",
         "Lung",
         "Unknown",
         "Other",
         "No",
         "Tumor",
         "1",
         "380",
         "Primary",
         "Never",
         "Unmatched",
         "Stage 4",
         "7.764087104",
         "30.0"
        ],
        [
         "4",
         "msk_chord_2024",
         "P-0000041",
         "P-0000041-T01-IM3",
         "No",
         "Yes",
         "Breast Cancer",
         "Breast Invasive Ductal Carcinoma",
         "2A",
         "Localized",
         "Yes",
         "53.0",
         "Breast",
         "Non-Spanish; Non-Hispanic",
         "0.4041",
         "Female",
         "IMPACT341",
         null,
         null,
         null,
         "No",
         null,
         "No",
         "Infiltrating Duct Carcinoma",
         "No",
         "Yes",
         "No",
         "No",
         null,
         "MICROSATELLITE INSTABILITY-INDETERMINATE. See MSI note below.",
         "3.55",
         "Indeterminate",
         "10.0",
         "1",
         "IDC",
         "13.61094399",
         "1:DECEASED",
         "Yes",
         "1",
         null,
         "Yes",
         "Breast",
         "Prior medications to MSK",
         "White",
         "No",
         "Tumor",
         "1",
         "401",
         "Primary",
         "Unknown",
         "Matched",
         "Stage 1-3",
         "11.09155301",
         "30.0"
        ]
       ],
       "shape": {
        "columns": 53,
        "rows": 5
       }
      },
      "text/html": [
       "<div>\n",
       "<style scoped>\n",
       "    .dataframe tbody tr th:only-of-type {\n",
       "        vertical-align: middle;\n",
       "    }\n",
       "\n",
       "    .dataframe tbody tr th {\n",
       "        vertical-align: top;\n",
       "    }\n",
       "\n",
       "    .dataframe thead th {\n",
       "        text-align: right;\n",
       "    }\n",
       "</style>\n",
       "<table border=\"1\" class=\"dataframe\">\n",
       "  <thead>\n",
       "    <tr style=\"text-align: right;\">\n",
       "      <th></th>\n",
       "      <th>Study ID</th>\n",
       "      <th>Patient ID</th>\n",
       "      <th>Sample ID</th>\n",
       "      <th>Tumor Site: Adrenal Glands (NLP)</th>\n",
       "      <th>Tumor Site: Bone (NLP)</th>\n",
       "      <th>Cancer Type</th>\n",
       "      <th>Cancer Type Detailed</th>\n",
       "      <th>Clinical Group</th>\n",
       "      <th>Clinical Summary</th>\n",
       "      <th>Tumor Site: CNS/Brain (NLP)</th>\n",
       "      <th>...</th>\n",
       "      <th>Tumor Site: Reproductive Organs (NLP)</th>\n",
       "      <th>Sample Class</th>\n",
       "      <th>Number of Samples Per Patient</th>\n",
       "      <th>Sample coverage</th>\n",
       "      <th>Sample Type</th>\n",
       "      <th>Smoking History (NLP)</th>\n",
       "      <th>Somatic Status</th>\n",
       "      <th>Stage (Highest Recorded)</th>\n",
       "      <th>TMB (nonsynonymous)</th>\n",
       "      <th>Tumor Purity</th>\n",
       "    </tr>\n",
       "  </thead>\n",
       "  <tbody>\n",
       "    <tr>\n",
       "      <th>0</th>\n",
       "      <td>msk_chord_2024</td>\n",
       "      <td>P-0000012</td>\n",
       "      <td>P-0000012-T02-IM3</td>\n",
       "      <td>No</td>\n",
       "      <td>No</td>\n",
       "      <td>Breast Cancer</td>\n",
       "      <td>Breast Invasive Ductal Carcinoma</td>\n",
       "      <td>NaN</td>\n",
       "      <td>NaN</td>\n",
       "      <td>No</td>\n",
       "      <td>...</td>\n",
       "      <td>No</td>\n",
       "      <td>Tumor</td>\n",
       "      <td>2</td>\n",
       "      <td>344</td>\n",
       "      <td>Primary</td>\n",
       "      <td>Former/Current Smoker</td>\n",
       "      <td>Matched</td>\n",
       "      <td>Stage 1-3</td>\n",
       "      <td>1.109155</td>\n",
       "      <td>NaN</td>\n",
       "    </tr>\n",
       "    <tr>\n",
       "      <th>1</th>\n",
       "      <td>msk_chord_2024</td>\n",
       "      <td>P-0000012</td>\n",
       "      <td>P-0000012-T03-IM3</td>\n",
       "      <td>No</td>\n",
       "      <td>No</td>\n",
       "      <td>Non-Small Cell Lung Cancer</td>\n",
       "      <td>Lung Adenocarcinoma</td>\n",
       "      <td>3B</td>\n",
       "      <td>Distant</td>\n",
       "      <td>No</td>\n",
       "      <td>...</td>\n",
       "      <td>No</td>\n",
       "      <td>Tumor</td>\n",
       "      <td>2</td>\n",
       "      <td>428</td>\n",
       "      <td>Metastasis</td>\n",
       "      <td>Former/Current Smoker</td>\n",
       "      <td>Matched</td>\n",
       "      <td>Stage 1-3</td>\n",
       "      <td>32.165504</td>\n",
       "      <td>NaN</td>\n",
       "    </tr>\n",
       "    <tr>\n",
       "      <th>2</th>\n",
       "      <td>msk_chord_2024</td>\n",
       "      <td>P-0000015</td>\n",
       "      <td>P-0000015-T01-IM3</td>\n",
       "      <td>No</td>\n",
       "      <td>Yes</td>\n",
       "      <td>Breast Cancer</td>\n",
       "      <td>Breast Invasive Ductal Carcinoma</td>\n",
       "      <td>1</td>\n",
       "      <td>Localized</td>\n",
       "      <td>Yes</td>\n",
       "      <td>...</td>\n",
       "      <td>No</td>\n",
       "      <td>Tumor</td>\n",
       "      <td>1</td>\n",
       "      <td>281</td>\n",
       "      <td>Metastasis</td>\n",
       "      <td>Unknown</td>\n",
       "      <td>Matched</td>\n",
       "      <td>Stage 1-3</td>\n",
       "      <td>7.764087</td>\n",
       "      <td>40.0</td>\n",
       "    </tr>\n",
       "    <tr>\n",
       "      <th>3</th>\n",
       "      <td>msk_chord_2024</td>\n",
       "      <td>P-0000036</td>\n",
       "      <td>P-0000036-T01-IM3</td>\n",
       "      <td>No</td>\n",
       "      <td>Yes</td>\n",
       "      <td>Non-Small Cell Lung Cancer</td>\n",
       "      <td>Lung Adenocarcinoma</td>\n",
       "      <td>4</td>\n",
       "      <td>Distant</td>\n",
       "      <td>No</td>\n",
       "      <td>...</td>\n",
       "      <td>No</td>\n",
       "      <td>Tumor</td>\n",
       "      <td>1</td>\n",
       "      <td>380</td>\n",
       "      <td>Primary</td>\n",
       "      <td>Never</td>\n",
       "      <td>Unmatched</td>\n",
       "      <td>Stage 4</td>\n",
       "      <td>7.764087</td>\n",
       "      <td>30.0</td>\n",
       "    </tr>\n",
       "    <tr>\n",
       "      <th>4</th>\n",
       "      <td>msk_chord_2024</td>\n",
       "      <td>P-0000041</td>\n",
       "      <td>P-0000041-T01-IM3</td>\n",
       "      <td>No</td>\n",
       "      <td>Yes</td>\n",
       "      <td>Breast Cancer</td>\n",
       "      <td>Breast Invasive Ductal Carcinoma</td>\n",
       "      <td>2A</td>\n",
       "      <td>Localized</td>\n",
       "      <td>Yes</td>\n",
       "      <td>...</td>\n",
       "      <td>No</td>\n",
       "      <td>Tumor</td>\n",
       "      <td>1</td>\n",
       "      <td>401</td>\n",
       "      <td>Primary</td>\n",
       "      <td>Unknown</td>\n",
       "      <td>Matched</td>\n",
       "      <td>Stage 1-3</td>\n",
       "      <td>11.091553</td>\n",
       "      <td>30.0</td>\n",
       "    </tr>\n",
       "  </tbody>\n",
       "</table>\n",
       "<p>5 rows × 53 columns</p>\n",
       "</div>"
      ],
      "text/plain": [
       "         Study ID Patient ID          Sample ID  \\\n",
       "0  msk_chord_2024  P-0000012  P-0000012-T02-IM3   \n",
       "1  msk_chord_2024  P-0000012  P-0000012-T03-IM3   \n",
       "2  msk_chord_2024  P-0000015  P-0000015-T01-IM3   \n",
       "3  msk_chord_2024  P-0000036  P-0000036-T01-IM3   \n",
       "4  msk_chord_2024  P-0000041  P-0000041-T01-IM3   \n",
       "\n",
       "  Tumor Site: Adrenal Glands (NLP) Tumor Site: Bone (NLP)  \\\n",
       "0                               No                     No   \n",
       "1                               No                     No   \n",
       "2                               No                    Yes   \n",
       "3                               No                    Yes   \n",
       "4                               No                    Yes   \n",
       "\n",
       "                  Cancer Type              Cancer Type Detailed  \\\n",
       "0               Breast Cancer  Breast Invasive Ductal Carcinoma   \n",
       "1  Non-Small Cell Lung Cancer               Lung Adenocarcinoma   \n",
       "2               Breast Cancer  Breast Invasive Ductal Carcinoma   \n",
       "3  Non-Small Cell Lung Cancer               Lung Adenocarcinoma   \n",
       "4               Breast Cancer  Breast Invasive Ductal Carcinoma   \n",
       "\n",
       "  Clinical Group Clinical Summary Tumor Site: CNS/Brain (NLP)  ...  \\\n",
       "0            NaN              NaN                          No  ...   \n",
       "1             3B          Distant                          No  ...   \n",
       "2              1        Localized                         Yes  ...   \n",
       "3              4          Distant                          No  ...   \n",
       "4             2A        Localized                         Yes  ...   \n",
       "\n",
       "   Tumor Site: Reproductive Organs (NLP) Sample Class  \\\n",
       "0                                     No        Tumor   \n",
       "1                                     No        Tumor   \n",
       "2                                     No        Tumor   \n",
       "3                                     No        Tumor   \n",
       "4                                     No        Tumor   \n",
       "\n",
       "  Number of Samples Per Patient  Sample coverage Sample Type  \\\n",
       "0                             2              344     Primary   \n",
       "1                             2              428  Metastasis   \n",
       "2                             1              281  Metastasis   \n",
       "3                             1              380     Primary   \n",
       "4                             1              401     Primary   \n",
       "\n",
       "   Smoking History (NLP)  Somatic Status  Stage (Highest Recorded)  \\\n",
       "0  Former/Current Smoker         Matched                 Stage 1-3   \n",
       "1  Former/Current Smoker         Matched                 Stage 1-3   \n",
       "2                Unknown         Matched                 Stage 1-3   \n",
       "3                  Never       Unmatched                   Stage 4   \n",
       "4                Unknown         Matched                 Stage 1-3   \n",
       "\n",
       "   TMB (nonsynonymous) Tumor Purity  \n",
       "0             1.109155          NaN  \n",
       "1            32.165504          NaN  \n",
       "2             7.764087         40.0  \n",
       "3             7.764087         30.0  \n",
       "4            11.091553         30.0  \n",
       "\n",
       "[5 rows x 53 columns]"
      ]
     },
     "execution_count": 394,
     "metadata": {},
     "output_type": "execute_result"
    }
   ],
   "source": [
    "# Imported the dataset\n",
    "df = pd.read_csv('msk_chord_2024_clinical_data.csv')\n",
    "\n",
    "# The first 5 rows\n",
    "df.head()"
   ]
  },
  {
   "cell_type": "code",
   "execution_count": 395,
   "id": "f85620e1",
   "metadata": {},
   "outputs": [
    {
     "name": "stdout",
     "output_type": "stream",
     "text": [
      "<class 'pandas.core.frame.DataFrame'>\n",
      "RangeIndex: 25040 entries, 0 to 25039\n",
      "Data columns (total 53 columns):\n",
      " #   Column                                  Non-Null Count  Dtype  \n",
      "---  ------                                  --------------  -----  \n",
      " 0   Study ID                                25040 non-null  object \n",
      " 1   Patient ID                              25040 non-null  object \n",
      " 2   Sample ID                               25040 non-null  object \n",
      " 3   Tumor Site: Adrenal Glands (NLP)        25040 non-null  object \n",
      " 4   Tumor Site: Bone (NLP)                  25040 non-null  object \n",
      " 5   Cancer Type                             25040 non-null  object \n",
      " 6   Cancer Type Detailed                    25040 non-null  object \n",
      " 7   Clinical Group                          20376 non-null  object \n",
      " 8   Clinical Summary                        24552 non-null  object \n",
      " 9   Tumor Site: CNS/Brain (NLP)             25040 non-null  object \n",
      " 10  Current Age                             25037 non-null  float64\n",
      " 11  Diagnosis Description                   25040 non-null  object \n",
      " 12  Ethnicity                               25040 non-null  object \n",
      " 13  Fraction Genome Altered                 24870 non-null  float64\n",
      " 14  Sex                                     25040 non-null  object \n",
      " 15  Gene Panel                              25040 non-null  object \n",
      " 16  Gleason Score, 1st Reported (NLP)       3272 non-null   float64\n",
      " 17  Gleason Score, Highest Reported (NLP)   3272 non-null   float64\n",
      " 18  Gleason Score Reported on Sample (NLP)  2110 non-null   float64\n",
      " 19  HER2                                    5392 non-null   object \n",
      " 20  History for Positive PD-L1 (NLP)        7051 non-null   object \n",
      " 21  HR                                      5392 non-null   object \n",
      " 22  ICD-O Histology Description             25040 non-null  object \n",
      " 23  Tumor Site: Intra Abdominal             25040 non-null  object \n",
      " 24  Tumor Site: Liver (NLP)                 25040 non-null  object \n",
      " 25  Tumor Site: Lung (NLP)                  25040 non-null  object \n",
      " 26  Tumor Site: Lymph Node (NLP)            25040 non-null  object \n",
      " 27  Metastatic Site                         8834 non-null   object \n",
      " 28  MSI Comment                             19343 non-null  object \n",
      " 29  MSI Score                               24487 non-null  float64\n",
      " 30  MSI Type                                24486 non-null  object \n",
      " 31  Mutation Count                          23862 non-null  float64\n",
      " 32  Number of Tumor Registry Entries        25040 non-null  int64  \n",
      " 33  Oncotree Code                           25040 non-null  object \n",
      " 34  Overall Survival (Months)               25040 non-null  float64\n",
      " 35  Overall Survival Status                 25040 non-null  object \n",
      " 36  Tumor Site: Other (NLP)                 25040 non-null  object \n",
      " 37  Pathological Group                      17767 non-null  object \n",
      " 38  Sample PD-L1 Positive (NLP)             3526 non-null   object \n",
      " 39  Tumor Site: Pleura (NLP)                25040 non-null  object \n",
      " 40  Primary Tumor Site                      25040 non-null  object \n",
      " 41  Prior Treatment to MSK (NLP)            25040 non-null  object \n",
      " 42  Race                                    25040 non-null  object \n",
      " 43  Tumor Site: Reproductive Organs (NLP)   25040 non-null  object \n",
      " 44  Sample Class                            25040 non-null  object \n",
      " 45  Number of Samples Per Patient           25040 non-null  int64  \n",
      " 46  Sample coverage                         25040 non-null  int64  \n",
      " 47  Sample Type                             25040 non-null  object \n",
      " 48  Smoking History (NLP)                   25040 non-null  object \n",
      " 49  Somatic Status                          25040 non-null  object \n",
      " 50  Stage (Highest Recorded)                25040 non-null  object \n",
      " 51  TMB (nonsynonymous)                     25040 non-null  float64\n",
      " 52  Tumor Purity                            24454 non-null  float64\n",
      "dtypes: float64(10), int64(3), object(40)\n",
      "memory usage: 10.1+ MB\n"
     ]
    }
   ],
   "source": [
    "#Dataset overview\n",
    "df.info()"
   ]
  },
  {
   "cell_type": "code",
   "execution_count": 396,
   "id": "32ae0bef",
   "metadata": {},
   "outputs": [
    {
     "data": {
      "text/plain": [
       "(25040, 53)"
      ]
     },
     "execution_count": 396,
     "metadata": {},
     "output_type": "execute_result"
    }
   ],
   "source": [
    "# columns vrs Rows\n",
    "df.shape"
   ]
  },
  {
   "cell_type": "markdown",
   "id": "25f6f96b",
   "metadata": {},
   "source": [
    "This shows the dataset has mostly float and object data. They are 25040 rows and 52 columns. The rows and columns will need to be selected and filtered to reduce the dataset and focus on Pancreatic cancer."
   ]
  },
  {
   "cell_type": "code",
   "execution_count": 397,
   "id": "2e78afb6",
   "metadata": {},
   "outputs": [
    {
     "data": {
      "application/vnd.microsoft.datawrangler.viewer.v0+json": {
       "columns": [
        {
         "name": "index",
         "rawType": "object",
         "type": "string"
        },
        {
         "name": "Current Age",
         "rawType": "float64",
         "type": "float"
        },
        {
         "name": "Fraction Genome Altered",
         "rawType": "float64",
         "type": "float"
        },
        {
         "name": "Gleason Score, 1st Reported (NLP)",
         "rawType": "float64",
         "type": "float"
        },
        {
         "name": "Gleason Score, Highest Reported (NLP)",
         "rawType": "float64",
         "type": "float"
        },
        {
         "name": "Gleason Score Reported on Sample (NLP)",
         "rawType": "float64",
         "type": "float"
        },
        {
         "name": "MSI Score",
         "rawType": "float64",
         "type": "float"
        },
        {
         "name": "Mutation Count",
         "rawType": "float64",
         "type": "float"
        },
        {
         "name": "Number of Tumor Registry Entries",
         "rawType": "float64",
         "type": "float"
        },
        {
         "name": "Overall Survival (Months)",
         "rawType": "float64",
         "type": "float"
        },
        {
         "name": "Number of Samples Per Patient",
         "rawType": "float64",
         "type": "float"
        },
        {
         "name": "Sample coverage",
         "rawType": "float64",
         "type": "float"
        },
        {
         "name": "TMB (nonsynonymous)",
         "rawType": "float64",
         "type": "float"
        },
        {
         "name": "Tumor Purity",
         "rawType": "float64",
         "type": "float"
        }
       ],
       "ref": "5f5d24dd-1c4a-4716-be9e-a7cc9dfc2fb4",
       "rows": [
        [
         "count",
         "25037.0",
         "24870.0",
         "3272.0",
         "3272.0",
         "2110.0",
         "24487.0",
         "23862.0",
         "25040.0",
         "25040.0",
         "25040.0",
         "25040.0",
         "25040.0",
         "24454.0"
        ],
        [
         "mean",
         "65.47665455126413",
         "0.18030942501005434",
         "7.845354523227384",
         "7.981662591687042",
         "8.012322274881516",
         "1.4386503042430423",
         "8.72575643282206",
         "1.3157348242811502",
         "32.128503457563546",
         "1.0071884984025559",
         "609.1130990415336",
         "7.25821609012918",
         "36.41445162345629"
        ],
        [
         "std",
         "12.683747106783784",
         "0.18551400746935348",
         "1.0221857801340488",
         "0.9764734424591263",
         "0.9425608059196652",
         "5.004455288145803",
         "19.416691109403963",
         "0.6871792802484499",
         "25.712180877492393",
         "0.0844814116926404",
         "213.75579726499154",
         "16.37545248100537",
         "19.201781196767797"
        ],
        [
         "min",
         "10.0",
         "0.0",
         "6.0",
         "6.0",
         "6.0",
         "-1.0",
         "1.0",
         "0.0",
         "0.032876676",
         "1.0",
         "23.0",
         "0.0",
         "0.0"
        ],
        [
         "25%",
         "57.0",
         "0.0211",
         "7.0",
         "7.0",
         "7.0",
         "0.02",
         "3.0",
         "1.0",
         "11.14519327",
         "1.0",
         "470.0",
         "2.46104171",
         "20.0"
        ],
        [
         "50%",
         "67.0",
         "0.1258",
         "8.0",
         "8.0",
         "8.0",
         "0.23",
         "5.0",
         "1.0",
         "24.65750722",
         "1.0",
         "598.0",
         "4.101736183",
         "30.0"
        ],
        [
         "75%",
         "75.0",
         "0.2839",
         "9.0",
         "9.0",
         "9.0",
         "0.9",
         "8.0",
         "1.0",
         "49.18350774",
         "1.0",
         "737.0",
         "6.91758476",
         "50.0"
        ],
        [
         "max",
         "89.0",
         "1.0",
         "10.0",
         "10.0",
         "10.0",
         "53.53",
         "696.0",
         "10.0",
         "118.4546647",
         "2.0",
         "2610.0",
         "570.9616767",
         "95.0"
        ]
       ],
       "shape": {
        "columns": 13,
        "rows": 8
       }
      },
      "text/html": [
       "<div>\n",
       "<style scoped>\n",
       "    .dataframe tbody tr th:only-of-type {\n",
       "        vertical-align: middle;\n",
       "    }\n",
       "\n",
       "    .dataframe tbody tr th {\n",
       "        vertical-align: top;\n",
       "    }\n",
       "\n",
       "    .dataframe thead th {\n",
       "        text-align: right;\n",
       "    }\n",
       "</style>\n",
       "<table border=\"1\" class=\"dataframe\">\n",
       "  <thead>\n",
       "    <tr style=\"text-align: right;\">\n",
       "      <th></th>\n",
       "      <th>Current Age</th>\n",
       "      <th>Fraction Genome Altered</th>\n",
       "      <th>Gleason Score, 1st Reported (NLP)</th>\n",
       "      <th>Gleason Score, Highest Reported (NLP)</th>\n",
       "      <th>Gleason Score Reported on Sample (NLP)</th>\n",
       "      <th>MSI Score</th>\n",
       "      <th>Mutation Count</th>\n",
       "      <th>Number of Tumor Registry Entries</th>\n",
       "      <th>Overall Survival (Months)</th>\n",
       "      <th>Number of Samples Per Patient</th>\n",
       "      <th>Sample coverage</th>\n",
       "      <th>TMB (nonsynonymous)</th>\n",
       "      <th>Tumor Purity</th>\n",
       "    </tr>\n",
       "  </thead>\n",
       "  <tbody>\n",
       "    <tr>\n",
       "      <th>count</th>\n",
       "      <td>25037.000000</td>\n",
       "      <td>24870.000000</td>\n",
       "      <td>3272.000000</td>\n",
       "      <td>3272.000000</td>\n",
       "      <td>2110.000000</td>\n",
       "      <td>24487.000000</td>\n",
       "      <td>23862.000000</td>\n",
       "      <td>25040.000000</td>\n",
       "      <td>25040.000000</td>\n",
       "      <td>25040.000000</td>\n",
       "      <td>25040.000000</td>\n",
       "      <td>25040.000000</td>\n",
       "      <td>24454.000000</td>\n",
       "    </tr>\n",
       "    <tr>\n",
       "      <th>mean</th>\n",
       "      <td>65.476655</td>\n",
       "      <td>0.180309</td>\n",
       "      <td>7.845355</td>\n",
       "      <td>7.981663</td>\n",
       "      <td>8.012322</td>\n",
       "      <td>1.438650</td>\n",
       "      <td>8.725756</td>\n",
       "      <td>1.315735</td>\n",
       "      <td>32.128503</td>\n",
       "      <td>1.007188</td>\n",
       "      <td>609.113099</td>\n",
       "      <td>7.258216</td>\n",
       "      <td>36.414452</td>\n",
       "    </tr>\n",
       "    <tr>\n",
       "      <th>std</th>\n",
       "      <td>12.683747</td>\n",
       "      <td>0.185514</td>\n",
       "      <td>1.022186</td>\n",
       "      <td>0.976473</td>\n",
       "      <td>0.942561</td>\n",
       "      <td>5.004455</td>\n",
       "      <td>19.416691</td>\n",
       "      <td>0.687179</td>\n",
       "      <td>25.712181</td>\n",
       "      <td>0.084481</td>\n",
       "      <td>213.755797</td>\n",
       "      <td>16.375452</td>\n",
       "      <td>19.201781</td>\n",
       "    </tr>\n",
       "    <tr>\n",
       "      <th>min</th>\n",
       "      <td>10.000000</td>\n",
       "      <td>0.000000</td>\n",
       "      <td>6.000000</td>\n",
       "      <td>6.000000</td>\n",
       "      <td>6.000000</td>\n",
       "      <td>-1.000000</td>\n",
       "      <td>1.000000</td>\n",
       "      <td>0.000000</td>\n",
       "      <td>0.032877</td>\n",
       "      <td>1.000000</td>\n",
       "      <td>23.000000</td>\n",
       "      <td>0.000000</td>\n",
       "      <td>0.000000</td>\n",
       "    </tr>\n",
       "    <tr>\n",
       "      <th>25%</th>\n",
       "      <td>57.000000</td>\n",
       "      <td>0.021100</td>\n",
       "      <td>7.000000</td>\n",
       "      <td>7.000000</td>\n",
       "      <td>7.000000</td>\n",
       "      <td>0.020000</td>\n",
       "      <td>3.000000</td>\n",
       "      <td>1.000000</td>\n",
       "      <td>11.145193</td>\n",
       "      <td>1.000000</td>\n",
       "      <td>470.000000</td>\n",
       "      <td>2.461042</td>\n",
       "      <td>20.000000</td>\n",
       "    </tr>\n",
       "    <tr>\n",
       "      <th>50%</th>\n",
       "      <td>67.000000</td>\n",
       "      <td>0.125800</td>\n",
       "      <td>8.000000</td>\n",
       "      <td>8.000000</td>\n",
       "      <td>8.000000</td>\n",
       "      <td>0.230000</td>\n",
       "      <td>5.000000</td>\n",
       "      <td>1.000000</td>\n",
       "      <td>24.657507</td>\n",
       "      <td>1.000000</td>\n",
       "      <td>598.000000</td>\n",
       "      <td>4.101736</td>\n",
       "      <td>30.000000</td>\n",
       "    </tr>\n",
       "    <tr>\n",
       "      <th>75%</th>\n",
       "      <td>75.000000</td>\n",
       "      <td>0.283900</td>\n",
       "      <td>9.000000</td>\n",
       "      <td>9.000000</td>\n",
       "      <td>9.000000</td>\n",
       "      <td>0.900000</td>\n",
       "      <td>8.000000</td>\n",
       "      <td>1.000000</td>\n",
       "      <td>49.183508</td>\n",
       "      <td>1.000000</td>\n",
       "      <td>737.000000</td>\n",
       "      <td>6.917585</td>\n",
       "      <td>50.000000</td>\n",
       "    </tr>\n",
       "    <tr>\n",
       "      <th>max</th>\n",
       "      <td>89.000000</td>\n",
       "      <td>1.000000</td>\n",
       "      <td>10.000000</td>\n",
       "      <td>10.000000</td>\n",
       "      <td>10.000000</td>\n",
       "      <td>53.530000</td>\n",
       "      <td>696.000000</td>\n",
       "      <td>10.000000</td>\n",
       "      <td>118.454665</td>\n",
       "      <td>2.000000</td>\n",
       "      <td>2610.000000</td>\n",
       "      <td>570.961677</td>\n",
       "      <td>95.000000</td>\n",
       "    </tr>\n",
       "  </tbody>\n",
       "</table>\n",
       "</div>"
      ],
      "text/plain": [
       "        Current Age  Fraction Genome Altered  \\\n",
       "count  25037.000000             24870.000000   \n",
       "mean      65.476655                 0.180309   \n",
       "std       12.683747                 0.185514   \n",
       "min       10.000000                 0.000000   \n",
       "25%       57.000000                 0.021100   \n",
       "50%       67.000000                 0.125800   \n",
       "75%       75.000000                 0.283900   \n",
       "max       89.000000                 1.000000   \n",
       "\n",
       "       Gleason Score, 1st Reported (NLP)  \\\n",
       "count                        3272.000000   \n",
       "mean                            7.845355   \n",
       "std                             1.022186   \n",
       "min                             6.000000   \n",
       "25%                             7.000000   \n",
       "50%                             8.000000   \n",
       "75%                             9.000000   \n",
       "max                            10.000000   \n",
       "\n",
       "       Gleason Score, Highest Reported (NLP)  \\\n",
       "count                            3272.000000   \n",
       "mean                                7.981663   \n",
       "std                                 0.976473   \n",
       "min                                 6.000000   \n",
       "25%                                 7.000000   \n",
       "50%                                 8.000000   \n",
       "75%                                 9.000000   \n",
       "max                                10.000000   \n",
       "\n",
       "       Gleason Score Reported on Sample (NLP)     MSI Score  Mutation Count  \\\n",
       "count                             2110.000000  24487.000000    23862.000000   \n",
       "mean                                 8.012322      1.438650        8.725756   \n",
       "std                                  0.942561      5.004455       19.416691   \n",
       "min                                  6.000000     -1.000000        1.000000   \n",
       "25%                                  7.000000      0.020000        3.000000   \n",
       "50%                                  8.000000      0.230000        5.000000   \n",
       "75%                                  9.000000      0.900000        8.000000   \n",
       "max                                 10.000000     53.530000      696.000000   \n",
       "\n",
       "       Number of Tumor Registry Entries  Overall Survival (Months)  \\\n",
       "count                      25040.000000               25040.000000   \n",
       "mean                           1.315735                  32.128503   \n",
       "std                            0.687179                  25.712181   \n",
       "min                            0.000000                   0.032877   \n",
       "25%                            1.000000                  11.145193   \n",
       "50%                            1.000000                  24.657507   \n",
       "75%                            1.000000                  49.183508   \n",
       "max                           10.000000                 118.454665   \n",
       "\n",
       "       Number of Samples Per Patient  Sample coverage  TMB (nonsynonymous)  \\\n",
       "count                   25040.000000     25040.000000         25040.000000   \n",
       "mean                        1.007188       609.113099             7.258216   \n",
       "std                         0.084481       213.755797            16.375452   \n",
       "min                         1.000000        23.000000             0.000000   \n",
       "25%                         1.000000       470.000000             2.461042   \n",
       "50%                         1.000000       598.000000             4.101736   \n",
       "75%                         1.000000       737.000000             6.917585   \n",
       "max                         2.000000      2610.000000           570.961677   \n",
       "\n",
       "       Tumor Purity  \n",
       "count  24454.000000  \n",
       "mean      36.414452  \n",
       "std       19.201781  \n",
       "min        0.000000  \n",
       "25%       20.000000  \n",
       "50%       30.000000  \n",
       "75%       50.000000  \n",
       "max       95.000000  "
      ]
     },
     "execution_count": 397,
     "metadata": {},
     "output_type": "execute_result"
    }
   ],
   "source": [
    "#Overview of all Numeric columns\n",
    "df.describe()"
   ]
  },
  {
   "cell_type": "markdown",
   "id": "b6038ab4",
   "metadata": {},
   "source": [
    "Understanding the all columns in the dataset:\n",
    "\n",
    "- The Current Age: Patient age ranges from 10 to 89, with an average of 65.5 years.\n",
    "\n",
    "-  Fraction Genome Altered: Represents how much of the genome is altered, ranging from 0 to 1.\n",
    "\n",
    "-  Gleason Scores  Indicates prostate cancer severity generally ranges from 6 to 10.\n",
    "\n",
    "-  MSI Score: Microsatellite Instability score.\n",
    "\n",
    "- Mutation Count: Mutation events, ranging widely from 1 to 696.\n",
    "\n",
    "- Number of Tumor Registry Entries: Most patients have 1, with a max of 10.\n",
    "\n",
    "- Overall Survival : Ranges from near 0 to over 118 months.\n",
    "\n",
    "- Number of Samples Per Patient: Usually 1, some with 2.\n",
    "\n",
    "- Sample Coverage: Mean of 609, max up to 2610.\n",
    "\n",
    "- (TMB) Tumor Mutational Burden mean of 7.26\n",
    "\n",
    "- Tumor Purity: Ranges from 0 to 95%, with a mean of 36.4%."
   ]
  },
  {
   "cell_type": "markdown",
   "id": "e808edec",
   "metadata": {},
   "source": [
    "## 2. Data Cleaning and preprocessing"
   ]
  },
  {
   "cell_type": "markdown",
   "id": "615d6e82",
   "metadata": {},
   "source": [
    "We are focusing specifically on pancreatic cancer by filtering the dataset to include only patients diagnosed with this cancer type."
   ]
  },
  {
   "cell_type": "code",
   "execution_count": 398,
   "id": "e320d176",
   "metadata": {},
   "outputs": [
    {
     "name": "stdout",
     "output_type": "stream",
     "text": [
      "['Breast Cancer' 'Non-Small Cell Lung Cancer' 'Colorectal Cancer'\n",
      " 'Prostate Cancer' 'Pancreatic Cancer']\n"
     ]
    }
   ],
   "source": [
    "# Cancer types found in the dataset.\n",
    "print(df['Cancer Type'].unique())"
   ]
  },
  {
   "cell_type": "code",
   "execution_count": 399,
   "id": "91f682cb",
   "metadata": {},
   "outputs": [
    {
     "name": "stdout",
     "output_type": "stream",
     "text": [
      "['Pancreatic Cancer']\n"
     ]
    }
   ],
   "source": [
    "# Filter for Pancreatic cancer \n",
    "\n",
    "df_filtered = df[df['Cancer Type'] == 'Pancreatic Cancer'].copy()\n",
    "\n",
    "#Confirm the filter\n",
    "df_filtered.reset_index(drop=True, inplace=True)\n",
    "print(df_filtered['Cancer Type'].unique())"
   ]
  },
  {
   "cell_type": "code",
   "execution_count": 400,
   "id": "4fa8f92b",
   "metadata": {},
   "outputs": [
    {
     "data": {
      "text/plain": [
       "(3109, 53)"
      ]
     },
     "execution_count": 400,
     "metadata": {},
     "output_type": "execute_result"
    }
   ],
   "source": [
    "# New columns and rows\n",
    "df_filtered.shape"
   ]
  },
  {
   "cell_type": "code",
   "execution_count": 401,
   "id": "dae7df8e",
   "metadata": {},
   "outputs": [
    {
     "name": "stdout",
     "output_type": "stream",
     "text": [
      "Unique Pancreatic Cancer Types:\n"
     ]
    },
    {
     "data": {
      "text/plain": [
       "array(['Pancreatic Adenocarcinoma', 'Pancreatic Neuroendocrine Tumor',\n",
       "       'Acinar Cell Carcinoma of the Pancreas',\n",
       "       'Adenosquamous Carcinoma of the Pancreas',\n",
       "       'Solid Pseudopapillary Neoplasm of the Pancreas',\n",
       "       'Undifferentiated Carcinoma of the Pancreas',\n",
       "       'Mucinous Cystic Neoplasm', 'Pancreatoblastoma',\n",
       "       'Intraductal Papillary Mucinous Neoplasm',\n",
       "       'Osteoclastic Giant Cell Tumor',\n",
       "       'Pancreatic Neuroendocrine Carcinoma',\n",
       "       'Intraductal Tubulopapillary Neoplasm'], dtype=object)"
      ]
     },
     "execution_count": 401,
     "metadata": {},
     "output_type": "execute_result"
    }
   ],
   "source": [
    "#Overview of the pancreatic_cancer_types\n",
    "\n",
    "pancreatic_cancer_types = df_filtered['Cancer Type Detailed'].unique()\n",
    "\n",
    "print(\"Unique Pancreatic Cancer Types:\")\n",
    "pancreatic_cancer_types"
   ]
  },
  {
   "cell_type": "markdown",
   "id": "50ec43d9",
   "metadata": {},
   "source": [
    "There are 12 unique Pancreatic cancer types."
   ]
  },
  {
   "cell_type": "code",
   "execution_count": 402,
   "id": "66c5bbab",
   "metadata": {},
   "outputs": [
    {
     "name": "stdout",
     "output_type": "stream",
     "text": [
      "Number of patients per Pancreatic Cancer type:\n"
     ]
    },
    {
     "data": {
      "application/vnd.microsoft.datawrangler.viewer.v0+json": {
       "columns": [
        {
         "name": "index",
         "rawType": "object",
         "type": "string"
        },
        {
         "name": "Cancer Type Detailed",
         "rawType": "int64",
         "type": "integer"
        }
       ],
       "ref": "c9398ca0-2110-479e-9a50-ba51e10ab00c",
       "rows": [
        [
         "Pancreatic Adenocarcinoma",
         "2703"
        ],
        [
         "Pancreatic Neuroendocrine Tumor",
         "259"
        ],
        [
         "Adenosquamous Carcinoma of the Pancreas",
         "50"
        ],
        [
         "Acinar Cell Carcinoma of the Pancreas",
         "43"
        ],
        [
         "Undifferentiated Carcinoma of the Pancreas",
         "25"
        ],
        [
         "Intraductal Papillary Mucinous Neoplasm",
         "10"
        ],
        [
         "Pancreatic Neuroendocrine Carcinoma",
         "7"
        ],
        [
         "Solid Pseudopapillary Neoplasm of the Pancreas",
         "5"
        ],
        [
         "Pancreatoblastoma",
         "3"
        ],
        [
         "Mucinous Cystic Neoplasm",
         "2"
        ],
        [
         "Osteoclastic Giant Cell Tumor",
         "1"
        ],
        [
         "Intraductal Tubulopapillary Neoplasm",
         "1"
        ]
       ],
       "shape": {
        "columns": 1,
        "rows": 12
       }
      },
      "text/plain": [
       "Pancreatic Adenocarcinoma                         2703\n",
       "Pancreatic Neuroendocrine Tumor                    259\n",
       "Adenosquamous Carcinoma of the Pancreas             50\n",
       "Acinar Cell Carcinoma of the Pancreas               43\n",
       "Undifferentiated Carcinoma of the Pancreas          25\n",
       "Intraductal Papillary Mucinous Neoplasm             10\n",
       "Pancreatic Neuroendocrine Carcinoma                  7\n",
       "Solid Pseudopapillary Neoplasm of the Pancreas       5\n",
       "Pancreatoblastoma                                    3\n",
       "Mucinous Cystic Neoplasm                             2\n",
       "Osteoclastic Giant Cell Tumor                        1\n",
       "Intraductal Tubulopapillary Neoplasm                 1\n",
       "Name: Cancer Type Detailed, dtype: int64"
      ]
     },
     "execution_count": 402,
     "metadata": {},
     "output_type": "execute_result"
    }
   ],
   "source": [
    "#Count of patients with pancreatic cancer\n",
    "\n",
    "cancer_type_counts = df_filtered['Cancer Type Detailed'].value_counts()\n",
    "\n",
    "print(\"Number of patients per Pancreatic Cancer type:\")\n",
    "cancer_type_counts"
   ]
  },
  {
   "cell_type": "markdown",
   "id": "3938262d",
   "metadata": {},
   "source": [
    "As we can note the most common type of pancreatic cancer is Adenocarcinoma with 2,703 patients."
   ]
  },
  {
   "cell_type": "markdown",
   "id": "c0d212f9",
   "metadata": {},
   "source": [
    "The data set is large with 53 columns, we decided to drop certain columns to focus on what will be used for prediction and EDA. The target variable being the 'Overall Survival Status' and the rest are features."
   ]
  },
  {
   "cell_type": "code",
   "execution_count": 403,
   "id": "195f1eca",
   "metadata": {},
   "outputs": [
    {
     "data": {
      "application/vnd.microsoft.datawrangler.viewer.v0+json": {
       "columns": [
        {
         "name": "index",
         "rawType": "int64",
         "type": "integer"
        },
        {
         "name": "Patient ID",
         "rawType": "object",
         "type": "string"
        },
        {
         "name": "Sample ID",
         "rawType": "object",
         "type": "string"
        },
        {
         "name": "Cancer Type",
         "rawType": "object",
         "type": "string"
        },
        {
         "name": "Cancer Type Detailed",
         "rawType": "object",
         "type": "string"
        },
        {
         "name": "Primary Tumor Site",
         "rawType": "object",
         "type": "string"
        },
        {
         "name": "Overall Survival Status",
         "rawType": "object",
         "type": "string"
        },
        {
         "name": "Overall Survival (Months)",
         "rawType": "float64",
         "type": "float"
        },
        {
         "name": "Current Age",
         "rawType": "float64",
         "type": "float"
        },
        {
         "name": "Sex",
         "rawType": "object",
         "type": "string"
        },
        {
         "name": "Race",
         "rawType": "object",
         "type": "string"
        },
        {
         "name": "Stage (Highest Recorded)",
         "rawType": "object",
         "type": "string"
        },
        {
         "name": "Ethnicity",
         "rawType": "object",
         "type": "string"
        },
        {
         "name": "Smoking History (NLP)",
         "rawType": "object",
         "type": "string"
        },
        {
         "name": "Sample Type",
         "rawType": "object",
         "type": "string"
        },
        {
         "name": "Metastatic Site",
         "rawType": "object",
         "type": "string"
        },
        {
         "name": "TMB (nonsynonymous)",
         "rawType": "float64",
         "type": "float"
        },
        {
         "name": "Tumor Purity",
         "rawType": "float64",
         "type": "float"
        },
        {
         "name": "Fraction Genome Altered",
         "rawType": "float64",
         "type": "float"
        },
        {
         "name": "MSI Score",
         "rawType": "float64",
         "type": "float"
        },
        {
         "name": "Mutation Count",
         "rawType": "float64",
         "type": "float"
        },
        {
         "name": "Sample coverage",
         "rawType": "int64",
         "type": "integer"
        }
       ],
       "ref": "c402682f-aefc-405b-b1a1-7b97ae842721",
       "rows": [
        [
         "0",
         "P-0000142",
         "P-0000142-T01-IM3",
         "Pancreatic Cancer",
         "Pancreatic Adenocarcinoma",
         "Pancreas",
         "1:DECEASED",
         "8.810949248",
         "56.0",
         "Female",
         "White",
         "Stage 1-3",
         "Non-Spanish; Non-Hispanic",
         "Unknown",
         "Primary",
         null,
         "4.436621202",
         "40.0",
         "0.2681",
         "0.0",
         "4.0",
         "639"
        ],
        [
         "1",
         "P-0000314",
         "P-0000314-T01-IM3",
         "Pancreatic Cancer",
         "Pancreatic Adenocarcinoma",
         "Pancreas",
         "1:DECEASED",
         "33.73146988",
         "47.0",
         "Male",
         "White",
         "Stage 4",
         "Non-Spanish; Non-Hispanic",
         "Former/Current Smoker",
         "Primary",
         null,
         "7.764087104",
         "90.0",
         "0.361",
         "1.29",
         "7.0",
         "883"
        ],
        [
         "2",
         "P-0000421",
         "P-0000421-T01-IM3",
         "Pancreatic Cancer",
         "Pancreatic Adenocarcinoma",
         "Pancreas",
         "1:DECEASED",
         "25.05202734",
         "69.0",
         "Male",
         "White",
         "Stage 4",
         "Non-Spanish; Non-Hispanic",
         "Never",
         "Metastasis",
         "Lung",
         "0.0",
         "20.0",
         "0.0005",
         "0.08",
         null,
         "452"
        ],
        [
         "3",
         "P-0000783",
         "P-0000783-T01-IM3",
         "Pancreatic Cancer",
         "Pancreatic Adenocarcinoma",
         "Pancreas",
         "1:DECEASED",
         "3.057530896",
         "64.0",
         "Male",
         "White",
         "Stage 1-3",
         "Non-Spanish; Non-Hispanic",
         "Unknown",
         "Primary",
         null,
         "5.545776503",
         "80.0",
         "0.4135",
         "0.47",
         "5.0",
         "399"
        ],
        [
         "4",
         "P-0000825",
         "P-0000825-T04-IM7",
         "Pancreatic Cancer",
         "Pancreatic Adenocarcinoma",
         "Pancreas",
         "0:LIVING",
         "110.5313857",
         "65.0",
         "Female",
         "Black Or African American",
         "Stage 1-3",
         "Non-Spanish; Non-Hispanic",
         "Former/Current Smoker",
         "Primary",
         null,
         "6.562777893",
         "60.0",
         "0.2843",
         "0.54",
         "8.0",
         "518"
        ]
       ],
       "shape": {
        "columns": 21,
        "rows": 5
       }
      },
      "text/html": [
       "<div>\n",
       "<style scoped>\n",
       "    .dataframe tbody tr th:only-of-type {\n",
       "        vertical-align: middle;\n",
       "    }\n",
       "\n",
       "    .dataframe tbody tr th {\n",
       "        vertical-align: top;\n",
       "    }\n",
       "\n",
       "    .dataframe thead th {\n",
       "        text-align: right;\n",
       "    }\n",
       "</style>\n",
       "<table border=\"1\" class=\"dataframe\">\n",
       "  <thead>\n",
       "    <tr style=\"text-align: right;\">\n",
       "      <th></th>\n",
       "      <th>Patient ID</th>\n",
       "      <th>Sample ID</th>\n",
       "      <th>Cancer Type</th>\n",
       "      <th>Cancer Type Detailed</th>\n",
       "      <th>Primary Tumor Site</th>\n",
       "      <th>Overall Survival Status</th>\n",
       "      <th>Overall Survival (Months)</th>\n",
       "      <th>Current Age</th>\n",
       "      <th>Sex</th>\n",
       "      <th>Race</th>\n",
       "      <th>...</th>\n",
       "      <th>Ethnicity</th>\n",
       "      <th>Smoking History (NLP)</th>\n",
       "      <th>Sample Type</th>\n",
       "      <th>Metastatic Site</th>\n",
       "      <th>TMB (nonsynonymous)</th>\n",
       "      <th>Tumor Purity</th>\n",
       "      <th>Fraction Genome Altered</th>\n",
       "      <th>MSI Score</th>\n",
       "      <th>Mutation Count</th>\n",
       "      <th>Sample coverage</th>\n",
       "    </tr>\n",
       "  </thead>\n",
       "  <tbody>\n",
       "    <tr>\n",
       "      <th>0</th>\n",
       "      <td>P-0000142</td>\n",
       "      <td>P-0000142-T01-IM3</td>\n",
       "      <td>Pancreatic Cancer</td>\n",
       "      <td>Pancreatic Adenocarcinoma</td>\n",
       "      <td>Pancreas</td>\n",
       "      <td>1:DECEASED</td>\n",
       "      <td>8.810949</td>\n",
       "      <td>56.0</td>\n",
       "      <td>Female</td>\n",
       "      <td>White</td>\n",
       "      <td>...</td>\n",
       "      <td>Non-Spanish; Non-Hispanic</td>\n",
       "      <td>Unknown</td>\n",
       "      <td>Primary</td>\n",
       "      <td>NaN</td>\n",
       "      <td>4.436621</td>\n",
       "      <td>40.0</td>\n",
       "      <td>0.2681</td>\n",
       "      <td>0.00</td>\n",
       "      <td>4.0</td>\n",
       "      <td>639</td>\n",
       "    </tr>\n",
       "    <tr>\n",
       "      <th>1</th>\n",
       "      <td>P-0000314</td>\n",
       "      <td>P-0000314-T01-IM3</td>\n",
       "      <td>Pancreatic Cancer</td>\n",
       "      <td>Pancreatic Adenocarcinoma</td>\n",
       "      <td>Pancreas</td>\n",
       "      <td>1:DECEASED</td>\n",
       "      <td>33.731470</td>\n",
       "      <td>47.0</td>\n",
       "      <td>Male</td>\n",
       "      <td>White</td>\n",
       "      <td>...</td>\n",
       "      <td>Non-Spanish; Non-Hispanic</td>\n",
       "      <td>Former/Current Smoker</td>\n",
       "      <td>Primary</td>\n",
       "      <td>NaN</td>\n",
       "      <td>7.764087</td>\n",
       "      <td>90.0</td>\n",
       "      <td>0.3610</td>\n",
       "      <td>1.29</td>\n",
       "      <td>7.0</td>\n",
       "      <td>883</td>\n",
       "    </tr>\n",
       "    <tr>\n",
       "      <th>2</th>\n",
       "      <td>P-0000421</td>\n",
       "      <td>P-0000421-T01-IM3</td>\n",
       "      <td>Pancreatic Cancer</td>\n",
       "      <td>Pancreatic Adenocarcinoma</td>\n",
       "      <td>Pancreas</td>\n",
       "      <td>1:DECEASED</td>\n",
       "      <td>25.052027</td>\n",
       "      <td>69.0</td>\n",
       "      <td>Male</td>\n",
       "      <td>White</td>\n",
       "      <td>...</td>\n",
       "      <td>Non-Spanish; Non-Hispanic</td>\n",
       "      <td>Never</td>\n",
       "      <td>Metastasis</td>\n",
       "      <td>Lung</td>\n",
       "      <td>0.000000</td>\n",
       "      <td>20.0</td>\n",
       "      <td>0.0005</td>\n",
       "      <td>0.08</td>\n",
       "      <td>NaN</td>\n",
       "      <td>452</td>\n",
       "    </tr>\n",
       "    <tr>\n",
       "      <th>3</th>\n",
       "      <td>P-0000783</td>\n",
       "      <td>P-0000783-T01-IM3</td>\n",
       "      <td>Pancreatic Cancer</td>\n",
       "      <td>Pancreatic Adenocarcinoma</td>\n",
       "      <td>Pancreas</td>\n",
       "      <td>1:DECEASED</td>\n",
       "      <td>3.057531</td>\n",
       "      <td>64.0</td>\n",
       "      <td>Male</td>\n",
       "      <td>White</td>\n",
       "      <td>...</td>\n",
       "      <td>Non-Spanish; Non-Hispanic</td>\n",
       "      <td>Unknown</td>\n",
       "      <td>Primary</td>\n",
       "      <td>NaN</td>\n",
       "      <td>5.545777</td>\n",
       "      <td>80.0</td>\n",
       "      <td>0.4135</td>\n",
       "      <td>0.47</td>\n",
       "      <td>5.0</td>\n",
       "      <td>399</td>\n",
       "    </tr>\n",
       "    <tr>\n",
       "      <th>4</th>\n",
       "      <td>P-0000825</td>\n",
       "      <td>P-0000825-T04-IM7</td>\n",
       "      <td>Pancreatic Cancer</td>\n",
       "      <td>Pancreatic Adenocarcinoma</td>\n",
       "      <td>Pancreas</td>\n",
       "      <td>0:LIVING</td>\n",
       "      <td>110.531386</td>\n",
       "      <td>65.0</td>\n",
       "      <td>Female</td>\n",
       "      <td>Black Or African American</td>\n",
       "      <td>...</td>\n",
       "      <td>Non-Spanish; Non-Hispanic</td>\n",
       "      <td>Former/Current Smoker</td>\n",
       "      <td>Primary</td>\n",
       "      <td>NaN</td>\n",
       "      <td>6.562778</td>\n",
       "      <td>60.0</td>\n",
       "      <td>0.2843</td>\n",
       "      <td>0.54</td>\n",
       "      <td>8.0</td>\n",
       "      <td>518</td>\n",
       "    </tr>\n",
       "  </tbody>\n",
       "</table>\n",
       "<p>5 rows × 21 columns</p>\n",
       "</div>"
      ],
      "text/plain": [
       "  Patient ID          Sample ID        Cancer Type       Cancer Type Detailed  \\\n",
       "0  P-0000142  P-0000142-T01-IM3  Pancreatic Cancer  Pancreatic Adenocarcinoma   \n",
       "1  P-0000314  P-0000314-T01-IM3  Pancreatic Cancer  Pancreatic Adenocarcinoma   \n",
       "2  P-0000421  P-0000421-T01-IM3  Pancreatic Cancer  Pancreatic Adenocarcinoma   \n",
       "3  P-0000783  P-0000783-T01-IM3  Pancreatic Cancer  Pancreatic Adenocarcinoma   \n",
       "4  P-0000825  P-0000825-T04-IM7  Pancreatic Cancer  Pancreatic Adenocarcinoma   \n",
       "\n",
       "  Primary Tumor Site Overall Survival Status  Overall Survival (Months)  \\\n",
       "0           Pancreas              1:DECEASED                   8.810949   \n",
       "1           Pancreas              1:DECEASED                  33.731470   \n",
       "2           Pancreas              1:DECEASED                  25.052027   \n",
       "3           Pancreas              1:DECEASED                   3.057531   \n",
       "4           Pancreas                0:LIVING                 110.531386   \n",
       "\n",
       "   Current Age     Sex                       Race  ...  \\\n",
       "0         56.0  Female                      White  ...   \n",
       "1         47.0    Male                      White  ...   \n",
       "2         69.0    Male                      White  ...   \n",
       "3         64.0    Male                      White  ...   \n",
       "4         65.0  Female  Black Or African American  ...   \n",
       "\n",
       "                   Ethnicity  Smoking History (NLP) Sample Type  \\\n",
       "0  Non-Spanish; Non-Hispanic                Unknown     Primary   \n",
       "1  Non-Spanish; Non-Hispanic  Former/Current Smoker     Primary   \n",
       "2  Non-Spanish; Non-Hispanic                  Never  Metastasis   \n",
       "3  Non-Spanish; Non-Hispanic                Unknown     Primary   \n",
       "4  Non-Spanish; Non-Hispanic  Former/Current Smoker     Primary   \n",
       "\n",
       "  Metastatic Site TMB (nonsynonymous)  Tumor Purity  Fraction Genome Altered  \\\n",
       "0             NaN            4.436621          40.0                   0.2681   \n",
       "1             NaN            7.764087          90.0                   0.3610   \n",
       "2            Lung            0.000000          20.0                   0.0005   \n",
       "3             NaN            5.545777          80.0                   0.4135   \n",
       "4             NaN            6.562778          60.0                   0.2843   \n",
       "\n",
       "   MSI Score  Mutation Count  Sample coverage  \n",
       "0       0.00             4.0              639  \n",
       "1       1.29             7.0              883  \n",
       "2       0.08             NaN              452  \n",
       "3       0.47             5.0              399  \n",
       "4       0.54             8.0              518  \n",
       "\n",
       "[5 rows x 21 columns]"
      ]
     },
     "execution_count": 403,
     "metadata": {},
     "output_type": "execute_result"
    }
   ],
   "source": [
    "# Dropping columns and focusing on the selected columns\n",
    "df_filtered = df_filtered[[\n",
    "    'Patient ID','Sample ID','Cancer Type','Cancer Type Detailed','Primary Tumor Site',\n",
    "    'Overall Survival Status','Overall Survival (Months)','Current Age','Sex','Race','Stage (Highest Recorded)',\n",
    "    'Ethnicity','Smoking History (NLP)','Sample Type','Metastatic Site','TMB (nonsynonymous)','Tumor Purity','Fraction Genome Altered',\n",
    "    'MSI Score','Mutation Count','Sample coverage'\n",
    "]]\n",
    "\n",
    "# The new dataset cleaned and filtered dataset\n",
    "df_filtered.head()\n"
   ]
  },
  {
   "cell_type": "code",
   "execution_count": 404,
   "id": "a1128a96",
   "metadata": {},
   "outputs": [
    {
     "data": {
      "text/plain": [
       "(3109, 21)"
      ]
     },
     "execution_count": 404,
     "metadata": {},
     "output_type": "execute_result"
    }
   ],
   "source": [
    "df_filtered.shape"
   ]
  },
  {
   "cell_type": "code",
   "execution_count": 405,
   "id": "c653484b",
   "metadata": {},
   "outputs": [
    {
     "data": {
      "application/vnd.microsoft.datawrangler.viewer.v0+json": {
       "columns": [
        {
         "name": "index",
         "rawType": "object",
         "type": "string"
        },
        {
         "name": "0",
         "rawType": "int64",
         "type": "integer"
        }
       ],
       "ref": "5abfe322-22c2-48f5-ba84-6173a93e9fb4",
       "rows": [
        [
         "Patient ID",
         "0"
        ],
        [
         "Sample ID",
         "0"
        ],
        [
         "Cancer Type",
         "0"
        ],
        [
         "Cancer Type Detailed",
         "0"
        ],
        [
         "Primary Tumor Site",
         "0"
        ],
        [
         "Overall Survival Status",
         "0"
        ],
        [
         "Overall Survival (Months)",
         "0"
        ],
        [
         "Current Age",
         "0"
        ],
        [
         "Sex",
         "0"
        ],
        [
         "Race",
         "0"
        ],
        [
         "Stage (Highest Recorded)",
         "0"
        ],
        [
         "Ethnicity",
         "0"
        ],
        [
         "Smoking History (NLP)",
         "0"
        ],
        [
         "Sample Type",
         "0"
        ],
        [
         "Metastatic Site",
         "1990"
        ],
        [
         "TMB (nonsynonymous)",
         "0"
        ],
        [
         "Tumor Purity",
         "27"
        ],
        [
         "Fraction Genome Altered",
         "11"
        ],
        [
         "MSI Score",
         "61"
        ],
        [
         "Mutation Count",
         "154"
        ],
        [
         "Sample coverage",
         "0"
        ]
       ],
       "shape": {
        "columns": 1,
        "rows": 21
       }
      },
      "text/plain": [
       "Patient ID                      0\n",
       "Sample ID                       0\n",
       "Cancer Type                     0\n",
       "Cancer Type Detailed            0\n",
       "Primary Tumor Site              0\n",
       "Overall Survival Status         0\n",
       "Overall Survival (Months)       0\n",
       "Current Age                     0\n",
       "Sex                             0\n",
       "Race                            0\n",
       "Stage (Highest Recorded)        0\n",
       "Ethnicity                       0\n",
       "Smoking History (NLP)           0\n",
       "Sample Type                     0\n",
       "Metastatic Site              1990\n",
       "TMB (nonsynonymous)             0\n",
       "Tumor Purity                   27\n",
       "Fraction Genome Altered        11\n",
       "MSI Score                      61\n",
       "Mutation Count                154\n",
       "Sample coverage                 0\n",
       "dtype: int64"
      ]
     },
     "execution_count": 405,
     "metadata": {},
     "output_type": "execute_result"
    }
   ],
   "source": [
    "# Finding Nulls and Missing entries\n",
    "df_filtered.isnull().sum()"
   ]
  },
  {
   "cell_type": "markdown",
   "id": "875415b7",
   "metadata": {},
   "source": [
    "The column with missing entries is the Tumor Purity, current Age , MSI Score, fraction genome altered, and mutation count. The Age null rows will be dropped and the Tumor with N/A as not to distort the dataset, the numeric columns such as MSI Score and Mutation count will be filled with the average."
   ]
  },
  {
   "cell_type": "code",
   "execution_count": 406,
   "id": "88415e45",
   "metadata": {},
   "outputs": [
    {
     "data": {
      "application/vnd.microsoft.datawrangler.viewer.v0+json": {
       "columns": [
        {
         "name": "index",
         "rawType": "object",
         "type": "string"
        },
        {
         "name": "0",
         "rawType": "int64",
         "type": "integer"
        }
       ],
       "ref": "3584bdd9-1bad-4c74-9985-7267edad5b1a",
       "rows": [
        [
         "Patient ID",
         "0"
        ],
        [
         "Sample ID",
         "0"
        ],
        [
         "Cancer Type",
         "0"
        ],
        [
         "Cancer Type Detailed",
         "0"
        ],
        [
         "Primary Tumor Site",
         "0"
        ],
        [
         "Overall Survival Status",
         "0"
        ],
        [
         "Overall Survival (Months)",
         "0"
        ],
        [
         "Current Age",
         "0"
        ],
        [
         "Sex",
         "0"
        ],
        [
         "Race",
         "0"
        ],
        [
         "Stage (Highest Recorded)",
         "0"
        ],
        [
         "Ethnicity",
         "0"
        ],
        [
         "Smoking History (NLP)",
         "0"
        ],
        [
         "Sample Type",
         "0"
        ],
        [
         "Metastatic Site",
         "1990"
        ],
        [
         "TMB (nonsynonymous)",
         "0"
        ],
        [
         "Tumor Purity",
         "27"
        ],
        [
         "Fraction Genome Altered",
         "11"
        ],
        [
         "MSI Score",
         "61"
        ],
        [
         "Mutation Count",
         "154"
        ],
        [
         "Sample coverage",
         "0"
        ]
       ],
       "shape": {
        "columns": 1,
        "rows": 21
       }
      },
      "text/plain": [
       "Patient ID                      0\n",
       "Sample ID                       0\n",
       "Cancer Type                     0\n",
       "Cancer Type Detailed            0\n",
       "Primary Tumor Site              0\n",
       "Overall Survival Status         0\n",
       "Overall Survival (Months)       0\n",
       "Current Age                     0\n",
       "Sex                             0\n",
       "Race                            0\n",
       "Stage (Highest Recorded)        0\n",
       "Ethnicity                       0\n",
       "Smoking History (NLP)           0\n",
       "Sample Type                     0\n",
       "Metastatic Site              1990\n",
       "TMB (nonsynonymous)             0\n",
       "Tumor Purity                   27\n",
       "Fraction Genome Altered        11\n",
       "MSI Score                      61\n",
       "Mutation Count                154\n",
       "Sample coverage                 0\n",
       "dtype: int64"
      ]
     },
     "execution_count": 406,
     "metadata": {},
     "output_type": "execute_result"
    }
   ],
   "source": [
    "# Dropped rows\n",
    "df_filtered = df_filtered.dropna(subset=['Current Age'])\n",
    "df_filtered.isnull().sum()"
   ]
  },
  {
   "cell_type": "code",
   "execution_count": 407,
   "id": "ced2171f",
   "metadata": {},
   "outputs": [
    {
     "data": {
      "application/vnd.microsoft.datawrangler.viewer.v0+json": {
       "columns": [
        {
         "name": "index",
         "rawType": "object",
         "type": "string"
        },
        {
         "name": "0",
         "rawType": "int64",
         "type": "integer"
        }
       ],
       "ref": "d6d67bb4-654d-4edb-be36-4666d707bd1e",
       "rows": [
        [
         "Patient ID",
         "0"
        ],
        [
         "Sample ID",
         "0"
        ],
        [
         "Cancer Type",
         "0"
        ],
        [
         "Cancer Type Detailed",
         "0"
        ],
        [
         "Primary Tumor Site",
         "0"
        ],
        [
         "Overall Survival Status",
         "0"
        ],
        [
         "Overall Survival (Months)",
         "0"
        ],
        [
         "Current Age",
         "0"
        ],
        [
         "Sex",
         "0"
        ],
        [
         "Race",
         "0"
        ],
        [
         "Stage (Highest Recorded)",
         "0"
        ],
        [
         "Ethnicity",
         "0"
        ],
        [
         "Smoking History (NLP)",
         "0"
        ],
        [
         "Sample Type",
         "0"
        ],
        [
         "Metastatic Site",
         "0"
        ],
        [
         "TMB (nonsynonymous)",
         "0"
        ],
        [
         "Tumor Purity",
         "0"
        ],
        [
         "Fraction Genome Altered",
         "0"
        ],
        [
         "MSI Score",
         "0"
        ],
        [
         "Mutation Count",
         "0"
        ],
        [
         "Sample coverage",
         "0"
        ]
       ],
       "shape": {
        "columns": 1,
        "rows": 21
       }
      },
      "text/plain": [
       "Patient ID                   0\n",
       "Sample ID                    0\n",
       "Cancer Type                  0\n",
       "Cancer Type Detailed         0\n",
       "Primary Tumor Site           0\n",
       "Overall Survival Status      0\n",
       "Overall Survival (Months)    0\n",
       "Current Age                  0\n",
       "Sex                          0\n",
       "Race                         0\n",
       "Stage (Highest Recorded)     0\n",
       "Ethnicity                    0\n",
       "Smoking History (NLP)        0\n",
       "Sample Type                  0\n",
       "Metastatic Site              0\n",
       "TMB (nonsynonymous)          0\n",
       "Tumor Purity                 0\n",
       "Fraction Genome Altered      0\n",
       "MSI Score                    0\n",
       "Mutation Count               0\n",
       "Sample coverage              0\n",
       "dtype: int64"
      ]
     },
     "execution_count": 407,
     "metadata": {},
     "output_type": "execute_result"
    }
   ],
   "source": [
    "# Filled rows\n",
    "df_filtered['Tumor Purity'] = df_filtered['Tumor Purity'].fillna('N/A')\n",
    "df_filtered['Metastatic Site'] = df_filtered['Metastatic Site'].fillna('N/A')\n",
    "df_filtered['Fraction Genome Altered'] = df_filtered['Fraction Genome Altered'].fillna(df_filtered['Fraction Genome Altered'].mean())\n",
    "df_filtered['MSI Score'] = df_filtered['MSI Score'].fillna(df_filtered['MSI Score'].mean())\n",
    "df_filtered['Mutation Count'] = df_filtered['Mutation Count'].fillna(df_filtered['Mutation Count'].mean())\n",
    "df_filtered.isnull().sum()"
   ]
  },
  {
   "cell_type": "markdown",
   "id": "748db7cd",
   "metadata": {},
   "source": [
    "## 3. Exploratory Data Analysis (EDA)"
   ]
  },
  {
   "cell_type": "markdown",
   "id": "d755b95b",
   "metadata": {},
   "source": [
    "In this section , we look into key patient characteristics, treatment factors, and clinical variables associated with pancreatic cancer. We will explore feature distributions, and potential relationships between variables and survival outcomes."
   ]
  },
  {
   "cell_type": "markdown",
   "id": "8051d9f1",
   "metadata": {},
   "source": [
    "### EDA Goals\n",
    "- Understand feature distributions (e.g., age, stage, mutation count)\n",
    "- Examine survival status distribution\n",
    "- Explore relationships between features and survival outcome\n",
    "- Detect any anomalies, imbalances, or feature engineering opportunities"
   ]
  },
  {
   "cell_type": "markdown",
   "id": "91733df9",
   "metadata": {},
   "source": [
    "## 3.1 Data Visualization "
   ]
  },
  {
   "cell_type": "markdown",
   "id": "b1dc289f",
   "metadata": {},
   "source": [
    "### A. Target Variable Analysis: Survival Status"
   ]
  },
  {
   "cell_type": "code",
   "execution_count": 408,
   "id": "991143a0",
   "metadata": {},
   "outputs": [
    {
     "data": {
      "image/png": "[encoded data removed]",
      "text/plain": [
       "<Figure size 432x288 with 1 Axes>"
      ]
     },
     "metadata": {
      "needs_background": "light"
     },
     "output_type": "display_data"
    }
   ],
   "source": [
    "# Survival status distribution\n",
    "sns.countplot(x='Overall Survival Status', data=df_filtered, palette='Set2')\n",
    "plt.title('Distribution of Survival Status')\n",
    "plt.xlabel('Survival Status')\n",
    "plt.ylabel('Number of Patients')\n",
    "plt.show()"
   ]
  },
  {
   "cell_type": "markdown",
   "id": "e6318d43",
   "metadata": {},
   "source": [
    "The bar chart shows the distribution of patients based on their overall survival status.\n",
    "- From the above bar chart we are able to see that the number of living patients is higher than the number of deceased patients in the dataset."
   ]
  },
  {
   "cell_type": "code",
   "execution_count": 409,
   "id": "8b75ff22",
   "metadata": {},
   "outputs": [
    {
     "data": {
      "image/png": "[encoded data removed]",
      "text/plain": [
       "<Figure size 432x288 with 1 Axes>"
      ]
     },
     "metadata": {
      "needs_background": "light"
     },
     "output_type": "display_data"
    }
   ],
   "source": [
    "# Survival in months\n",
    "sns.histplot(data=df_filtered, x='Overall Survival (Months)', bins=30, kde=True, hue='Overall Survival Status')\n",
    "plt.title('Overall Survival (Months) Distribution')\n",
    "plt.show()"
   ]
  },
  {
   "cell_type": "markdown",
   "id": "d1df2f37",
   "metadata": {},
   "source": [
    "The histogram shows the distribution of overall survival time (in months) for patients based on their survival status."
   ]
  },
  {
   "cell_type": "markdown",
   "id": "19034239",
   "metadata": {},
   "source": [
    "- Most of the patients who passed away (deceased) did so within the first few months after diagnosis or treatment. This is shown by the tall orange bars on the left side of the chart (representing fewer months of survival).The \"peak\" refers to the highest concentration of deceased patients occurring in the early survival months between 0–10 months.As time goes on (moving right on the x-axis), fewer deceased patients are observed, indicating that early mortality is more common in the dataset."
   ]
  },
  {
   "cell_type": "markdown",
   "id": "1ae5eec9",
   "metadata": {},
   "source": [
    "- Among the patients who are still alive, their survival times are more spread out over a longer period. The blue bars extend further to the right on the x-axis, showing that many living patients have survived well beyond 40 months. Unlike the deceased group (which peaks early), the living group does not sharply decline and continues across a wider range, suggesting long-term survival is common among them"
   ]
  },
  {
   "cell_type": "markdown",
   "id": "641a1c52",
   "metadata": {},
   "source": [
    "### B. Demographic Analysis "
   ]
  },
  {
   "cell_type": "code",
   "execution_count": 410,
   "id": "a9a5d5c4",
   "metadata": {},
   "outputs": [
    {
     "data": {
      "image/png": "[encoded data removed]",
      "text/plain": [
       "<Figure size 432x288 with 1 Axes>"
      ]
     },
     "metadata": {
      "needs_background": "light"
     },
     "output_type": "display_data"
    }
   ],
   "source": [
    "# Age distribution\n",
    "sns.histplot(data=df_filtered, x='Current Age', kde=True)\n",
    "plt.title('Age Distribution')\n",
    "plt.show()"
   ]
  },
  {
   "cell_type": "markdown",
   "id": "29b71d83",
   "metadata": {},
   "source": [
    "The histogram shows the distribution of patients’ current ages in the dataset."
   ]
  },
  {
   "cell_type": "markdown",
   "id": "dfc1381c",
   "metadata": {},
   "source": [
    "- A large number of patients in the dataset are between the ages of 60 and 80. The peak around age 70 shows that this is the most common age among the patients than any other age."
   ]
  },
  {
   "cell_type": "markdown",
   "id": "5e785d2f",
   "metadata": {},
   "source": [
    "- There are not many patients in the dataset who are younger than 40 or older than 85. Most of the data is focused on patients who are in their middle-aged to elderly years, especially between 60 and 80 years because the health condition being studied is more common in that age group."
   ]
  },
  {
   "cell_type": "code",
   "execution_count": 411,
   "id": "197127eb",
   "metadata": {},
   "outputs": [
    {
     "data": {
      "image/png": "[encoded data removed]",
      "text/plain": [
       "<Figure size 432x288 with 1 Axes>"
      ]
     },
     "metadata": {
      "needs_background": "light"
     },
     "output_type": "display_data"
    }
   ],
   "source": [
    "# Sex vs survival\n",
    "sns.countplot(x='Sex', hue='Overall Survival Status', data=df_filtered)\n",
    "plt.title('Sex and Survival Status')\n",
    "plt.show()"
   ]
  },
  {
   "cell_type": "markdown",
   "id": "3399cb42",
   "metadata": {},
   "source": [
    "The bar chart displays the distribution of survival status across sexes"
   ]
  },
  {
   "cell_type": "markdown",
   "id": "9740b30b",
   "metadata": {},
   "source": [
    "- The data shown by the chart, many more women are alive than have passed away. This suggests that females may have a higher survival rate compared to males based on the conditions or time period represented in the dataset. It reflects a noticeable difference in the survival outcome for women."
   ]
  },
  {
   "cell_type": "markdown",
   "id": "8dfa8122",
   "metadata": {},
   "source": [
    "- As many males have died as have survived, but slightly more are still living. This suggests that male survival rates are lower compared to females in the dataset."
   ]
  },
  {
   "cell_type": "markdown",
   "id": "48cab3f2",
   "metadata": {},
   "source": [
    "- A higher proportion of females are alive than males. This suggests that females are more likely to survive than males under the same conditions represented in the dataset. It indicates a gender-based difference in survival outcomes, with females faring better."
   ]
  },
  {
   "cell_type": "code",
   "execution_count": 412,
   "id": "12458ef0",
   "metadata": {},
   "outputs": [
    {
     "data": {
      "image/png": "[encoded data removed]",
      "text/plain": [
       "<Figure size 432x288 with 1 Axes>"
      ]
     },
     "metadata": {
      "needs_background": "light"
     },
     "output_type": "display_data"
    }
   ],
   "source": [
    "# Race and ethnicity\n",
    "sns.countplot(y='Race', data=df_filtered, order=df_filtered['Race'].value_counts().index, palette='bright')\n",
    "plt.title('Race Distribution')\n",
    "plt.show()"
   ]
  },
  {
   "cell_type": "markdown",
   "id": "e5fb28fa",
   "metadata": {},
   "source": [
    "- The bar chart shows that the racial diversity of the patients including that the majority of individuals in the dataset identify as White, with a count close to 2500.\n",
    "\n",
    "- Other racial groups such as Asian-Far East/Indian Subcontinent and Black or African American are represented in much smaller numbers of around 250 and 240\n",
    "\n",
    "- A small portion of the data includes individuals who refused to answer, selected \"Other,\" or had unknown or missing information."
   ]
  },
  {
   "cell_type": "markdown",
   "id": "cf1f920f",
   "metadata": {},
   "source": [
    "### C. Tumor and Genomic Characteristics"
   ]
  },
  {
   "cell_type": "code",
   "execution_count": 413,
   "id": "68470b31",
   "metadata": {},
   "outputs": [
    {
     "data": {
      "image/png": "[encoded data removed]",
      "text/plain": [
       "<Figure size 432x288 with 1 Axes>"
      ]
     },
     "metadata": {
      "needs_background": "light"
     },
     "output_type": "display_data"
    }
   ],
   "source": [
    "df_filtered['Tumor Purity'] = pd.to_numeric(df_filtered['Tumor Purity'], errors='coerce')\n",
    "\n",
    "# Tumor Purity\n",
    "sns.boxplot(x='Overall Survival Status', y='Tumor Purity', data=df_filtered)\n",
    "plt.title('Tumor Purity vs Survival Status')\n",
    "plt.show()"
   ]
  },
  {
   "cell_type": "markdown",
   "id": "798ad60b",
   "metadata": {},
   "source": [
    "The box plot compares tumor purity levels between living  and deceased  individuals.\n",
    "\n",
    "- Both groups show similar distributions, with median tumor purity around 30 and a wide range from near 0 to above 90.This suggests that tumor purity does not show a strong difference between those who are living and those who are deceased in the dataset."
   ]
  },
  {
   "cell_type": "code",
   "execution_count": 414,
   "id": "1603825f",
   "metadata": {},
   "outputs": [
    {
     "data": {
      "image/png": "[encoded data removed]",
      "text/plain": [
       "<Figure size 432x288 with 1 Axes>"
      ]
     },
     "metadata": {
      "needs_background": "light"
     },
     "output_type": "display_data"
    }
   ],
   "source": [
    "# Tumor Mutational Burden\n",
    "sns.boxplot(x='Overall Survival Status', y='TMB (nonsynonymous)', data=df_filtered)\n",
    "plt.title('Tumor Mutational Burden vs Survival Status')\n",
    "plt.show()"
   ]
  },
  {
   "cell_type": "markdown",
   "id": "e08a8b84",
   "metadata": {},
   "source": [
    "The box plot displays the distribution of tumor mutational burden (TMB) in living and deceased individuals."
   ]
  },
  {
   "cell_type": "markdown",
   "id": "0b8552aa",
   "metadata": {},
   "source": [
    "- The typical value of tumor mutational burden (TMB) is about the same for both living and deceased individuals. Most patients have low TMB values, as shown by the tight clustering of data near the bottom of the plot. However, there are some patients with unusually high TMB values, which are shown as dots far above the rest of the data these are called outliers, and they indicate rare but extreme cases."
   ]
  },
  {
   "cell_type": "code",
   "execution_count": 415,
   "id": "d8d2f6dc",
   "metadata": {},
   "outputs": [
    {
     "data": {
      "image/png": "[encoded data removed]",
      "text/plain": [
       "<Figure size 432x288 with 1 Axes>"
      ]
     },
     "metadata": {
      "needs_background": "light"
     },
     "output_type": "display_data"
    }
   ],
   "source": [
    "# Mutation Count\n",
    "sns.violinplot(x='Overall Survival Status', y='Mutation Count', data=df_filtered, inner='quartile', cut=0)\n",
    "plt.title('Mutation Count Distribution by Survival Status')\n",
    "plt.xlabel('Overall Survival Status')\n",
    "plt.ylabel('Mutation Count')\n",
    "plt.show()"
   ]
  },
  {
   "cell_type": "markdown",
   "id": "6778bbe4",
   "metadata": {},
   "source": [
    "The violin plot shows the distribution of mutation counts for both living and deceased individuals.\n",
    "\n",
    "- In both groups, most individuals have low mutation counts, with a few having extremely high values, especially in the living group. The overall shape and spread of the distributions are similar, suggesting that mutation count does not strongly differ between survival outcomes."
   ]
  },
  {
   "cell_type": "markdown",
   "id": "d54e251c",
   "metadata": {},
   "source": [
    "### D. Clinical Staging and Smoking History"
   ]
  },
  {
   "cell_type": "code",
   "execution_count": 416,
   "id": "b241e1ed",
   "metadata": {},
   "outputs": [
    {
     "data": {
      "image/png": "[encoded data removed]",
      "text/plain": [
       "<Figure size 720x360 with 1 Axes>"
      ]
     },
     "metadata": {
      "needs_background": "light"
     },
     "output_type": "display_data"
    }
   ],
   "source": [
    "# Stage distribution\n",
    "plt.figure(figsize=(10, 5))\n",
    "sns.countplot(x='Stage (Highest Recorded)', hue='Overall Survival Status', data=df_filtered, palette='Set1')\n",
    "plt.title('Cancer Stage vs Survival')\n",
    "plt.xticks(rotation=45)\n",
    "plt.show()"
   ]
  },
  {
   "cell_type": "markdown",
   "id": "446d89a9",
   "metadata": {},
   "source": [
    "The bar chart shows that most patients with Stage 1–3 cancer are living while fewer have died.\n",
    "- A larger number of patients diagnosed at these stages are still alive, indicating that early detection and treatment may lead to higher chances of survival. It highlights the potential benefit of catching cancer before it progresses to more advanced stages."
   ]
  },
  {
   "cell_type": "markdown",
   "id": "a41d5280",
   "metadata": {},
   "source": [
    "- A higher number of patients diagnosed with advanced (Stage 4) cancer have died compared to those who are still alive. This suggests that Stage 4 cancer is linked to a lower survival rate, likely because it is more severe, harder to treat, or has spread more extensively. It emphasizes the seriousness of late-stage cancer and its impact on patient outcomes."
   ]
  },
  {
   "cell_type": "markdown",
   "id": "0ecf1603",
   "metadata": {},
   "source": [
    "- This highlights the importance of early detection, as catching cancer before it becomes advanced can significantly improve a patient's chances of living longer. It reflects a strong relationship between cancer stage at diagnosis and survival outcomes."
   ]
  },
  {
   "cell_type": "code",
   "execution_count": 417,
   "id": "73cf2e99",
   "metadata": {},
   "outputs": [
    {
     "data": {
      "image/png": "[encoded data removed]",
      "text/plain": [
       "<Figure size 720x360 with 1 Axes>"
      ]
     },
     "metadata": {
      "needs_background": "light"
     },
     "output_type": "display_data"
    }
   ],
   "source": [
    "# Smoking history\n",
    "plt.figure(figsize=(10, 5))\n",
    "sns.countplot(y='Smoking History (NLP)', hue='Overall Survival Status', data=df_filtered, order=df_filtered['Smoking History (NLP)'].value_counts().index, palette='Accent')\n",
    "plt.title('Smoking History and Survival')\n",
    "plt.show()\n"
   ]
  },
  {
   "cell_type": "markdown",
   "id": "6d81d624",
   "metadata": {},
   "source": [
    "- Never Smokers: Individuals who never smoked have the highest survival count, with noticeably more living than deceased. This suggests that never smoking may be associated with better survival outcomes.\n",
    "\n",
    "- Former/Current Smokers: The number of living and deceased individuals in this group is more balanced, but slightly more are living. However, compared to never smokers, their survival rate appears lower, indicating that a history of smoking may negatively affect survival.\n",
    "\n",
    "- Unknown Smoking History: This group is the smallest, and most individuals in it are deceased, suggesting either missing or unclear data, or possibly higher risk but the numbers are too small to draw strong conclusions.\n",
    "\n",
    "The chart implies a potential link between smoking history and survival, where individuals who never smoked tend to have better survival outcomes compared to those who have smoked."
   ]
  },
  {
   "cell_type": "code",
   "execution_count": 418,
   "id": "85e73b59",
   "metadata": {},
   "outputs": [
    {
     "data": {
      "image/png": "[encoded data removed]",
      "text/plain": [
       "<Figure size 720x360 with 1 Axes>"
      ]
     },
     "metadata": {
      "needs_background": "light"
     },
     "output_type": "display_data"
    }
   ],
   "source": [
    "# Fraction Genome Altered\n",
    "plt.figure(figsize=(10, 5))\n",
    "sns.boxplot(x='Overall Survival Status', y='Fraction Genome Altered', data=df_filtered)\n",
    "plt.title('Fraction Genome Altered vs Survival Status')\n",
    "plt.show()"
   ]
  },
  {
   "cell_type": "markdown",
   "id": "18c40cc6",
   "metadata": {},
   "source": [
    "### E. Survival by Metastatic Site\n",
    "\n",
    "Metastatic pancreatic cancer spreads to specific organs, and where it spreads to can significantly affect prognosis. "
   ]
  },
  {
   "cell_type": "code",
   "execution_count": 419,
   "id": "dc40dbb2",
   "metadata": {},
   "outputs": [
    {
     "data": {
      "image/png": "[encoded data removed]",
      "text/plain": [
       "<Figure size 576x576 with 1 Axes>"
      ]
     },
     "metadata": {},
     "output_type": "display_data"
    }
   ],
   "source": [
    "# filter out N/A\n",
    "metastatic_df = df_filtered[df_filtered['Metastatic Site'] != 'N/A']\n",
    "\n",
    "# Count values\n",
    "site_counts = metastatic_df['Metastatic Site'].value_counts().nlargest(8)\n",
    "colors = sns.color_palette('pastel')[0:8]\n",
    "\n",
    "plt.figure(figsize=(8, 8))\n",
    "plt.pie(site_counts, labels=site_counts.index, colors=colors, wedgeprops={'width': 0.4}, startangle=140, autopct='%1.1f%%')\n",
    "plt.title('Most Common Metastatic Sites (Donut View)')\n",
    "plt.legend(loc='upper right', bbox_to_anchor=(1.2, 1))\n",
    "plt.tight_layout()\n",
    "plt.show()\n"
   ]
  },
  {
   "cell_type": "markdown",
   "id": "4ab7aa03",
   "metadata": {},
   "source": [
    "The liver is the most common site of metastasis for pancreatic cancer."
   ]
  },
  {
   "cell_type": "markdown",
   "id": "72d9ef62",
   "metadata": {},
   "source": [
    "## 3.2 Feature Engineering "
   ]
  },
  {
   "cell_type": "markdown",
   "id": "787b0c1c",
   "metadata": {},
   "source": [
    "###  3.2.1 Correlation Analysis \n",
    "Finds the redundant or weakly correlated features in the dataset"
   ]
  },
  {
   "cell_type": "code",
   "execution_count": 420,
   "id": "d6f4437e",
   "metadata": {},
   "outputs": [
    {
     "data": {
      "image/png": "[encoded data removed]",
      "text/plain": [
       "<Figure size 720x432 with 2 Axes>"
      ]
     },
     "metadata": {
      "needs_background": "light"
     },
     "output_type": "display_data"
    }
   ],
   "source": [
    "# Select numerical features\n",
    "numerical_features = ['Current Age', 'TMB (nonsynonymous)', 'Tumor Purity',\n",
    "                      'Mutation Count', 'MSI Score', 'Fraction Genome Altered', \n",
    "                      'Sample coverage', 'Overall Survival (Months)']\n",
    "\n",
    "# Compute correlation matrix\n",
    "corr_matrix = df_filtered[numerical_features].corr()\n",
    "\n",
    "# Plot heatmap\n",
    "plt.figure(figsize=(10, 6))\n",
    "sns.heatmap(corr_matrix, annot=True, cmap='coolwarm', fmt=\".2f\")\n",
    "plt.title(\"Correlation Matrix for Numerical Features\")\n",
    "plt.show()"
   ]
  },
  {
   "cell_type": "markdown",
   "id": "38f32ab1",
   "metadata": {},
   "source": [
    "- Positive correlations: This means the features move in the same direction and when one increases the other downs by a certain amount.\n",
    "  - There is a strong positive correlations between TMB(nonsynonymous) and Mutation count at 0.98, they more almost identically.\n",
    "  - TMB and MSI Score have a strong correlation at 0.52 and Mutation count with MSI score at 0.52\n",
    "  - Further strong correlations include Tumor purity and Fraction Genome Altered at 0.58\n",
    "  - There is a moderate correlation between MSI score and Tumor purity at 0.27 abd MSI score and fraction genome altered at 0.34\n"
   ]
  },
  {
   "cell_type": "markdown",
   "id": "69ee7626",
   "metadata": {},
   "source": [
    "- Negative correlations: These indicate that as one feature increases, the other tends to decrease by a certain amount, and vice versa.\n",
    "  - In this dataset, most negative relationships were negligible, meaning they had very weak or no meaningful inverse associations. The highest is -0.1 between tumor purity and current age.\n",
    "  - This suggests that genomic and clinical features in this dataset tend to co-vary positively, rather than acting as strong inverse predictors."
   ]
  },
  {
   "cell_type": "markdown",
   "id": "322bf4d9",
   "metadata": {},
   "source": [
    "### 3.2.2 Chi-Squared Test \n",
    "Assesses the association between categorical variables and survival status."
   ]
  },
  {
   "cell_type": "code",
   "execution_count": 421,
   "id": "ccf99ad9",
   "metadata": {},
   "outputs": [
    {
     "data": {
      "image/png": "[encoded data removed]",
      "text/plain": [
       "<Figure size 576x360 with 1 Axes>"
      ]
     },
     "metadata": {
      "needs_background": "light"
     },
     "output_type": "display_data"
    }
   ],
   "source": [
    "from sklearn.feature_selection import chi2\n",
    "from sklearn.feature_selection import SelectKBest\n",
    "\n",
    "# Encode categorical variables numerically\n",
    "cat_features = ['Sex', 'Ethnicity', 'Race', 'Smoking History (NLP)', 'Stage (Highest Recorded)', 'Metastatic Site']\n",
    "df_cat = df_filtered[cat_features].apply(LabelEncoder().fit_transform)\n",
    "\n",
    "# Target must be numeric\n",
    "y = LabelEncoder().fit_transform(df_filtered['Overall Survival Status'])\n",
    "\n",
    "# Apply Chi2 test\n",
    "chi2_selector = SelectKBest(score_func=chi2, k='all')\n",
    "chi2_selector.fit(df_cat, y)\n",
    "chi2_scores = pd.Series(chi2_selector.scores_, index=cat_features).sort_values(ascending=False)\n",
    "\n",
    "# Plot\n",
    "plt.figure(figsize=(8, 5))\n",
    "sns.barplot(x=chi2_scores.values, y=chi2_scores.index, palette='Set2')\n",
    "plt.title(\"Chi-Squared Test Scores for Categorical Features\")\n",
    "plt.xlabel(\"Chi² Score\")\n",
    "plt.ylabel(\"Categorical Feature\")\n",
    "plt.show()"
   ]
  },
  {
   "cell_type": "markdown",
   "id": "7eab9d24",
   "metadata": {},
   "source": [
    "### 3.2.3 Feature Importance "
   ]
  },
  {
   "cell_type": "markdown",
   "id": "fe145d7a",
   "metadata": {},
   "source": [
    "Feature importance shows how valuable each feature is in predicting the target outcome. It tells you which variables the model relied on most for decision-making."
   ]
  },
  {
   "cell_type": "markdown",
   "id": "17f0cda4",
   "metadata": {},
   "source": [
    "#### 1. Logistic Regression – Coefficients as Feature Importance"
   ]
  },
  {
   "cell_type": "code",
   "execution_count": 422,
   "id": "328743fd",
   "metadata": {},
   "outputs": [],
   "source": [
    "# Replacing missing values with the mean\n",
    "numeric_cols = ['TMB (nonsynonymous)', 'Tumor Purity', 'Mutation Count', 'MSI Score', 'Fraction Genome Altered']\n",
    "\n",
    " # Ensure numeric and fill NaNs with mean\n",
    "for col in numeric_cols:\n",
    "    df_filtered[col] = pd.to_numeric(df_filtered[col], errors='coerce') \n",
    "    df_filtered[col] = df_filtered[col].fillna(df_filtered[col].mean()) "
   ]
  },
  {
   "cell_type": "code",
   "execution_count": 423,
   "id": "7886f106",
   "metadata": {},
   "outputs": [],
   "source": [
    "X = df_filtered[['Current Age', 'TMB (nonsynonymous)', 'Tumor Purity',\n",
    "                 'Mutation Count', 'MSI Score', 'Fraction Genome Altered',\n",
    "                 'Sample coverage']]\n",
    "y = LabelEncoder().fit_transform(df_filtered['Overall Survival Status'])\n",
    "\n",
    "# Scale and split\n",
    "scaler = StandardScaler()\n",
    "X_scaled = scaler.fit_transform(X)\n",
    "\n",
    "X_train, X_test, y_train, y_test = train_test_split(X_scaled, y, test_size=0.2, random_state=42)"
   ]
  },
  {
   "cell_type": "code",
   "execution_count": 424,
   "id": "9c49d3e8",
   "metadata": {},
   "outputs": [
    {
     "data": {
      "text/plain": [
       "LogisticRegression(C=1.0, class_weight=None, dual=False, fit_intercept=True,\n",
       "                   intercept_scaling=1, l1_ratio=None, max_iter=1000,\n",
       "                   multi_class='auto', n_jobs=None, penalty='l2',\n",
       "                   random_state=None, solver='lbfgs', tol=0.0001, verbose=0,\n",
       "                   warm_start=False)"
      ]
     },
     "execution_count": 424,
     "metadata": {},
     "output_type": "execute_result"
    }
   ],
   "source": [
    "logreg = LogisticRegression(max_iter=1000)\n",
    "logreg.fit(X_train, y_train)"
   ]
  },
  {
   "cell_type": "code",
   "execution_count": 425,
   "id": "56d11ba8",
   "metadata": {},
   "outputs": [
    {
     "data": {
      "image/png": "[encoded data removed]",
      "text/plain": [
       "<Figure size 576x360 with 1 Axes>"
      ]
     },
     "metadata": {
      "needs_background": "light"
     },
     "output_type": "display_data"
    }
   ],
   "source": [
    "# Get coefficients\n",
    "coef = logreg.coef_[0]\n",
    "features = X.columns\n",
    "coef_df = pd.DataFrame({'Feature': features, 'Coefficient': coef})\n",
    "coef_df['AbsCoefficient'] = coef_df['Coefficient'].abs()\n",
    "coef_df = coef_df.sort_values(by='AbsCoefficient', ascending=True)\n",
    "\n",
    "# Plot\n",
    "plt.figure(figsize=(8, 5))\n",
    "plt.barh(coef_df['Feature'], coef_df['Coefficient'], color='green')\n",
    "plt.axvline(x=0, color='gray', linestyle='--')\n",
    "plt.title('Logistic Regression Coefficients (Feature Importance)')\n",
    "plt.xlabel('Coefficient')\n",
    "plt.tight_layout()\n",
    "plt.show()"
   ]
  },
  {
   "cell_type": "markdown",
   "id": "3ba9f7d3",
   "metadata": {},
   "source": [
    "TMB (nonsynonymous) has the highest positive influence on the model's prediction followed by sample coverage and Fraction genome altered.\n",
    "Mutation count has a strong negative influence it decreases the probability of a positive outcome.\n"
   ]
  },
  {
   "cell_type": "markdown",
   "id": "48498d2e",
   "metadata": {},
   "source": [
    "### 2. Random Forest – Feature Importance"
   ]
  },
  {
   "cell_type": "code",
   "execution_count": 426,
   "id": "e9c1cee4",
   "metadata": {},
   "outputs": [],
   "source": [
    "X_train_raw, X_test_raw, _, _ = train_test_split(X, y, test_size=0.2, random_state=42)\n",
    "\n",
    "# Train model\n",
    "rf = RandomForestClassifier(n_estimators=100, random_state=42)\n",
    "rf.fit(X_train_raw, y_train)\n",
    "\n",
    "# Get feature importances\n",
    "rf_importances = pd.Series(rf.feature_importances_, index=features).sort_values()"
   ]
  },
  {
   "cell_type": "code",
   "execution_count": 427,
   "id": "bcf8de7b",
   "metadata": {},
   "outputs": [
    {
     "data": {
      "image/png": "[encoded data removed]",
      "text/plain": [
       "<Figure size 576x360 with 1 Axes>"
      ]
     },
     "metadata": {
      "needs_background": "light"
     },
     "output_type": "display_data"
    }
   ],
   "source": [
    "# Plot\n",
    "plt.figure(figsize=(8, 5))\n",
    "rf_importances.plot(kind='barh', color='magenta')\n",
    "plt.title(\"Random Forest Feature Importances\")\n",
    "plt.xlabel(\"Importance Score\")\n",
    "plt.tight_layout()\n",
    "plt.show()"
   ]
  },
  {
   "cell_type": "markdown",
   "id": "56f29efc",
   "metadata": {},
   "source": [
    "The top features that contribute to the model is Sample coverage with a value around 0.24 and Fraction Genome around 0.18"
   ]
  },
  {
   "cell_type": "markdown",
   "id": "01c61cc2",
   "metadata": {},
   "source": [
    "###  3.2.4 Encoding Categorical Variables "
   ]
  },
  {
   "cell_type": "code",
   "execution_count": 428,
   "id": "689cd73d",
   "metadata": {},
   "outputs": [],
   "source": [
    "# Create copies to avoid modifying original DataFrame directly\n",
    "df_encoded = df_filtered.copy()\n",
    "\n",
    "# Label encode binary feature 'Sex'\n",
    "le_sex = LabelEncoder()\n",
    "df_encoded['Sex'] = le_sex.fit_transform(df_encoded['Sex'])"
   ]
  },
  {
   "cell_type": "code",
   "execution_count": 429,
   "id": "b9b7aae4",
   "metadata": {},
   "outputs": [],
   "source": [
    "# Ordinal encoding for Stage\n",
    "stage_order = {'Stage I': 0, 'Stage II': 1, 'Stage III': 2, 'Stage IV': 3}\n",
    "df_encoded['Stage (Highest Recorded)'] = df_encoded['Stage (Highest Recorded)'].map(stage_order)"
   ]
  },
  {
   "cell_type": "code",
   "execution_count": 430,
   "id": "715ca392",
   "metadata": {},
   "outputs": [],
   "source": [
    "# One-hot encode Ethnicity, Race, Smoking History, Sample Type, Metastatic Site\n",
    "df_encoded = pd.get_dummies(df_encoded, \n",
    "                            columns=['Ethnicity', 'Race', 'Smoking History (NLP)', \n",
    "                                     'Sample Type', 'Metastatic Site'], \n",
    "                            drop_first=True)"
   ]
  },
  {
   "cell_type": "code",
   "execution_count": 431,
   "id": "232e805c",
   "metadata": {},
   "outputs": [
    {
     "data": {
      "application/vnd.microsoft.datawrangler.viewer.v0+json": {
       "columns": [
        {
         "name": "index",
         "rawType": "int64",
         "type": "integer"
        },
        {
         "name": "Patient ID",
         "rawType": "object",
         "type": "string"
        },
        {
         "name": "Sample ID",
         "rawType": "object",
         "type": "string"
        },
        {
         "name": "Cancer Type",
         "rawType": "object",
         "type": "string"
        },
        {
         "name": "Cancer Type Detailed",
         "rawType": "object",
         "type": "string"
        },
        {
         "name": "Primary Tumor Site",
         "rawType": "object",
         "type": "string"
        },
        {
         "name": "Overall Survival Status",
         "rawType": "object",
         "type": "string"
        },
        {
         "name": "Overall Survival (Months)",
         "rawType": "float64",
         "type": "float"
        },
        {
         "name": "Current Age",
         "rawType": "float64",
         "type": "float"
        },
        {
         "name": "Sex",
         "rawType": "int32",
         "type": "integer"
        },
        {
         "name": "Stage (Highest Recorded)",
         "rawType": "float64",
         "type": "float"
        },
        {
         "name": "TMB (nonsynonymous)",
         "rawType": "float64",
         "type": "float"
        },
        {
         "name": "Tumor Purity",
         "rawType": "float64",
         "type": "float"
        },
        {
         "name": "Fraction Genome Altered",
         "rawType": "float64",
         "type": "float"
        },
        {
         "name": "MSI Score",
         "rawType": "float64",
         "type": "float"
        },
        {
         "name": "Mutation Count",
         "rawType": "float64",
         "type": "float"
        },
        {
         "name": "Sample coverage",
         "rawType": "int64",
         "type": "integer"
        },
        {
         "name": "Ethnicity_Dominican Republic",
         "rawType": "uint8",
         "type": "integer"
        },
        {
         "name": "Ethnicity_Mexican (includes Chicano)",
         "rawType": "uint8",
         "type": "integer"
        },
        {
         "name": "Ethnicity_Non-Spanish; Non-Hispanic",
         "rawType": "uint8",
         "type": "integer"
        },
        {
         "name": "Ethnicity_Other Spanish/Hispanic(incl European; excl Dom Rep",
         "rawType": "uint8",
         "type": "integer"
        },
        {
         "name": "Ethnicity_Puerto Rican",
         "rawType": "uint8",
         "type": "integer"
        },
        {
         "name": "Ethnicity_South/Central America (except Brazil)",
         "rawType": "uint8",
         "type": "integer"
        },
        {
         "name": "Ethnicity_Spanish  NOS; Hispanic NOS, Latino NOS",
         "rawType": "uint8",
         "type": "integer"
        },
        {
         "name": "Ethnicity_Unknown whether Spanish or not",
         "rawType": "uint8",
         "type": "integer"
        },
        {
         "name": "Race_Black Or African American",
         "rawType": "uint8",
         "type": "integer"
        },
        {
         "name": "Race_Native American-Am Ind/Alaska",
         "rawType": "uint8",
         "type": "integer"
        },
        {
         "name": "Race_No Value Entered",
         "rawType": "uint8",
         "type": "integer"
        },
        {
         "name": "Race_Other",
         "rawType": "uint8",
         "type": "integer"
        },
        {
         "name": "Race_Pt Refused To Answer",
         "rawType": "uint8",
         "type": "integer"
        },
        {
         "name": "Race_Unknown",
         "rawType": "uint8",
         "type": "integer"
        },
        {
         "name": "Race_White",
         "rawType": "uint8",
         "type": "integer"
        },
        {
         "name": "Smoking History (NLP)_Never",
         "rawType": "uint8",
         "type": "integer"
        },
        {
         "name": "Smoking History (NLP)_Unknown",
         "rawType": "uint8",
         "type": "integer"
        },
        {
         "name": "Sample Type_Metastasis",
         "rawType": "uint8",
         "type": "integer"
        },
        {
         "name": "Sample Type_Primary",
         "rawType": "uint8",
         "type": "integer"
        },
        {
         "name": "Sample Type_Unknown",
         "rawType": "uint8",
         "type": "integer"
        },
        {
         "name": "Metastatic Site_Abdominal Wall",
         "rawType": "uint8",
         "type": "integer"
        },
        {
         "name": "Metastatic Site_Abdominal wall",
         "rawType": "uint8",
         "type": "integer"
        },
        {
         "name": "Metastatic Site_Adnexa or Endomterium",
         "rawType": "uint8",
         "type": "integer"
        },
        {
         "name": "Metastatic Site_Adrenal Gland",
         "rawType": "uint8",
         "type": "integer"
        },
        {
         "name": "Metastatic Site_Appendix",
         "rawType": "uint8",
         "type": "integer"
        },
        {
         "name": "Metastatic Site_Arm",
         "rawType": "uint8",
         "type": "integer"
        },
        {
         "name": "Metastatic Site_Bladder",
         "rawType": "uint8",
         "type": "integer"
        },
        {
         "name": "Metastatic Site_Bone",
         "rawType": "uint8",
         "type": "integer"
        },
        {
         "name": "Metastatic Site_Brain",
         "rawType": "uint8",
         "type": "integer"
        },
        {
         "name": "Metastatic Site_Cerebellum",
         "rawType": "uint8",
         "type": "integer"
        },
        {
         "name": "Metastatic Site_Chest Wall",
         "rawType": "uint8",
         "type": "integer"
        },
        {
         "name": "Metastatic Site_Colon",
         "rawType": "uint8",
         "type": "integer"
        },
        {
         "name": "Metastatic Site_Diaphragm",
         "rawType": "uint8",
         "type": "integer"
        },
        {
         "name": "Metastatic Site_Diaphram",
         "rawType": "uint8",
         "type": "integer"
        },
        {
         "name": "Metastatic Site_Duodenum",
         "rawType": "uint8",
         "type": "integer"
        },
        {
         "name": "Metastatic Site_Epidural",
         "rawType": "uint8",
         "type": "integer"
        },
        {
         "name": "Metastatic Site_GE Junction",
         "rawType": "uint8",
         "type": "integer"
        },
        {
         "name": "Metastatic Site_Gallbladder",
         "rawType": "uint8",
         "type": "integer"
        },
        {
         "name": "Metastatic Site_LN",
         "rawType": "uint8",
         "type": "integer"
        },
        {
         "name": "Metastatic Site_Liver",
         "rawType": "uint8",
         "type": "integer"
        },
        {
         "name": "Metastatic Site_Lung",
         "rawType": "uint8",
         "type": "integer"
        },
        {
         "name": "Metastatic Site_Lymph Node",
         "rawType": "uint8",
         "type": "integer"
        },
        {
         "name": "Metastatic Site_Lymph node",
         "rawType": "uint8",
         "type": "integer"
        },
        {
         "name": "Metastatic Site_Mesentery",
         "rawType": "uint8",
         "type": "integer"
        },
        {
         "name": "Metastatic Site_N/A",
         "rawType": "uint8",
         "type": "integer"
        },
        {
         "name": "Metastatic Site_Neck",
         "rawType": "uint8",
         "type": "integer"
        },
        {
         "name": "Metastatic Site_Omentum",
         "rawType": "uint8",
         "type": "integer"
        },
        {
         "name": "Metastatic Site_Ovary",
         "rawType": "uint8",
         "type": "integer"
        },
        {
         "name": "Metastatic Site_Pelvic Nodule",
         "rawType": "uint8",
         "type": "integer"
        },
        {
         "name": "Metastatic Site_Pelvis",
         "rawType": "uint8",
         "type": "integer"
        },
        {
         "name": "Metastatic Site_Peritoneal Fluid",
         "rawType": "uint8",
         "type": "integer"
        },
        {
         "name": "Metastatic Site_Peritoneal Implant",
         "rawType": "uint8",
         "type": "integer"
        },
        {
         "name": "Metastatic Site_Peritonenum",
         "rawType": "uint8",
         "type": "integer"
        },
        {
         "name": "Metastatic Site_Peritoneum",
         "rawType": "uint8",
         "type": "integer"
        },
        {
         "name": "Metastatic Site_Pleura",
         "rawType": "uint8",
         "type": "integer"
        },
        {
         "name": "Metastatic Site_Retroperitoneum",
         "rawType": "uint8",
         "type": "integer"
        },
        {
         "name": "Metastatic Site_Skin",
         "rawType": "uint8",
         "type": "integer"
        },
        {
         "name": "Metastatic Site_Small Bowel",
         "rawType": "uint8",
         "type": "integer"
        },
        {
         "name": "Metastatic Site_Small Intestine",
         "rawType": "uint8",
         "type": "integer"
        },
        {
         "name": "Metastatic Site_Soft Tissue",
         "rawType": "uint8",
         "type": "integer"
        },
        {
         "name": "Metastatic Site_Soft tissue",
         "rawType": "uint8",
         "type": "integer"
        },
        {
         "name": "Metastatic Site_Stomach",
         "rawType": "uint8",
         "type": "integer"
        },
        {
         "name": "Metastatic Site_Uterus",
         "rawType": "uint8",
         "type": "integer"
        },
        {
         "name": "Metastatic Site_liver",
         "rawType": "uint8",
         "type": "integer"
        },
        {
         "name": "Metastatic Site_right upper quadrant peritoneum",
         "rawType": "uint8",
         "type": "integer"
        }
       ],
       "ref": "7a1c78f2-9ceb-4b70-b0ff-7777c66c64be",
       "rows": [
        [
         "0",
         "P-0000142",
         "P-0000142-T01-IM3",
         "Pancreatic Cancer",
         "Pancreatic Adenocarcinoma",
         "Pancreas",
         "1:DECEASED",
         "8.810949248",
         "56.0",
         "0",
         null,
         "4.436621202",
         "40.0",
         "0.2681",
         "0.0",
         "4.0",
         "639",
         "0",
         "0",
         "1",
         "0",
         "0",
         "0",
         "0",
         "0",
         "0",
         "0",
         "0",
         "0",
         "0",
         "0",
         "1",
         "0",
         "1",
         "0",
         "1",
         "0",
         "0",
         "0",
         "0",
         "0",
         "0",
         "0",
         "0",
         "0",
         "0",
         "0",
         "0",
         "0",
         "0",
         "0",
         "0",
         "0",
         "0",
         "0",
         "0",
         "0",
         "0",
         "0",
         "0",
         "0",
         "1",
         "0",
         "0",
         "0",
         "0",
         "0",
         "0",
         "0",
         "0",
         "0",
         "0",
         "0",
         "0",
         "0",
         "0",
         "0",
         "0",
         "0",
         "0",
         "0",
         "0"
        ],
        [
         "1",
         "P-0000314",
         "P-0000314-T01-IM3",
         "Pancreatic Cancer",
         "Pancreatic Adenocarcinoma",
         "Pancreas",
         "1:DECEASED",
         "33.73146988",
         "47.0",
         "1",
         null,
         "7.764087104",
         "90.0",
         "0.361",
         "1.29",
         "7.0",
         "883",
         "0",
         "0",
         "1",
         "0",
         "0",
         "0",
         "0",
         "0",
         "0",
         "0",
         "0",
         "0",
         "0",
         "0",
         "1",
         "0",
         "0",
         "0",
         "1",
         "0",
         "0",
         "0",
         "0",
         "0",
         "0",
         "0",
         "0",
         "0",
         "0",
         "0",
         "0",
         "0",
         "0",
         "0",
         "0",
         "0",
         "0",
         "0",
         "0",
         "0",
         "0",
         "0",
         "0",
         "0",
         "1",
         "0",
         "0",
         "0",
         "0",
         "0",
         "0",
         "0",
         "0",
         "0",
         "0",
         "0",
         "0",
         "0",
         "0",
         "0",
         "0",
         "0",
         "0",
         "0",
         "0"
        ],
        [
         "2",
         "P-0000421",
         "P-0000421-T01-IM3",
         "Pancreatic Cancer",
         "Pancreatic Adenocarcinoma",
         "Pancreas",
         "1:DECEASED",
         "25.05202734",
         "69.0",
         "1",
         null,
         "0.0",
         "20.0",
         "0.0005",
         "0.08",
         "4.63248730964467",
         "452",
         "0",
         "0",
         "1",
         "0",
         "0",
         "0",
         "0",
         "0",
         "0",
         "0",
         "0",
         "0",
         "0",
         "0",
         "1",
         "1",
         "0",
         "1",
         "0",
         "0",
         "0",
         "0",
         "0",
         "0",
         "0",
         "0",
         "0",
         "0",
         "0",
         "0",
         "0",
         "0",
         "0",
         "0",
         "0",
         "0",
         "0",
         "0",
         "0",
         "0",
         "1",
         "0",
         "0",
         "0",
         "0",
         "0",
         "0",
         "0",
         "0",
         "0",
         "0",
         "0",
         "0",
         "0",
         "0",
         "0",
         "0",
         "0",
         "0",
         "0",
         "0",
         "0",
         "0",
         "0",
         "0"
        ],
        [
         "3",
         "P-0000783",
         "P-0000783-T01-IM3",
         "Pancreatic Cancer",
         "Pancreatic Adenocarcinoma",
         "Pancreas",
         "1:DECEASED",
         "3.057530896",
         "64.0",
         "1",
         null,
         "5.545776503",
         "80.0",
         "0.4135",
         "0.47",
         "5.0",
         "399",
         "0",
         "0",
         "1",
         "0",
         "0",
         "0",
         "0",
         "0",
         "0",
         "0",
         "0",
         "0",
         "0",
         "0",
         "1",
         "0",
         "1",
         "0",
         "1",
         "0",
         "0",
         "0",
         "0",
         "0",
         "0",
         "0",
         "0",
         "0",
         "0",
         "0",
         "0",
         "0",
         "0",
         "0",
         "0",
         "0",
         "0",
         "0",
         "0",
         "0",
         "0",
         "0",
         "0",
         "0",
         "1",
         "0",
         "0",
         "0",
         "0",
         "0",
         "0",
         "0",
         "0",
         "0",
         "0",
         "0",
         "0",
         "0",
         "0",
         "0",
         "0",
         "0",
         "0",
         "0",
         "0"
        ],
        [
         "4",
         "P-0000825",
         "P-0000825-T04-IM7",
         "Pancreatic Cancer",
         "Pancreatic Adenocarcinoma",
         "Pancreas",
         "0:LIVING",
         "110.5313857",
         "65.0",
         "0",
         null,
         "6.562777893",
         "60.0",
         "0.2843",
         "0.54",
         "8.0",
         "518",
         "0",
         "0",
         "1",
         "0",
         "0",
         "0",
         "0",
         "0",
         "1",
         "0",
         "0",
         "0",
         "0",
         "0",
         "0",
         "0",
         "0",
         "0",
         "1",
         "0",
         "0",
         "0",
         "0",
         "0",
         "0",
         "0",
         "0",
         "0",
         "0",
         "0",
         "0",
         "0",
         "0",
         "0",
         "0",
         "0",
         "0",
         "0",
         "0",
         "0",
         "0",
         "0",
         "0",
         "0",
         "1",
         "0",
         "0",
         "0",
         "0",
         "0",
         "0",
         "0",
         "0",
         "0",
         "0",
         "0",
         "0",
         "0",
         "0",
         "0",
         "0",
         "0",
         "0",
         "0",
         "0"
        ]
       ],
       "shape": {
        "columns": 81,
        "rows": 5
       }
      },
      "text/html": [
       "<div>\n",
       "<style scoped>\n",
       "    .dataframe tbody tr th:only-of-type {\n",
       "        vertical-align: middle;\n",
       "    }\n",
       "\n",
       "    .dataframe tbody tr th {\n",
       "        vertical-align: top;\n",
       "    }\n",
       "\n",
       "    .dataframe thead th {\n",
       "        text-align: right;\n",
       "    }\n",
       "</style>\n",
       "<table border=\"1\" class=\"dataframe\">\n",
       "  <thead>\n",
       "    <tr style=\"text-align: right;\">\n",
       "      <th></th>\n",
       "      <th>Patient ID</th>\n",
       "      <th>Sample ID</th>\n",
       "      <th>Cancer Type</th>\n",
       "      <th>Cancer Type Detailed</th>\n",
       "      <th>Primary Tumor Site</th>\n",
       "      <th>Overall Survival Status</th>\n",
       "      <th>Overall Survival (Months)</th>\n",
       "      <th>Current Age</th>\n",
       "      <th>Sex</th>\n",
       "      <th>Stage (Highest Recorded)</th>\n",
       "      <th>...</th>\n",
       "      <th>Metastatic Site_Retroperitoneum</th>\n",
       "      <th>Metastatic Site_Skin</th>\n",
       "      <th>Metastatic Site_Small Bowel</th>\n",
       "      <th>Metastatic Site_Small Intestine</th>\n",
       "      <th>Metastatic Site_Soft Tissue</th>\n",
       "      <th>Metastatic Site_Soft tissue</th>\n",
       "      <th>Metastatic Site_Stomach</th>\n",
       "      <th>Metastatic Site_Uterus</th>\n",
       "      <th>Metastatic Site_liver</th>\n",
       "      <th>Metastatic Site_right upper quadrant peritoneum</th>\n",
       "    </tr>\n",
       "  </thead>\n",
       "  <tbody>\n",
       "    <tr>\n",
       "      <th>0</th>\n",
       "      <td>P-0000142</td>\n",
       "      <td>P-0000142-T01-IM3</td>\n",
       "      <td>Pancreatic Cancer</td>\n",
       "      <td>Pancreatic Adenocarcinoma</td>\n",
       "      <td>Pancreas</td>\n",
       "      <td>1:DECEASED</td>\n",
       "      <td>8.810949</td>\n",
       "      <td>56.0</td>\n",
       "      <td>0</td>\n",
       "      <td>NaN</td>\n",
       "      <td>...</td>\n",
       "      <td>0</td>\n",
       "      <td>0</td>\n",
       "      <td>0</td>\n",
       "      <td>0</td>\n",
       "      <td>0</td>\n",
       "      <td>0</td>\n",
       "      <td>0</td>\n",
       "      <td>0</td>\n",
       "      <td>0</td>\n",
       "      <td>0</td>\n",
       "    </tr>\n",
       "    <tr>\n",
       "      <th>1</th>\n",
       "      <td>P-0000314</td>\n",
       "      <td>P-0000314-T01-IM3</td>\n",
       "      <td>Pancreatic Cancer</td>\n",
       "      <td>Pancreatic Adenocarcinoma</td>\n",
       "      <td>Pancreas</td>\n",
       "      <td>1:DECEASED</td>\n",
       "      <td>33.731470</td>\n",
       "      <td>47.0</td>\n",
       "      <td>1</td>\n",
       "      <td>NaN</td>\n",
       "      <td>...</td>\n",
       "      <td>0</td>\n",
       "      <td>0</td>\n",
       "      <td>0</td>\n",
       "      <td>0</td>\n",
       "      <td>0</td>\n",
       "      <td>0</td>\n",
       "      <td>0</td>\n",
       "      <td>0</td>\n",
       "      <td>0</td>\n",
       "      <td>0</td>\n",
       "    </tr>\n",
       "    <tr>\n",
       "      <th>2</th>\n",
       "      <td>P-0000421</td>\n",
       "      <td>P-0000421-T01-IM3</td>\n",
       "      <td>Pancreatic Cancer</td>\n",
       "      <td>Pancreatic Adenocarcinoma</td>\n",
       "      <td>Pancreas</td>\n",
       "      <td>1:DECEASED</td>\n",
       "      <td>25.052027</td>\n",
       "      <td>69.0</td>\n",
       "      <td>1</td>\n",
       "      <td>NaN</td>\n",
       "      <td>...</td>\n",
       "      <td>0</td>\n",
       "      <td>0</td>\n",
       "      <td>0</td>\n",
       "      <td>0</td>\n",
       "      <td>0</td>\n",
       "      <td>0</td>\n",
       "      <td>0</td>\n",
       "      <td>0</td>\n",
       "      <td>0</td>\n",
       "      <td>0</td>\n",
       "    </tr>\n",
       "    <tr>\n",
       "      <th>3</th>\n",
       "      <td>P-0000783</td>\n",
       "      <td>P-0000783-T01-IM3</td>\n",
       "      <td>Pancreatic Cancer</td>\n",
       "      <td>Pancreatic Adenocarcinoma</td>\n",
       "      <td>Pancreas</td>\n",
       "      <td>1:DECEASED</td>\n",
       "      <td>3.057531</td>\n",
       "      <td>64.0</td>\n",
       "      <td>1</td>\n",
       "      <td>NaN</td>\n",
       "      <td>...</td>\n",
       "      <td>0</td>\n",
       "      <td>0</td>\n",
       "      <td>0</td>\n",
       "      <td>0</td>\n",
       "      <td>0</td>\n",
       "      <td>0</td>\n",
       "      <td>0</td>\n",
       "      <td>0</td>\n",
       "      <td>0</td>\n",
       "      <td>0</td>\n",
       "    </tr>\n",
       "    <tr>\n",
       "      <th>4</th>\n",
       "      <td>P-0000825</td>\n",
       "      <td>P-0000825-T04-IM7</td>\n",
       "      <td>Pancreatic Cancer</td>\n",
       "      <td>Pancreatic Adenocarcinoma</td>\n",
       "      <td>Pancreas</td>\n",
       "      <td>0:LIVING</td>\n",
       "      <td>110.531386</td>\n",
       "      <td>65.0</td>\n",
       "      <td>0</td>\n",
       "      <td>NaN</td>\n",
       "      <td>...</td>\n",
       "      <td>0</td>\n",
       "      <td>0</td>\n",
       "      <td>0</td>\n",
       "      <td>0</td>\n",
       "      <td>0</td>\n",
       "      <td>0</td>\n",
       "      <td>0</td>\n",
       "      <td>0</td>\n",
       "      <td>0</td>\n",
       "      <td>0</td>\n",
       "    </tr>\n",
       "  </tbody>\n",
       "</table>\n",
       "<p>5 rows × 81 columns</p>\n",
       "</div>"
      ],
      "text/plain": [
       "  Patient ID          Sample ID        Cancer Type       Cancer Type Detailed  \\\n",
       "0  P-0000142  P-0000142-T01-IM3  Pancreatic Cancer  Pancreatic Adenocarcinoma   \n",
       "1  P-0000314  P-0000314-T01-IM3  Pancreatic Cancer  Pancreatic Adenocarcinoma   \n",
       "2  P-0000421  P-0000421-T01-IM3  Pancreatic Cancer  Pancreatic Adenocarcinoma   \n",
       "3  P-0000783  P-0000783-T01-IM3  Pancreatic Cancer  Pancreatic Adenocarcinoma   \n",
       "4  P-0000825  P-0000825-T04-IM7  Pancreatic Cancer  Pancreatic Adenocarcinoma   \n",
       "\n",
       "  Primary Tumor Site Overall Survival Status  Overall Survival (Months)  \\\n",
       "0           Pancreas              1:DECEASED                   8.810949   \n",
       "1           Pancreas              1:DECEASED                  33.731470   \n",
       "2           Pancreas              1:DECEASED                  25.052027   \n",
       "3           Pancreas              1:DECEASED                   3.057531   \n",
       "4           Pancreas                0:LIVING                 110.531386   \n",
       "\n",
       "   Current Age  Sex  Stage (Highest Recorded)  ...  \\\n",
       "0         56.0    0                       NaN  ...   \n",
       "1         47.0    1                       NaN  ...   \n",
       "2         69.0    1                       NaN  ...   \n",
       "3         64.0    1                       NaN  ...   \n",
       "4         65.0    0                       NaN  ...   \n",
       "\n",
       "   Metastatic Site_Retroperitoneum  Metastatic Site_Skin  \\\n",
       "0                                0                     0   \n",
       "1                                0                     0   \n",
       "2                                0                     0   \n",
       "3                                0                     0   \n",
       "4                                0                     0   \n",
       "\n",
       "   Metastatic Site_Small Bowel  Metastatic Site_Small Intestine  \\\n",
       "0                            0                                0   \n",
       "1                            0                                0   \n",
       "2                            0                                0   \n",
       "3                            0                                0   \n",
       "4                            0                                0   \n",
       "\n",
       "   Metastatic Site_Soft Tissue  Metastatic Site_Soft tissue  \\\n",
       "0                            0                            0   \n",
       "1                            0                            0   \n",
       "2                            0                            0   \n",
       "3                            0                            0   \n",
       "4                            0                            0   \n",
       "\n",
       "   Metastatic Site_Stomach  Metastatic Site_Uterus  Metastatic Site_liver  \\\n",
       "0                        0                       0                      0   \n",
       "1                        0                       0                      0   \n",
       "2                        0                       0                      0   \n",
       "3                        0                       0                      0   \n",
       "4                        0                       0                      0   \n",
       "\n",
       "   Metastatic Site_right upper quadrant peritoneum  \n",
       "0                                                0  \n",
       "1                                                0  \n",
       "2                                                0  \n",
       "3                                                0  \n",
       "4                                                0  \n",
       "\n",
       "[5 rows x 81 columns]"
      ]
     },
     "execution_count": 431,
     "metadata": {},
     "output_type": "execute_result"
    }
   ],
   "source": [
    "df_encoded.head()\n"
   ]
  },
  {
   "cell_type": "code",
   "execution_count": 432,
   "id": "fb8e1a3b",
   "metadata": {},
   "outputs": [
    {
     "name": "stdout",
     "output_type": "stream",
     "text": [
      "Encoded columns: ['Patient ID', 'Sample ID', 'Cancer Type', 'Cancer Type Detailed', 'Primary Tumor Site', 'Overall Survival Status', 'Overall Survival (Months)', 'Current Age', 'Sex', 'Stage (Highest Recorded)', 'TMB (nonsynonymous)', 'Tumor Purity', 'Fraction Genome Altered', 'MSI Score', 'Mutation Count', 'Sample coverage', 'Ethnicity_Dominican Republic', 'Ethnicity_Mexican (includes Chicano)', 'Ethnicity_Non-Spanish; Non-Hispanic', 'Ethnicity_Other Spanish/Hispanic(incl European; excl Dom Rep', 'Ethnicity_Puerto Rican', 'Ethnicity_South/Central America (except Brazil)', 'Ethnicity_Spanish  NOS; Hispanic NOS, Latino NOS', 'Ethnicity_Unknown whether Spanish or not', 'Race_Black Or African American', 'Race_Native American-Am Ind/Alaska', 'Race_No Value Entered', 'Race_Other', 'Race_Pt Refused To Answer', 'Race_Unknown', 'Race_White', 'Smoking History (NLP)_Never', 'Smoking History (NLP)_Unknown', 'Sample Type_Metastasis', 'Sample Type_Primary', 'Sample Type_Unknown', 'Metastatic Site_Abdominal Wall', 'Metastatic Site_Abdominal wall', 'Metastatic Site_Adnexa or Endomterium', 'Metastatic Site_Adrenal Gland', 'Metastatic Site_Appendix', 'Metastatic Site_Arm', 'Metastatic Site_Bladder', 'Metastatic Site_Bone', 'Metastatic Site_Brain', 'Metastatic Site_Cerebellum', 'Metastatic Site_Chest Wall', 'Metastatic Site_Colon', 'Metastatic Site_Diaphragm', 'Metastatic Site_Diaphram', 'Metastatic Site_Duodenum', 'Metastatic Site_Epidural', 'Metastatic Site_GE Junction', 'Metastatic Site_Gallbladder', 'Metastatic Site_LN', 'Metastatic Site_Liver', 'Metastatic Site_Lung', 'Metastatic Site_Lymph Node', 'Metastatic Site_Lymph node', 'Metastatic Site_Mesentery', 'Metastatic Site_N/A', 'Metastatic Site_Neck', 'Metastatic Site_Omentum', 'Metastatic Site_Ovary', 'Metastatic Site_Pelvic Nodule', 'Metastatic Site_Pelvis', 'Metastatic Site_Peritoneal Fluid', 'Metastatic Site_Peritoneal Implant', 'Metastatic Site_Peritonenum', 'Metastatic Site_Peritoneum', 'Metastatic Site_Pleura', 'Metastatic Site_Retroperitoneum', 'Metastatic Site_Skin', 'Metastatic Site_Small Bowel', 'Metastatic Site_Small Intestine', 'Metastatic Site_Soft Tissue', 'Metastatic Site_Soft tissue', 'Metastatic Site_Stomach', 'Metastatic Site_Uterus', 'Metastatic Site_liver', 'Metastatic Site_right upper quadrant peritoneum']\n"
     ]
    }
   ],
   "source": [
    "print(\"Encoded columns:\", df_encoded.columns.tolist())"
   ]
  },
  {
   "cell_type": "markdown",
   "id": "0ce90e5d",
   "metadata": {},
   "source": [
    "## 4. Data Modelling"
   ]
  },
  {
   "cell_type": "markdown",
   "id": "d470a302",
   "metadata": {},
   "source": [
    "### Data Modeling Goals"
   ]
  },
  {
   "cell_type": "markdown",
   "id": "80009d92",
   "metadata": {},
   "source": [
    "The primary aim is to develop a machine learning model to predict the overall survival status (alive vs. deceased) of pancreatic cancer patients.\n",
    "\n",
    "- Accurate Prediction: Build a model that accurately predicts survival status (binary classification: 0:LIVING vs. 1:DECEASED) using clinical, pathological, and genomic features.\n",
    "- Model Robustness: Evaluate models using metrics such as accuracy, precision, recall, F1-score, and ROC-AUC to ensure clinical reliability, prioritizing recall to identify deceased patients."
   ]
  },
  {
   "cell_type": "markdown",
   "id": "5afeda19",
   "metadata": {},
   "source": [
    "### 4.1 Select Relevant Features\n",
    "\n",
    "Selecting clinically and genomically relevant features (e.g., Current Age, TMB (nonsynonymous), Stage) ensures the model focuses on variables likely to influence survival, improving predictive power and interpretability while reducing dimensionality."
   ]
  },
  {
   "cell_type": "code",
   "execution_count": 433,
   "id": "d21bd735",
   "metadata": {},
   "outputs": [
    {
     "name": "stdout",
     "output_type": "stream",
     "text": [
      "Features selected: ['Current Age', 'Sex', 'Tumor Purity', 'Sample coverage', 'TMB (nonsynonymous)', 'MSI Score', 'Fraction Genome Altered', 'Mutation Count']\n",
      "Target distribution:\n",
      " 1    2120\n",
      "0     989\n",
      "Name: Overall Survival Status, dtype: int64\n"
     ]
    }
   ],
   "source": [
    "# Define features and target\n",
    "features = ['Current Age', 'Sex', 'Tumor Purity', 'Sample coverage',\n",
    "            'TMB (nonsynonymous)', 'MSI Score', 'Fraction Genome Altered', 'Mutation Count']\n",
    "\n",
    "X = df_encoded[features]\n",
    "y = df_encoded['Overall Survival Status'].map({'0:LIVING': 0, '1:DECEASED': 1})\n",
    "print(\"Features selected:\", features)\n",
    "print(\"Target distribution:\\n\", y.value_counts())"
   ]
  },
  {
   "cell_type": "markdown",
   "id": "91ede5ea",
   "metadata": {},
   "source": [
    "### 4.2 Scale Numerical Features\n",
    "\n",
    "Scaling numerical features ensures they contribute equally to models sensitive to feature scales (e.g., Logistic Regression), improving performance.\n"
   ]
  },
  {
   "cell_type": "code",
   "execution_count": 434,
   "id": "f9fb15bc",
   "metadata": {},
   "outputs": [],
   "source": [
    "# Numerical columns that are be to scaled\n",
    "numerical_features = ['Current Age', 'Tumor Purity', 'Sample coverage',\n",
    "                      'TMB (nonsynonymous)', 'MSI Score',\n",
    "                      'Fraction Genome Altered', 'Mutation Count']\n",
    "X = df_encoded[features].copy()"
   ]
  },
  {
   "cell_type": "code",
   "execution_count": 435,
   "id": "49beb72f",
   "metadata": {},
   "outputs": [],
   "source": [
    "# Impute missing values\n",
    "imputer = SimpleImputer(strategy='mean')\n",
    "X[numerical_features] = imputer.fit_transform(X[numerical_features])"
   ]
  },
  {
   "cell_type": "code",
   "execution_count": 436,
   "id": "4b1e2139",
   "metadata": {},
   "outputs": [],
   "source": [
    "scaler = StandardScaler()\n",
    "X[numerical_features] = scaler.fit_transform(X[numerical_features])"
   ]
  },
  {
   "cell_type": "markdown",
   "id": "b3368301",
   "metadata": {},
   "source": [
    "### 4.3  Splitting the dataset\n",
    "\n",
    "Splitting into training and testing sets allows evaluation of model generalization.\n"
   ]
  },
  {
   "cell_type": "code",
   "execution_count": 437,
   "id": "46e30d62",
   "metadata": {},
   "outputs": [
    {
     "name": "stdout",
     "output_type": "stream",
     "text": [
      "Training set size: (2487, 8), Testing set size: (622, 8)\n"
     ]
    }
   ],
   "source": [
    "# Split the data\n",
    "X_train, X_test, y_train, y_test = train_test_split(X, y, test_size=0.2, random_state=42, stratify=y)\n",
    "print(f\"Training set size: {X_train.shape}, Testing set size: {X_test.shape}\")"
   ]
  },
  {
   "cell_type": "markdown",
   "id": "ab2f0dde",
   "metadata": {},
   "source": [
    "### 4.4 Model Development"
   ]
  },
  {
   "cell_type": "markdown",
   "id": "065a3505",
   "metadata": {},
   "source": [
    "We will train and compare three models: Logistic Regression, Random Forest Classifier, and XGBoost Classifier\n",
    "\n",
    "These models are chosen for their interpretability (Logistic Regression) and ability to handle complex relationships (Random Forest, XGBoost)."
   ]
  },
  {
   "cell_type": "markdown",
   "id": "b054af8d",
   "metadata": {},
   "source": [
    "### 4.4.1 Logistic Regression the baseline model"
   ]
  },
  {
   "cell_type": "markdown",
   "id": "594d1974",
   "metadata": {},
   "source": [
    "A simple, interpretable model suitable for binary classification."
   ]
  },
  {
   "cell_type": "code",
   "execution_count": 438,
   "id": "13a65d7a",
   "metadata": {},
   "outputs": [
    {
     "name": "stdout",
     "output_type": "stream",
     "text": [
      "Logistic Regression Performance:\n",
      "              precision    recall  f1-score   support\n",
      "\n",
      "           0       0.50      0.15      0.23       198\n",
      "           1       0.70      0.93      0.80       424\n",
      "\n",
      "    accuracy                           0.68       622\n",
      "   macro avg       0.60      0.54      0.52       622\n",
      "weighted avg       0.64      0.68      0.62       622\n",
      "\n",
      "ROC-AUC: 0.6558\n"
     ]
    }
   ],
   "source": [
    "# Train Logistic Regression\n",
    "lr_model = LogisticRegression(max_iter=1000, random_state=42)\n",
    "lr_model.fit(X_train, y_train)\n",
    "lr_pred = lr_model.predict(X_test)\n",
    "lr_prob = lr_model.predict_proba(X_test)[:, 1]\n",
    "\n",
    "# Print model performance\n",
    "print(\"Logistic Regression Performance:\")\n",
    "print(classification_report(y_test, lr_pred))\n",
    "print(f\"ROC-AUC: {roc_auc_score(y_test, lr_prob):.4f}\")"
   ]
  },
  {
   "cell_type": "markdown",
   "id": "06db8ed2",
   "metadata": {},
   "source": [
    "### 4.2.1 Random Forest Classifier"
   ]
  },
  {
   "cell_type": "markdown",
   "id": "e241282f",
   "metadata": {},
   "source": [
    "Random Forest is robust for handling non-linear relationships and feature interactions in clinical-genomic data. It also provides feature importance scores for interpretability.\n",
    "\n",
    "A Random Forest model is trained on the preprocessed data (X_train, y_train). Performance is evaluated using classification_report (accuracy, precision, recall, F1-score) and ROC-AUC. The ROC curve is plotted for visualization."
   ]
  },
  {
   "cell_type": "code",
   "execution_count": 439,
   "id": "793915d0",
   "metadata": {},
   "outputs": [
    {
     "name": "stdout",
     "output_type": "stream",
     "text": [
      "Random Forest Performance:\n",
      "              precision    recall  f1-score   support\n",
      "\n",
      "           0       0.51      0.24      0.33       198\n",
      "           1       0.72      0.89      0.79       424\n",
      "\n",
      "    accuracy                           0.68       622\n",
      "   macro avg       0.61      0.57      0.56       622\n",
      "weighted avg       0.65      0.68      0.65       622\n",
      "\n",
      "ROC-AUC: 0.6715\n"
     ]
    },
    {
     "data": {
      "image/png": "[encoded data removed]",
      "text/plain": [
       "<Figure size 576x432 with 1 Axes>"
      ]
     },
     "metadata": {
      "needs_background": "light"
     },
     "output_type": "display_data"
    }
   ],
   "source": [
    "# Random Forest Classifier\n",
    "rf_model = RandomForestClassifier(class_weight='balanced',random_state=42)\n",
    "rf_model.fit(X_train, y_train)\n",
    "rf_pred = rf_model.predict(X_test)\n",
    "rf_prob = rf_model.predict_proba(X_test)[:, 1]\n",
    "\n",
    "# Print model performance\n",
    "print(\"Random Forest Performance:\")\n",
    "print(classification_report(y_test, rf_pred))\n",
    "print(f\"ROC-AUC: {roc_auc_score(y_test, rf_prob):.4f}\")\n",
    "\n",
    "# Plot ROC Curve\n",
    "fpr, tpr, _ = roc_curve(y_test, rf_prob)\n",
    "plt.figure(figsize=(8, 6))\n",
    "plt.plot(fpr, tpr, label=f'Random Forest (AUC = {roc_auc_score(y_test, rf_prob):.4f})')\n",
    "plt.plot([0, 1], [0, 1], 'k--')\n",
    "plt.xlabel('False Positive Rate')\n",
    "plt.ylabel('True Positive Rate')\n",
    "plt.title('ROC Curve - Random Forest')\n",
    "plt.legend()\n",
    "plt.show()"
   ]
  },
  {
   "cell_type": "markdown",
   "id": "13988fd3",
   "metadata": {},
   "source": [
    "Your Random Forest model has moderate predictive power, better than random, but not highly accurate.An AUC of 0.6699 means the model does better than random which is 0.5, but there's still room for improvement.Random Forest still favors Class 1 heavily.\n",
    "\n",
    "For class 1: High recall (0.89) means the model catches most of the true positives.\n",
    "Good precision (0.73) shows it’s not guessing too much—when it predicts 1, it’s usually right.\n",
    "F1-score (0.80) is strong, showing reliable performance on class 1.\n",
    "\n",
    "For Class 0: Low recall (0.28) indicates that most of the actual class 0s are being missed.\n",
    "Precision (0.54) shows that when it does predict class 0, it's about 50/50.\n",
    "F1-score (0.37) is quite low, meaning poor performance on class 0 even after balancing."
   ]
  },
  {
   "cell_type": "markdown",
   "id": "3b1ddcf5",
   "metadata": {},
   "source": [
    "### 4.2.2 XGBoost Classifier"
   ]
  },
  {
   "cell_type": "markdown",
   "id": "9e99eccb",
   "metadata": {},
   "source": [
    "XGBoost excels with structured, potentially sparse, and imbalanced datasets, often outperforming simpler models in predictive accuracy.\n",
    "\n",
    "An XGBoost model is trained with eval_metric='logloss' to handle binary classification. Performance metrics and ROC curve are generated similarly to Random Forest."
   ]
  },
  {
   "cell_type": "code",
   "execution_count": 440,
   "id": "a05bf79b",
   "metadata": {},
   "outputs": [
    {
     "name": "stderr",
     "output_type": "stream",
     "text": [
      "c:\\Users\\MichelleChekwooti\\anaconda3\\envs\\learn-env\\lib\\site-packages\\xgboost\\data.py:173: FutureWarning: pandas.Int64Index is deprecated and will be removed from pandas in a future version. Use pandas.Index with the appropriate dtype instead.\n",
      "  from pandas import MultiIndex, Int64Index\n"
     ]
    },
    {
     "name": "stdout",
     "output_type": "stream",
     "text": [
      "XGBoost Performance:\n",
      "              precision    recall  f1-score   support\n",
      "\n",
      "           0       0.48      0.35      0.40       198\n",
      "           1       0.73      0.82      0.77       424\n",
      "\n",
      "    accuracy                           0.67       622\n",
      "   macro avg       0.60      0.58      0.59       622\n",
      "weighted avg       0.65      0.67      0.65       622\n",
      "\n",
      "ROC-AUC: 0.6597\n"
     ]
    },
    {
     "data": {
      "image/png": "[encoded data removed]",
      "text/plain": [
       "<Figure size 576x432 with 1 Axes>"
      ]
     },
     "metadata": {
      "needs_background": "light"
     },
     "output_type": "display_data"
    }
   ],
   "source": [
    "# XGBoost Classifier\n",
    "xgb_model = XGBClassifier(random_state=42, eval_metric='logloss')\n",
    "xgb_model.fit(X_train, y_train)\n",
    "xgb_pred = xgb_model.predict(X_test)\n",
    "xgb_prob = xgb_model.predict_proba(X_test)[:, 1]\n",
    "\n",
    "# Print model performance\n",
    "print(\"XGBoost Performance:\")\n",
    "print(classification_report(y_test, xgb_pred))\n",
    "print(f\"ROC-AUC: {roc_auc_score(y_test, xgb_prob):.4f}\")\n",
    "\n",
    "# Plot ROC Curve\n",
    "fpr, tpr, _ = roc_curve(y_test, xgb_prob)\n",
    "plt.figure(figsize=(8, 6))\n",
    "plt.plot(fpr, tpr, label=f'XGBoost (AUC = {roc_auc_score(y_test, xgb_prob):.4f})')\n",
    "plt.plot([0, 1], [0, 1], 'k--')\n",
    "plt.xlabel('False Positive Rate')\n",
    "plt.ylabel('True Positive Rate')\n",
    "plt.title('ROC Curve - XGBoost')\n",
    "plt.legend()\n",
    "plt.show()"
   ]
  },
  {
   "cell_type": "markdown",
   "id": "88f883a6",
   "metadata": {},
   "source": [
    "Your XGBoost ROC curve is much closer to the top-left corner. The XGBoost classifier shows moderate predictive power, with an AUC of 0.6597 better than random guessing (0.5), but lower than expected for a boosting model. Overall accuracy stands at 0.67. Similar to Random Forest, the model is biased toward Class 1, performing much better there.\n",
    "\n",
    "Class 1:\n",
    "High recall (0.82) means most actual positives are correctly identified.\n",
    "Strong precision (0.73) indicates predictions are generally reliable.\n",
    "The F1-score of 0.77 reflects solid overall performance on this class.\n",
    "\n",
    "Class 0:\n",
    "Low recall (0.35) suggests many actual negatives are missed.\n",
    "Precision (0.48) shows limited reliability in predictions.\n",
    "The F1-score of 0.40 confirms weak performance on class 0.\n",
    "\n",
    "Despite expectations, the ROC curve shows only fair separation, and the model does not outperform Random Forest at AUC 0.6699. There is still significant room for improvement, particularly in balancing class predictions and improving sensitivity to class 0."
   ]
  },
  {
   "cell_type": "markdown",
   "id": "2dfddc9b",
   "metadata": {},
   "source": [
    "### 4.2.3 Cross-Validation"
   ]
  },
  {
   "cell_type": "markdown",
   "id": "cb57e2c8",
   "metadata": {},
   "source": [
    "Cross-validation provides robust performance estimates by evaluating models on multiple data splits, reducing overfitting risks and ensuring generalizability.\n",
    "\n",
    "5-fold cross-validation is performed for all three models (Logistic Regression, Random Forest, XGBoost) using cross_val_score with ROC-AUC as the scoring metric. Mean and standard deviation of ROC-AUC scores are reported."
   ]
  },
  {
   "cell_type": "code",
   "execution_count": 441,
   "id": "83baea20",
   "metadata": {},
   "outputs": [
    {
     "name": "stdout",
     "output_type": "stream",
     "text": [
      "Logistic Regression 5-Fold CV ROC-AUC: 0.6650 ± 0.0571\n",
      "Random Forest 5-Fold CV ROC-AUC: 0.6409 ± 0.0323\n"
     ]
    },
    {
     "name": "stderr",
     "output_type": "stream",
     "text": [
      "c:\\Users\\MichelleChekwooti\\anaconda3\\envs\\learn-env\\lib\\site-packages\\xgboost\\data.py:173: FutureWarning: pandas.Int64Index is deprecated and will be removed from pandas in a future version. Use pandas.Index with the appropriate dtype instead.\n",
      "  from pandas import MultiIndex, Int64Index\n",
      "c:\\Users\\MichelleChekwooti\\anaconda3\\envs\\learn-env\\lib\\site-packages\\xgboost\\data.py:173: FutureWarning: pandas.Int64Index is deprecated and will be removed from pandas in a future version. Use pandas.Index with the appropriate dtype instead.\n",
      "  from pandas import MultiIndex, Int64Index\n",
      "c:\\Users\\MichelleChekwooti\\anaconda3\\envs\\learn-env\\lib\\site-packages\\xgboost\\data.py:173: FutureWarning: pandas.Int64Index is deprecated and will be removed from pandas in a future version. Use pandas.Index with the appropriate dtype instead.\n",
      "  from pandas import MultiIndex, Int64Index\n",
      "c:\\Users\\MichelleChekwooti\\anaconda3\\envs\\learn-env\\lib\\site-packages\\xgboost\\data.py:173: FutureWarning: pandas.Int64Index is deprecated and will be removed from pandas in a future version. Use pandas.Index with the appropriate dtype instead.\n",
      "  from pandas import MultiIndex, Int64Index\n"
     ]
    },
    {
     "name": "stdout",
     "output_type": "stream",
     "text": [
      "XGBoost 5-Fold CV ROC-AUC: 0.6230 ± 0.0290\n"
     ]
    },
    {
     "name": "stderr",
     "output_type": "stream",
     "text": [
      "c:\\Users\\MichelleChekwooti\\anaconda3\\envs\\learn-env\\lib\\site-packages\\xgboost\\data.py:173: FutureWarning: pandas.Int64Index is deprecated and will be removed from pandas in a future version. Use pandas.Index with the appropriate dtype instead.\n",
      "  from pandas import MultiIndex, Int64Index\n"
     ]
    }
   ],
   "source": [
    "# Perform 5-fold cross-validation for each model\n",
    "models = {\n",
    "    'Logistic Regression': lr_model,\n",
    "    'Random Forest': rf_model,\n",
    "    'XGBoost': xgb_model\n",
    "}\n",
    "\n",
    "for name, model in models.items():\n",
    "    cv_scores = cross_val_score(model, X, y, cv=5, scoring='roc_auc')\n",
    "    print(f\"{name} 5-Fold CV ROC-AUC: {cv_scores.mean():.4f} ± {cv_scores.std():.4f}\")"
   ]
  },
  {
   "cell_type": "markdown",
   "id": "364d75d8",
   "metadata": {},
   "source": [
    "Logistic Regression achieved the highest average ROC-AUC (0.6650) with a relatively low standard deviation (±0.0571), suggesting stable and reliable performance across folds.\n",
    "\n",
    "Random Forest followed with a slightly lower ROC-AUC (0.6409 ± 0.0323), indicating moderate variability and somewhat less consistent performance.\n",
    "\n",
    "XGBoost had the lowest average ROC-AUC (0.6230 ± 0.0290), though its low variability suggests consistent but underwhelming results across the folds."
   ]
  },
  {
   "cell_type": "markdown",
   "id": "dc36a2fd",
   "metadata": {},
   "source": [
    "### 4.2.4 Hyperparameter Tuning"
   ]
  },
  {
   "cell_type": "markdown",
   "id": "ed9fcdb2",
   "metadata": {},
   "source": [
    "Tuning optimizes model performance (ROC-AUC) by finding the best parameters, balancing complexity and accuracy for clinical reliability.\n",
    "\n",
    "GridSearchCV is used to tune hyperparameters for Random Forest (e.g., n_estimators, max_depth) and XGBoost (e.g., n_estimators, learning_rate). The best parameters and performance of tuned models are printed."
   ]
  },
  {
   "cell_type": "code",
   "execution_count": 442,
   "id": "a9b3bcaf",
   "metadata": {},
   "outputs": [
    {
     "name": "stdout",
     "output_type": "stream",
     "text": [
      "Best Random Forest Parameters: {'max_depth': 10, 'min_samples_leaf': 2, 'min_samples_split': 5, 'n_estimators': 200}\n",
      "Tuned Random Forest Performance:\n",
      "              precision    recall  f1-score   support\n",
      "\n",
      "           0       0.54      0.18      0.27       198\n",
      "           1       0.71      0.93      0.80       424\n",
      "\n",
      "    accuracy                           0.69       622\n",
      "   macro avg       0.62      0.55      0.53       622\n",
      "weighted avg       0.65      0.69      0.63       622\n",
      "\n",
      "ROC-AUC: 0.6756\n"
     ]
    },
    {
     "name": "stderr",
     "output_type": "stream",
     "text": [
      "c:\\Users\\MichelleChekwooti\\anaconda3\\envs\\learn-env\\lib\\site-packages\\xgboost\\data.py:173: FutureWarning: pandas.Int64Index is deprecated and will be removed from pandas in a future version. Use pandas.Index with the appropriate dtype instead.\n",
      "  from pandas import MultiIndex, Int64Index\n"
     ]
    },
    {
     "name": "stdout",
     "output_type": "stream",
     "text": [
      "Best XGBoost Parameters: {'learning_rate': 0.1, 'max_depth': 3, 'n_estimators': 100, 'subsample': 1.0}\n",
      "Tuned XGBoost Performance:\n",
      "              precision    recall  f1-score   support\n",
      "\n",
      "           0       0.56      0.23      0.33       198\n",
      "           1       0.72      0.92      0.80       424\n",
      "\n",
      "    accuracy                           0.70       622\n",
      "   macro avg       0.64      0.57      0.57       622\n",
      "weighted avg       0.67      0.70      0.65       622\n",
      "\n",
      "ROC-AUC: 0.6891\n"
     ]
    }
   ],
   "source": [
    "# Hyperparameter tuning for Random Forest\n",
    "rf_param_grid = {\n",
    "    'n_estimators': [100, 200],\n",
    "    'max_depth': [None, 10, 20],\n",
    "    'min_samples_split': [2, 5],\n",
    "    'min_samples_leaf': [1, 2]\n",
    "}\n",
    "rf_grid = GridSearchCV(RandomForestClassifier(random_state=42), rf_param_grid, cv=5, scoring='roc_auc', n_jobs=-1)\n",
    "rf_grid.fit(X_train, y_train)\n",
    "\n",
    "# Best Random Forest model\n",
    "print(\"Best Random Forest Parameters:\", rf_grid.best_params_)\n",
    "rf_best = rf_grid.best_estimator_\n",
    "rf_best_pred = rf_best.predict(X_test)\n",
    "rf_best_prob = rf_best.predict_proba(X_test)[:, 1]\n",
    "print(\"Tuned Random Forest Performance:\")\n",
    "print(classification_report(y_test, rf_best_pred))\n",
    "print(f\"ROC-AUC: {roc_auc_score(y_test, rf_best_prob):.4f}\")\n",
    "\n",
    "# Hyperparameter tuning for XGBoost\n",
    "xgb_param_grid = {\n",
    "    'n_estimators': [100, 200],\n",
    "    'max_depth': [3, 6],\n",
    "    'learning_rate': [0.01, 0.1],\n",
    "    'subsample': [0.8, 1.0]\n",
    "}\n",
    "xgb_grid = GridSearchCV(XGBClassifier(random_state=42, eval_metric='logloss'), xgb_param_grid, cv=5, scoring='roc_auc', n_jobs=-1)\n",
    "xgb_grid.fit(X_train, y_train)\n",
    "\n",
    "# Best XGBoost model\n",
    "print(\"Best XGBoost Parameters:\", xgb_grid.best_params_)\n",
    "xgb_best = xgb_grid.best_estimator_\n",
    "xgb_best_pred = xgb_best.predict(X_test)\n",
    "xgb_best_prob = xgb_best.predict_proba(X_test)[:, 1]\n",
    "print(\"Tuned XGBoost Performance:\")\n",
    "print(classification_report(y_test, xgb_best_pred))\n",
    "print(f\"ROC-AUC: {roc_auc_score(y_test, xgb_best_prob):.4f}\")"
   ]
  },
  {
   "cell_type": "markdown",
   "id": "30dbe86a",
   "metadata": {},
   "source": [
    "\n",
    "XGBoost (Tuned): 0.6891 with 70% accuracy\n",
    "Random forest (Tunded): 0.6756 with 69%\n",
    "\n",
    "XGBoost outperformed Random Forest in terms of ROC-AUC (0.6891 vs. 0.6756) and balanced metrics across precision, recall, and f1-score.\n",
    "\n",
    "Both models are heavily biased toward class 1, which might be the majority class. They struggle with class 0 — very low recall (~0.18–0.23), meaning many false negatives."
   ]
  },
  {
   "cell_type": "markdown",
   "id": "d17867c3",
   "metadata": {},
   "source": [
    "### 4.2.5 Feature Importance Analysis"
   ]
  },
  {
   "cell_type": "markdown",
   "id": "e5716d44",
   "metadata": {},
   "source": [
    "Identifying key features (e.g., Stage, TMB) helps uncover prognostic biomarkers, supporting clinical research and practice.\n",
    "\n",
    "Feature importances from the tuned Random Forest and XGBoost models are extracted and visualized using bar plots, highlighting the most influential predictors."
   ]
  },
  {
   "cell_type": "code",
   "execution_count": 443,
   "id": "18245a22",
   "metadata": {},
   "outputs": [
    {
     "data": {
      "image/png": "[encoded data removed]",
      "text/plain": [
       "<Figure size 720x432 with 1 Axes>"
      ]
     },
     "metadata": {
      "needs_background": "light"
     },
     "output_type": "display_data"
    },
    {
     "data": {
      "image/png": "[encoded data removed]",
      "text/plain": [
       "<Figure size 720x432 with 1 Axes>"
      ]
     },
     "metadata": {
      "needs_background": "light"
     },
     "output_type": "display_data"
    }
   ],
   "source": [
    "# Feature importance for Random Forest\n",
    "rf_importances = pd.DataFrame({\n",
    "    'Feature': X.columns,\n",
    "    'Importance': rf_best.feature_importances_\n",
    "}).sort_values('Importance', ascending=False)\n",
    "\n",
    "plt.figure(figsize=(10, 6))\n",
    "sns.barplot(x='Importance', y='Feature', data=rf_importances)\n",
    "plt.title('Random Forest Feature Importance')\n",
    "plt.show()\n",
    "\n",
    "# Feature importance for XGBoost\n",
    "xgb_importances = pd.DataFrame({\n",
    "    'Feature': X.columns,\n",
    "    'Importance': xgb_best.feature_importances_\n",
    "}).sort_values('Importance', ascending=False)\n",
    "\n",
    "plt.figure(figsize=(10, 6))\n",
    "sns.barplot(x='Importance', y='Feature', data=xgb_importances)\n",
    "plt.title('XGBoost Feature Importance')\n",
    "plt.show()"
   ]
  },
  {
   "cell_type": "markdown",
   "id": "6dbe3019",
   "metadata": {},
   "source": [
    "### 4.2.6 Clinical Utility Demonstration and Threshold Tuning\n",
    "Risk stratification demonstrates how the model can identify high-risk patients for targeted therapies, aligning with clinical decision-making goals.\n",
    "\n",
    "The best model predicts risk scores (probability of 'Deceased'). Patients are classified as high or low risk based on a threshold (0.5). A sample of results is displayed, and a histogram visualizes the risk score distribution. A summary explains how the model supports personalized treatment planning.\n",
    "\n",
    "Threshold tuning is performed to optimize the classification threshold for predicting 'Deceased' patients, prioritizing sensitivity while balancing precision. The best model predicts risk scores, and patients are classified as high or low risk based on the optimal threshold. A sample of results is displayed, and a histogram visualizes the risk score distribution."
   ]
  },
  {
   "cell_type": "code",
   "execution_count": 444,
   "id": "cd391675",
   "metadata": {},
   "outputs": [
    {
     "name": "stderr",
     "output_type": "stream",
     "text": [
      "c:\\Users\\MichelleChekwooti\\anaconda3\\envs\\learn-env\\lib\\site-packages\\xgboost\\data.py:173: FutureWarning: pandas.Int64Index is deprecated and will be removed from pandas in a future version. Use pandas.Index with the appropriate dtype instead.\n",
      "  from pandas import MultiIndex, Int64Index\n"
     ]
    },
    {
     "name": "stdout",
     "output_type": "stream",
     "text": [
      "Optimal Threshold (maximizing F1-score): 0.2822\n",
      "F1-Score at Optimal Threshold: 0.8191\n",
      "Precision at Optimal Threshold: 0.6970\n",
      "Recall at Optimal Threshold: 0.9929\n"
     ]
    },
    {
     "data": {
      "image/png": "[encoded data removed]",
      "text/plain": [
       "<Figure size 576x432 with 1 Axes>"
      ]
     },
     "metadata": {
      "needs_background": "light"
     },
     "output_type": "display_data"
    },
    {
     "data": {
      "image/png": "[encoded data removed]",
      "text/plain": [
       "<Figure size 576x432 with 1 Axes>"
      ]
     },
     "metadata": {
      "needs_background": "light"
     },
     "output_type": "display_data"
    },
    {
     "name": "stdout",
     "output_type": "stream",
     "text": [
      "Sample Risk Stratification Results:\n",
      "     Patient ID  Risk Score Risk Label Actual Survival Status\n",
      "975   P-0024828    0.804643  High Risk             1:DECEASED\n",
      "2729  P-0076947    0.682682  High Risk               0:LIVING\n",
      "533   P-0014160    0.762334  High Risk             1:DECEASED\n",
      "140   P-0006205    0.923713  High Risk             1:DECEASED\n",
      "855   P-0022128    0.786158  High Risk             1:DECEASED\n",
      "706   P-0018529    0.687155  High Risk             1:DECEASED\n",
      "2979  P-0083563    0.496891  High Risk               0:LIVING\n",
      "2822  P-0079390    0.604849  High Risk               0:LIVING\n",
      "1110  P-0028708    0.780797  High Risk             1:DECEASED\n",
      "27    P-0002458    0.750052  High Risk             1:DECEASED\n",
      "\n",
      "Performance at Optimal Threshold:\n",
      "              precision    recall  f1-score   support\n",
      "\n",
      "           0       0.83      0.08      0.14       198\n",
      "           1       0.70      0.99      0.82       424\n",
      "\n",
      "    accuracy                           0.70       622\n",
      "   macro avg       0.77      0.53      0.48       622\n",
      "weighted avg       0.74      0.70      0.60       622\n",
      "\n"
     ]
    },
    {
     "data": {
      "image/png": "[encoded data removed]",
      "text/plain": [
       "<Figure size 576x432 with 1 Axes>"
      ]
     },
     "metadata": {
      "needs_background": "light"
     },
     "output_type": "display_data"
    },
    {
     "name": "stdout",
     "output_type": "stream",
     "text": [
      "Clinical Utility Summary:\n",
      "- High-risk patients (Risk Score >= 0.2822) can be prioritized for aggressive treatments or clinical trials.\n",
      "- Low-risk patients may benefit from less invasive monitoring or standard care.\n",
      "- The model supports personalized treatment planning by identifying patients at greatest risk of poor outcomes.\n"
     ]
    }
   ],
   "source": [
    "le_y = LabelEncoder()\n",
    "le_y.fit(df_filtered['Overall Survival Status'])\n",
    "\n",
    "# Risk stratification using the best model \n",
    "risk_scores = xgb_best.predict_proba(X_test)[:, 1] \n",
    "\n",
    "# Threshold tuning using precision-recall curve\n",
    "precision, recall, thresholds = precision_recall_curve(y_test, risk_scores)\n",
    "f1_scores = [2 * (p * r) / (p + r) if (p + r) > 0 else 0 for p, r in zip(precision, recall)]\n",
    "\n",
    "# Find the threshold that maximizes F1-score\n",
    "optimal_idx = np.argmax(f1_scores)\n",
    "optimal_threshold = thresholds[optimal_idx]\n",
    "print(f\"Optimal Threshold (maximizing F1-score): {optimal_threshold:.4f}\")\n",
    "print(f\"F1-Score at Optimal Threshold: {f1_scores[optimal_idx]:.4f}\")\n",
    "print(f\"Precision at Optimal Threshold: {precision[optimal_idx]:.4f}\")\n",
    "print(f\"Recall at Optimal Threshold: {recall[optimal_idx]:.4f}\")\n",
    "\n",
    "# Plot precision-recall curve\n",
    "plt.figure(figsize=(8, 6))\n",
    "plt.plot(thresholds, precision[:-1], label='Precision')\n",
    "plt.plot(thresholds, recall[:-1], label='Recall')\n",
    "plt.plot(thresholds, f1_scores[:-1], label='F1-Score')\n",
    "plt.axvline(optimal_threshold, color='red', linestyle='--', label=f'Optimal Threshold ({optimal_threshold:.4f})')\n",
    "plt.xlabel('Threshold')\n",
    "plt.ylabel('Score')\n",
    "plt.title('Precision-Recall vs Threshold')\n",
    "plt.legend()\n",
    "plt.show()\n",
    "\n",
    "# Plot ROC curve for additional insight\n",
    "fpr, tpr, roc_thresholds = roc_curve(y_test, risk_scores)\n",
    "plt.figure(figsize=(8, 6))\n",
    "plt.plot(fpr, tpr, label=f'ROC Curve (AUC = {roc_auc_score(y_test, risk_scores):.4f})')\n",
    "plt.plot([0, 1], [0, 1], 'k--')\n",
    "plt.xlabel('False Positive Rate')\n",
    "plt.ylabel('True Positive Rate')\n",
    "plt.title('ROC Curve - XGBoost')\n",
    "plt.legend()\n",
    "plt.show()\n",
    "\n",
    "# Classify patients using the optimal threshold\n",
    "risk_labels = ['High Risk' if score >= optimal_threshold else 'Low Risk' for score in risk_scores]\n",
    "\n",
    "# Create a DataFrame for risk stratification results\n",
    "risk_df = pd.DataFrame({\n",
    "    'Patient ID': df_filtered.loc[X_test.index, 'Patient ID'],\n",
    "    'Risk Score': risk_scores,\n",
    "    'Risk Label': risk_labels,\n",
    "    'Actual Survival Status': le_y.inverse_transform(y_test)\n",
    "})\n",
    "\n",
    "# Display sample of risk stratification\n",
    "print(\"Sample Risk Stratification Results:\")\n",
    "print(risk_df.head(10))\n",
    "\n",
    "# Evaluate performance at the optimal threshold\n",
    "y_pred_optimal = (risk_scores >= optimal_threshold).astype(int)\n",
    "print(\"\\nPerformance at Optimal Threshold:\")\n",
    "print(classification_report(y_test, y_pred_optimal))\n",
    "\n",
    "# Visualize risk score distribution\n",
    "plt.figure(figsize=(8, 6))\n",
    "sns.histplot(risk_scores, bins=20, kde=True)\n",
    "plt.axvline(optimal_threshold, color='red', linestyle='--', label=f'Optimal Threshold ({optimal_threshold:.4f})')\n",
    "plt.xlabel('Risk Score (Probability of Deceased)')\n",
    "plt.ylabel('Count')\n",
    "plt.title('Risk Score Distribution')\n",
    "plt.legend()\n",
    "plt.show()\n",
    "\n",
    "# Clinical utility summary\n",
    "print(\"Clinical Utility Summary:\")\n",
    "print(f\"- High-risk patients (Risk Score >= {optimal_threshold:.4f}) can be prioritized for aggressive treatments or clinical trials.\")\n",
    "print(\"- Low-risk patients may benefit from less invasive monitoring or standard care.\")\n",
    "print(\"- The model supports personalized treatment planning by identifying patients at greatest risk of poor outcomes.\")"
   ]
  },
  {
   "cell_type": "markdown",
   "id": "e830bf04",
   "metadata": {},
   "source": [
    "By tuning the classification threshold to 0.2822, we achieved a near-perfect recall (0.992), ensuring that almost all patients at risk of poor survival are correctly identified. Most deceased were correctly flagged (420/424) and Most living patients were flagged high risk too (182/198).\n",
    "\n",
    "While this comes at the cost of some false positives (precision = 0.6970), in a clinical setting, this tradeoff is acceptable. The model is therefore highly suitable for screening or early warning systems where the goal is to flag as many high-risk cases as possible for further clinical evaluation."
   ]
  },
  {
   "cell_type": "markdown",
   "id": "778ab0ca",
   "metadata": {},
   "source": [
    "### 4.2.7 Saving the Model for deployment.\n",
    "\n",
    "Saving the model ensures it can be deployed or reused, enhancing reproducibility and usability in clinical settings.\n",
    "\n",
    "After hyperparameter tuning, both Random Forest and XGBoost outperform Logistic Regression in terms of ROC-AUC.\n",
    "\n",
    "The best model (Random forest Tuned) and preprocessing objects (scaler, label encoders, target encoder) are saved using joblib for future use."
   ]
  },
  {
   "cell_type": "code",
   "execution_count": 445,
   "id": "d6b4d033",
   "metadata": {},
   "outputs": [
    {
     "name": "stdout",
     "output_type": "stream",
     "text": [
      "Best model saved as 'pancreatic_cancer_survival_model.pkl'\n",
      "Scaler saved as 'scaler.pkl'\n",
      "Preprocessing objects saved for future use.\n"
     ]
    }
   ],
   "source": [
    "\n",
    "\n",
    "# Save the best model Random forest\n",
    "joblib.dump(rf_best, 'pancreatic_cancer_survival_model.pkl')\n",
    "print(\"Best model saved as 'pancreatic_cancer_survival_model.pkl'\")\n",
    "\n",
    "# Save the scaler and label encoders for preprocessing\n",
    "joblib.dump(scaler, 'scaler.pkl')\n",
    "print(\"Scaler saved as 'scaler.pkl'\")\n",
    "\n",
    "joblib.dump(le_y, 'target_encoder.pkl')\n",
    "print(\"Preprocessing objects saved for future use.\")\n"
   ]
  }
 ],
 "metadata": {
  "kernelspec": {
   "display_name": "learn-env",
   "language": "python",
   "name": "python3"
  },
  "language_info": {
   "codemirror_mode": {
    "name": "ipython",
    "version": 3
   },
   "file_extension": ".py",
   "mimetype": "text/x-python",
   "name": "python",
   "nbconvert_exporter": "python",
   "pygments_lexer": "ipython3",
   "version": "3.8.5"
  }
 },
 "nbformat": 4,
 "nbformat_minor": 5
}
