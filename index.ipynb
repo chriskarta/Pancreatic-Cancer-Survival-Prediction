{
  "cells": [
    {
      "cell_type": "markdown",
      "id": "42842eed",
      "metadata": {
        "id": "42842eed"
      },
      "source": [
        "# Pancreatic Cancer risk identification and treatment"
      ]
    },
    {
      "cell_type": "markdown",
      "id": "cbcb2acb",
      "metadata": {
        "id": "cbcb2acb"
      },
      "source": [
        "## Introduction and Background\n",
        "\n",
        "Pancreatic cancer is one of the most lethal malignancies worldwide, with a five-year survival rate of less than 10% due to its late diagnosis and aggressive progression. Accurate prediction of patient survival at the time of diagnosis remains a critical challenge in oncology, limiting clinicians’ ability to personalize treatment and allocate resources effectively. With the increasing availability of clinical and genomic data, there is a growing opportunity to leverage machine learning to estimate patient outcomes and support evidence-based decision-making.\n"
      ]
    },
    {
      "cell_type": "markdown",
      "id": "2bd224ba",
      "metadata": {
        "id": "2bd224ba"
      },
      "source": [
        "## Problem Statement\n",
        "\n",
        "Pancreatic cancer is often diagnosed late and is difficult to treat, making it one of the deadliest cancers. Doctors lack accurate tools to predict how long a patient might survive, which limits personalized care. Although there is a lot of clinical and genomic data available, survival is still mainly predicted using general staging systems. This project aims to build a machine learning model that can better predict survival in pancreatic cancer patients, helping doctors make more informed decisions.\n",
        "\n",
        "By identifying high-risk individuals early, this tool can support treatment planning, improve patient counseling, and guide the selection of candidates for advanced therapies or clinical trials."
      ]
    },
    {
      "cell_type": "markdown",
      "id": "baa23ad9",
      "metadata": {
        "id": "baa23ad9"
      },
      "source": [
        "## Project Objectives\n",
        "\n",
        "1.\tFilter and isolate pancreatic cancer patient data from a larger clinical-genomic dataset to create a focused, high-quality subset for analysis.\n",
        "2.\tPreprocess and engineer features from clinical, pathological, and genomic variables such as tumor mutational burden (TMB), tumor purity, disease stage, and demographic data.\n",
        "3.\tBuild a predictive machine learning model to estimate the overall survival status (alive vs. deceased) of pancreatic cancer patients at the time of sample collection or diagnosis.\n",
        "4.\tEvaluate model performance using classification metrics such as accuracy, precision, recall, F1-score, and ROC-AUC to ensure clinical relevance and reliability.\n",
        "5.\tInterpret model outputs to identify the most influential features contributing to survival predictions, thereby providing insights into potential prognostic biomarkers.\n",
        "6.\tDemonstrate potential clinical utility by outlining how the model could support risk stratification, personalized treatment planning, and early patient counseling in real-world oncology settings.\n"
      ]
    },
    {
      "cell_type": "markdown",
      "id": "ed3808f1",
      "metadata": {
        "id": "ed3808f1"
      },
      "source": [
        "## 1. Data Understanding"
      ]
    },
    {
      "cell_type": "markdown",
      "id": "KrhDezNdPyWt",
      "metadata": {
        "id": "KrhDezNdPyWt"
      },
      "source": [
        "MSK-CHORD (MSK, Nature 2024)\n",
        "The dataset was sourced from the MSK CHORD 2024 clinical-genomic database, which includes over 25,000 different cancer cases.\n",
        "\n",
        "A subset of 3,109 records corresponding to patients with pancreatic cancer was extracted based on the Cancer Type column.\n",
        "Targeted sequencing of 25,040 tumors from 24,950 patients and their matched normals via MSK-IMPACT, along with clinical annotations, some of which are derived from natural language processing (denoted NLP). This data is available under the Creative Commons BY-NC-ND 4.0 license.\n",
        "\n",
        "Data Url: https://www.cbioportal.org/study/summary?id=msk_chord_2024"
      ]
    },
    {
      "cell_type": "code",
      "execution_count": 364,
      "id": "515ad314",
      "metadata": {
        "id": "515ad314"
      },
      "outputs": [],
      "source": [
        "# importing relevant libraries\n",
        "\n",
        "import numpy as np\n",
        "import pandas as pd\n",
        "import matplotlib.pyplot as plt\n",
        "%matplotlib inline\n",
        "import seaborn as sns\n",
        "from sklearn.preprocessing import LabelEncoder, StandardScaler\n",
        "from sklearn.impute import SimpleImputer\n",
        "from sklearn.model_selection import train_test_split, GridSearchCV, cross_val_score\n",
        "from sklearn.linear_model import LogisticRegression\n",
        "from sklearn.ensemble import RandomForestClassifier\n",
        "from xgboost import XGBClassifier\n",
        "from sklearn.metrics import accuracy_score, precision_score, recall_score, f1_score, roc_auc_score, confusion_matrix, classification_report, roc_curve\n",
        "import joblib \n",
        "\n",
        "from sklearn.metrics import precision_recall_curve, roc_curve, roc_auc_score, classification_report\n",
        "import matplotlib.pyplot as plt\n",
        "import seaborn as sns\n",
        "import numpy as np\n",
        "import pandas as pd\n",
        "from sklearn.preprocessing import LabelEncoder\n",
        "\n",
        "from sklearn.feature_selection import chi2\n",
        "from sklearn.feature_selection import SelectKBest"
      ]
    },
    {
      "cell_type": "code",
      "execution_count": 365,
      "id": "a2fa4dbb",
      "metadata": {
        "id": "a2fa4dbb"
      },
      "outputs": [],
      "source": [
        "# Importing the dataset\n",
        "df = pd.read_csv('msk_chord_2024_clinical_data.csv')"
      ]
    },
    {
      "cell_type": "code",
      "execution_count": 366,
      "id": "kMDAPxSqRa0r",
      "metadata": {
        "colab": {
          "base_uri": "https://localhost:8080/",
          "height": 0
        },
        "id": "kMDAPxSqRa0r",
        "outputId": "38a95b2b-7a39-44af-c32c-ea969b7c0120"
      },
      "outputs": [
        {
          "data": {
            "text/html": [
              "<div>\n",
              "<style scoped>\n",
              "    .dataframe tbody tr th:only-of-type {\n",
              "        vertical-align: middle;\n",
              "    }\n",
              "\n",
              "    .dataframe tbody tr th {\n",
              "        vertical-align: top;\n",
              "    }\n",
              "\n",
              "    .dataframe thead th {\n",
              "        text-align: right;\n",
              "    }\n",
              "</style>\n",
              "<table border=\"1\" class=\"dataframe\">\n",
              "  <thead>\n",
              "    <tr style=\"text-align: right;\">\n",
              "      <th></th>\n",
              "      <th>Study ID</th>\n",
              "      <th>Patient ID</th>\n",
              "      <th>Sample ID</th>\n",
              "      <th>Tumor Site: Adrenal Glands (NLP)</th>\n",
              "      <th>Tumor Site: Bone (NLP)</th>\n",
              "      <th>Cancer Type</th>\n",
              "      <th>Cancer Type Detailed</th>\n",
              "      <th>Clinical Group</th>\n",
              "      <th>Clinical Summary</th>\n",
              "      <th>Tumor Site: CNS/Brain (NLP)</th>\n",
              "      <th>...</th>\n",
              "      <th>Tumor Site: Reproductive Organs (NLP)</th>\n",
              "      <th>Sample Class</th>\n",
              "      <th>Number of Samples Per Patient</th>\n",
              "      <th>Sample coverage</th>\n",
              "      <th>Sample Type</th>\n",
              "      <th>Smoking History (NLP)</th>\n",
              "      <th>Somatic Status</th>\n",
              "      <th>Stage (Highest Recorded)</th>\n",
              "      <th>TMB (nonsynonymous)</th>\n",
              "      <th>Tumor Purity</th>\n",
              "    </tr>\n",
              "  </thead>\n",
              "  <tbody>\n",
              "    <tr>\n",
              "      <th>0</th>\n",
              "      <td>msk_chord_2024</td>\n",
              "      <td>P-0000012</td>\n",
              "      <td>P-0000012-T02-IM3</td>\n",
              "      <td>No</td>\n",
              "      <td>No</td>\n",
              "      <td>Breast Cancer</td>\n",
              "      <td>Breast Invasive Ductal Carcinoma</td>\n",
              "      <td>NaN</td>\n",
              "      <td>NaN</td>\n",
              "      <td>No</td>\n",
              "      <td>...</td>\n",
              "      <td>No</td>\n",
              "      <td>Tumor</td>\n",
              "      <td>2</td>\n",
              "      <td>344</td>\n",
              "      <td>Primary</td>\n",
              "      <td>Former/Current Smoker</td>\n",
              "      <td>Matched</td>\n",
              "      <td>Stage 1-3</td>\n",
              "      <td>1.109155</td>\n",
              "      <td>NaN</td>\n",
              "    </tr>\n",
              "    <tr>\n",
              "      <th>1</th>\n",
              "      <td>msk_chord_2024</td>\n",
              "      <td>P-0000012</td>\n",
              "      <td>P-0000012-T03-IM3</td>\n",
              "      <td>No</td>\n",
              "      <td>No</td>\n",
              "      <td>Non-Small Cell Lung Cancer</td>\n",
              "      <td>Lung Adenocarcinoma</td>\n",
              "      <td>3B</td>\n",
              "      <td>Distant</td>\n",
              "      <td>No</td>\n",
              "      <td>...</td>\n",
              "      <td>No</td>\n",
              "      <td>Tumor</td>\n",
              "      <td>2</td>\n",
              "      <td>428</td>\n",
              "      <td>Metastasis</td>\n",
              "      <td>Former/Current Smoker</td>\n",
              "      <td>Matched</td>\n",
              "      <td>Stage 1-3</td>\n",
              "      <td>32.165504</td>\n",
              "      <td>NaN</td>\n",
              "    </tr>\n",
              "    <tr>\n",
              "      <th>2</th>\n",
              "      <td>msk_chord_2024</td>\n",
              "      <td>P-0000015</td>\n",
              "      <td>P-0000015-T01-IM3</td>\n",
              "      <td>No</td>\n",
              "      <td>Yes</td>\n",
              "      <td>Breast Cancer</td>\n",
              "      <td>Breast Invasive Ductal Carcinoma</td>\n",
              "      <td>1</td>\n",
              "      <td>Localized</td>\n",
              "      <td>Yes</td>\n",
              "      <td>...</td>\n",
              "      <td>No</td>\n",
              "      <td>Tumor</td>\n",
              "      <td>1</td>\n",
              "      <td>281</td>\n",
              "      <td>Metastasis</td>\n",
              "      <td>Unknown</td>\n",
              "      <td>Matched</td>\n",
              "      <td>Stage 1-3</td>\n",
              "      <td>7.764087</td>\n",
              "      <td>40.0</td>\n",
              "    </tr>\n",
              "    <tr>\n",
              "      <th>3</th>\n",
              "      <td>msk_chord_2024</td>\n",
              "      <td>P-0000036</td>\n",
              "      <td>P-0000036-T01-IM3</td>\n",
              "      <td>No</td>\n",
              "      <td>Yes</td>\n",
              "      <td>Non-Small Cell Lung Cancer</td>\n",
              "      <td>Lung Adenocarcinoma</td>\n",
              "      <td>4</td>\n",
              "      <td>Distant</td>\n",
              "      <td>No</td>\n",
              "      <td>...</td>\n",
              "      <td>No</td>\n",
              "      <td>Tumor</td>\n",
              "      <td>1</td>\n",
              "      <td>380</td>\n",
              "      <td>Primary</td>\n",
              "      <td>Never</td>\n",
              "      <td>Unmatched</td>\n",
              "      <td>Stage 4</td>\n",
              "      <td>7.764087</td>\n",
              "      <td>30.0</td>\n",
              "    </tr>\n",
              "    <tr>\n",
              "      <th>4</th>\n",
              "      <td>msk_chord_2024</td>\n",
              "      <td>P-0000041</td>\n",
              "      <td>P-0000041-T01-IM3</td>\n",
              "      <td>No</td>\n",
              "      <td>Yes</td>\n",
              "      <td>Breast Cancer</td>\n",
              "      <td>Breast Invasive Ductal Carcinoma</td>\n",
              "      <td>2A</td>\n",
              "      <td>Localized</td>\n",
              "      <td>Yes</td>\n",
              "      <td>...</td>\n",
              "      <td>No</td>\n",
              "      <td>Tumor</td>\n",
              "      <td>1</td>\n",
              "      <td>401</td>\n",
              "      <td>Primary</td>\n",
              "      <td>Unknown</td>\n",
              "      <td>Matched</td>\n",
              "      <td>Stage 1-3</td>\n",
              "      <td>11.091553</td>\n",
              "      <td>30.0</td>\n",
              "    </tr>\n",
              "  </tbody>\n",
              "</table>\n",
              "<p>5 rows × 53 columns</p>\n",
              "</div>"
            ],
            "text/plain": [
              "         Study ID Patient ID          Sample ID  \\\n",
              "0  msk_chord_2024  P-0000012  P-0000012-T02-IM3   \n",
              "1  msk_chord_2024  P-0000012  P-0000012-T03-IM3   \n",
              "2  msk_chord_2024  P-0000015  P-0000015-T01-IM3   \n",
              "3  msk_chord_2024  P-0000036  P-0000036-T01-IM3   \n",
              "4  msk_chord_2024  P-0000041  P-0000041-T01-IM3   \n",
              "\n",
              "  Tumor Site: Adrenal Glands (NLP) Tumor Site: Bone (NLP)  \\\n",
              "0                               No                     No   \n",
              "1                               No                     No   \n",
              "2                               No                    Yes   \n",
              "3                               No                    Yes   \n",
              "4                               No                    Yes   \n",
              "\n",
              "                  Cancer Type              Cancer Type Detailed  \\\n",
              "0               Breast Cancer  Breast Invasive Ductal Carcinoma   \n",
              "1  Non-Small Cell Lung Cancer               Lung Adenocarcinoma   \n",
              "2               Breast Cancer  Breast Invasive Ductal Carcinoma   \n",
              "3  Non-Small Cell Lung Cancer               Lung Adenocarcinoma   \n",
              "4               Breast Cancer  Breast Invasive Ductal Carcinoma   \n",
              "\n",
              "  Clinical Group Clinical Summary Tumor Site: CNS/Brain (NLP)  ...  \\\n",
              "0            NaN              NaN                          No  ...   \n",
              "1             3B          Distant                          No  ...   \n",
              "2              1        Localized                         Yes  ...   \n",
              "3              4          Distant                          No  ...   \n",
              "4             2A        Localized                         Yes  ...   \n",
              "\n",
              "   Tumor Site: Reproductive Organs (NLP) Sample Class  \\\n",
              "0                                     No        Tumor   \n",
              "1                                     No        Tumor   \n",
              "2                                     No        Tumor   \n",
              "3                                     No        Tumor   \n",
              "4                                     No        Tumor   \n",
              "\n",
              "  Number of Samples Per Patient  Sample coverage Sample Type  \\\n",
              "0                             2              344     Primary   \n",
              "1                             2              428  Metastasis   \n",
              "2                             1              281  Metastasis   \n",
              "3                             1              380     Primary   \n",
              "4                             1              401     Primary   \n",
              "\n",
              "   Smoking History (NLP)  Somatic Status  Stage (Highest Recorded)  \\\n",
              "0  Former/Current Smoker         Matched                 Stage 1-3   \n",
              "1  Former/Current Smoker         Matched                 Stage 1-3   \n",
              "2                Unknown         Matched                 Stage 1-3   \n",
              "3                  Never       Unmatched                   Stage 4   \n",
              "4                Unknown         Matched                 Stage 1-3   \n",
              "\n",
              "   TMB (nonsynonymous) Tumor Purity  \n",
              "0             1.109155          NaN  \n",
              "1            32.165504          NaN  \n",
              "2             7.764087         40.0  \n",
              "3             7.764087         30.0  \n",
              "4            11.091553         30.0  \n",
              "\n",
              "[5 rows x 53 columns]"
            ]
          },
          "execution_count": 366,
          "metadata": {},
          "output_type": "execute_result"
        }
      ],
      "source": [
        "# Looking at the first 5 rows\n",
        "df.head()"
      ]
    },
    {
      "cell_type": "code",
      "execution_count": 367,
      "id": "iNpuILTxRgKx",
      "metadata": {
        "colab": {
          "base_uri": "https://localhost:8080/",
          "height": 0
        },
        "id": "iNpuILTxRgKx",
        "outputId": "475e8a4b-002b-4417-b8ef-491c1f6cdc7e"
      },
      "outputs": [
        {
          "data": {
            "text/html": [
              "<div>\n",
              "<style scoped>\n",
              "    .dataframe tbody tr th:only-of-type {\n",
              "        vertical-align: middle;\n",
              "    }\n",
              "\n",
              "    .dataframe tbody tr th {\n",
              "        vertical-align: top;\n",
              "    }\n",
              "\n",
              "    .dataframe thead th {\n",
              "        text-align: right;\n",
              "    }\n",
              "</style>\n",
              "<table border=\"1\" class=\"dataframe\">\n",
              "  <thead>\n",
              "    <tr style=\"text-align: right;\">\n",
              "      <th></th>\n",
              "      <th>Study ID</th>\n",
              "      <th>Patient ID</th>\n",
              "      <th>Sample ID</th>\n",
              "      <th>Tumor Site: Adrenal Glands (NLP)</th>\n",
              "      <th>Tumor Site: Bone (NLP)</th>\n",
              "      <th>Cancer Type</th>\n",
              "      <th>Cancer Type Detailed</th>\n",
              "      <th>Clinical Group</th>\n",
              "      <th>Clinical Summary</th>\n",
              "      <th>Tumor Site: CNS/Brain (NLP)</th>\n",
              "      <th>...</th>\n",
              "      <th>Tumor Site: Reproductive Organs (NLP)</th>\n",
              "      <th>Sample Class</th>\n",
              "      <th>Number of Samples Per Patient</th>\n",
              "      <th>Sample coverage</th>\n",
              "      <th>Sample Type</th>\n",
              "      <th>Smoking History (NLP)</th>\n",
              "      <th>Somatic Status</th>\n",
              "      <th>Stage (Highest Recorded)</th>\n",
              "      <th>TMB (nonsynonymous)</th>\n",
              "      <th>Tumor Purity</th>\n",
              "    </tr>\n",
              "  </thead>\n",
              "  <tbody>\n",
              "    <tr>\n",
              "      <th>25035</th>\n",
              "      <td>msk_chord_2024</td>\n",
              "      <td>P-0089665</td>\n",
              "      <td>P-0089665-T01-IM7</td>\n",
              "      <td>No</td>\n",
              "      <td>Yes</td>\n",
              "      <td>Breast Cancer</td>\n",
              "      <td>Invasive Breast Carcinoma</td>\n",
              "      <td>NaN</td>\n",
              "      <td>Distant Metastases/Systemic Disease</td>\n",
              "      <td>Yes</td>\n",
              "      <td>...</td>\n",
              "      <td>No</td>\n",
              "      <td>Tumor</td>\n",
              "      <td>1</td>\n",
              "      <td>690</td>\n",
              "      <td>Metastasis</td>\n",
              "      <td>Never</td>\n",
              "      <td>Matched</td>\n",
              "      <td>Stage 1-3</td>\n",
              "      <td>4.922083</td>\n",
              "      <td>70.0</td>\n",
              "    </tr>\n",
              "    <tr>\n",
              "      <th>25036</th>\n",
              "      <td>msk_chord_2024</td>\n",
              "      <td>P-0089672</td>\n",
              "      <td>P-0089672-T01-IM7</td>\n",
              "      <td>Unknown</td>\n",
              "      <td>Unknown</td>\n",
              "      <td>Breast Cancer</td>\n",
              "      <td>Breast Invasive Ductal Carcinoma</td>\n",
              "      <td>1A</td>\n",
              "      <td>Regional To Lymph Nodes</td>\n",
              "      <td>Unknown</td>\n",
              "      <td>...</td>\n",
              "      <td>Unknown</td>\n",
              "      <td>Tumor</td>\n",
              "      <td>1</td>\n",
              "      <td>426</td>\n",
              "      <td>Primary</td>\n",
              "      <td>Former/Current Smoker</td>\n",
              "      <td>Matched</td>\n",
              "      <td>Stage 1-3</td>\n",
              "      <td>0.820347</td>\n",
              "      <td>35.0</td>\n",
              "    </tr>\n",
              "    <tr>\n",
              "      <th>25037</th>\n",
              "      <td>msk_chord_2024</td>\n",
              "      <td>P-0089676</td>\n",
              "      <td>P-0089676-T01-IM7</td>\n",
              "      <td>Unknown</td>\n",
              "      <td>Unknown</td>\n",
              "      <td>Breast Cancer</td>\n",
              "      <td>Breast Invasive Ductal Carcinoma</td>\n",
              "      <td>1B</td>\n",
              "      <td>NaN</td>\n",
              "      <td>Unknown</td>\n",
              "      <td>...</td>\n",
              "      <td>Unknown</td>\n",
              "      <td>Tumor</td>\n",
              "      <td>1</td>\n",
              "      <td>399</td>\n",
              "      <td>Primary</td>\n",
              "      <td>Never</td>\n",
              "      <td>Matched</td>\n",
              "      <td>Stage 1-3</td>\n",
              "      <td>2.461042</td>\n",
              "      <td>40.0</td>\n",
              "    </tr>\n",
              "    <tr>\n",
              "      <th>25038</th>\n",
              "      <td>msk_chord_2024</td>\n",
              "      <td>P-0089687</td>\n",
              "      <td>P-0089687-T01-IM7</td>\n",
              "      <td>No</td>\n",
              "      <td>No</td>\n",
              "      <td>Colorectal Cancer</td>\n",
              "      <td>Colon Adenocarcinoma</td>\n",
              "      <td>1</td>\n",
              "      <td>Localized</td>\n",
              "      <td>No</td>\n",
              "      <td>...</td>\n",
              "      <td>No</td>\n",
              "      <td>Tumor</td>\n",
              "      <td>1</td>\n",
              "      <td>576</td>\n",
              "      <td>Primary</td>\n",
              "      <td>Former/Current Smoker</td>\n",
              "      <td>Matched</td>\n",
              "      <td>Stage 1-3</td>\n",
              "      <td>9.844167</td>\n",
              "      <td>40.0</td>\n",
              "    </tr>\n",
              "    <tr>\n",
              "      <th>25039</th>\n",
              "      <td>msk_chord_2024</td>\n",
              "      <td>P-0089690</td>\n",
              "      <td>P-0089690-T01-IM7</td>\n",
              "      <td>No</td>\n",
              "      <td>Yes</td>\n",
              "      <td>Breast Cancer</td>\n",
              "      <td>Breast Invasive Lobular Carcinoma</td>\n",
              "      <td>4</td>\n",
              "      <td>Distant Metastases/Systemic Disease</td>\n",
              "      <td>No</td>\n",
              "      <td>...</td>\n",
              "      <td>No</td>\n",
              "      <td>Tumor</td>\n",
              "      <td>1</td>\n",
              "      <td>498</td>\n",
              "      <td>Primary</td>\n",
              "      <td>Never</td>\n",
              "      <td>Matched</td>\n",
              "      <td>Stage 4</td>\n",
              "      <td>7.383125</td>\n",
              "      <td>30.0</td>\n",
              "    </tr>\n",
              "  </tbody>\n",
              "</table>\n",
              "<p>5 rows × 53 columns</p>\n",
              "</div>"
            ],
            "text/plain": [
              "             Study ID Patient ID          Sample ID  \\\n",
              "25035  msk_chord_2024  P-0089665  P-0089665-T01-IM7   \n",
              "25036  msk_chord_2024  P-0089672  P-0089672-T01-IM7   \n",
              "25037  msk_chord_2024  P-0089676  P-0089676-T01-IM7   \n",
              "25038  msk_chord_2024  P-0089687  P-0089687-T01-IM7   \n",
              "25039  msk_chord_2024  P-0089690  P-0089690-T01-IM7   \n",
              "\n",
              "      Tumor Site: Adrenal Glands (NLP) Tumor Site: Bone (NLP)  \\\n",
              "25035                               No                    Yes   \n",
              "25036                          Unknown                Unknown   \n",
              "25037                          Unknown                Unknown   \n",
              "25038                               No                     No   \n",
              "25039                               No                    Yes   \n",
              "\n",
              "             Cancer Type               Cancer Type Detailed Clinical Group  \\\n",
              "25035      Breast Cancer          Invasive Breast Carcinoma            NaN   \n",
              "25036      Breast Cancer   Breast Invasive Ductal Carcinoma             1A   \n",
              "25037      Breast Cancer   Breast Invasive Ductal Carcinoma             1B   \n",
              "25038  Colorectal Cancer               Colon Adenocarcinoma              1   \n",
              "25039      Breast Cancer  Breast Invasive Lobular Carcinoma              4   \n",
              "\n",
              "                          Clinical Summary Tumor Site: CNS/Brain (NLP)  ...  \\\n",
              "25035  Distant Metastases/Systemic Disease                         Yes  ...   \n",
              "25036              Regional To Lymph Nodes                     Unknown  ...   \n",
              "25037                                  NaN                     Unknown  ...   \n",
              "25038                            Localized                          No  ...   \n",
              "25039  Distant Metastases/Systemic Disease                          No  ...   \n",
              "\n",
              "       Tumor Site: Reproductive Organs (NLP) Sample Class  \\\n",
              "25035                                     No        Tumor   \n",
              "25036                                Unknown        Tumor   \n",
              "25037                                Unknown        Tumor   \n",
              "25038                                     No        Tumor   \n",
              "25039                                     No        Tumor   \n",
              "\n",
              "      Number of Samples Per Patient  Sample coverage Sample Type  \\\n",
              "25035                             1              690  Metastasis   \n",
              "25036                             1              426     Primary   \n",
              "25037                             1              399     Primary   \n",
              "25038                             1              576     Primary   \n",
              "25039                             1              498     Primary   \n",
              "\n",
              "       Smoking History (NLP)  Somatic Status  Stage (Highest Recorded)  \\\n",
              "25035                  Never         Matched                 Stage 1-3   \n",
              "25036  Former/Current Smoker         Matched                 Stage 1-3   \n",
              "25037                  Never         Matched                 Stage 1-3   \n",
              "25038  Former/Current Smoker         Matched                 Stage 1-3   \n",
              "25039                  Never         Matched                   Stage 4   \n",
              "\n",
              "       TMB (nonsynonymous) Tumor Purity  \n",
              "25035             4.922083         70.0  \n",
              "25036             0.820347         35.0  \n",
              "25037             2.461042         40.0  \n",
              "25038             9.844167         40.0  \n",
              "25039             7.383125         30.0  \n",
              "\n",
              "[5 rows x 53 columns]"
            ]
          },
          "execution_count": 367,
          "metadata": {},
          "output_type": "execute_result"
        }
      ],
      "source": [
        "#looking at the last 5 rows\n",
        "df.tail()"
      ]
    },
    {
      "cell_type": "code",
      "execution_count": 368,
      "id": "f85620e1",
      "metadata": {
        "colab": {
          "base_uri": "https://localhost:8080/"
        },
        "id": "f85620e1",
        "outputId": "8100251e-b43b-4029-8dd1-f4d894e68382"
      },
      "outputs": [
        {
          "name": "stdout",
          "output_type": "stream",
          "text": [
            "<class 'pandas.core.frame.DataFrame'>\n",
            "RangeIndex: 25040 entries, 0 to 25039\n",
            "Data columns (total 53 columns):\n",
            " #   Column                                  Non-Null Count  Dtype  \n",
            "---  ------                                  --------------  -----  \n",
            " 0   Study ID                                25040 non-null  object \n",
            " 1   Patient ID                              25040 non-null  object \n",
            " 2   Sample ID                               25040 non-null  object \n",
            " 3   Tumor Site: Adrenal Glands (NLP)        25040 non-null  object \n",
            " 4   Tumor Site: Bone (NLP)                  25040 non-null  object \n",
            " 5   Cancer Type                             25040 non-null  object \n",
            " 6   Cancer Type Detailed                    25040 non-null  object \n",
            " 7   Clinical Group                          20376 non-null  object \n",
            " 8   Clinical Summary                        24552 non-null  object \n",
            " 9   Tumor Site: CNS/Brain (NLP)             25040 non-null  object \n",
            " 10  Current Age                             25037 non-null  float64\n",
            " 11  Diagnosis Description                   25040 non-null  object \n",
            " 12  Ethnicity                               25040 non-null  object \n",
            " 13  Fraction Genome Altered                 24870 non-null  float64\n",
            " 14  Sex                                     25040 non-null  object \n",
            " 15  Gene Panel                              25040 non-null  object \n",
            " 16  Gleason Score, 1st Reported (NLP)       3272 non-null   float64\n",
            " 17  Gleason Score, Highest Reported (NLP)   3272 non-null   float64\n",
            " 18  Gleason Score Reported on Sample (NLP)  2110 non-null   float64\n",
            " 19  HER2                                    5392 non-null   object \n",
            " 20  History for Positive PD-L1 (NLP)        7051 non-null   object \n",
            " 21  HR                                      5392 non-null   object \n",
            " 22  ICD-O Histology Description             25040 non-null  object \n",
            " 23  Tumor Site: Intra Abdominal             25040 non-null  object \n",
            " 24  Tumor Site: Liver (NLP)                 25040 non-null  object \n",
            " 25  Tumor Site: Lung (NLP)                  25040 non-null  object \n",
            " 26  Tumor Site: Lymph Node (NLP)            25040 non-null  object \n",
            " 27  Metastatic Site                         8834 non-null   object \n",
            " 28  MSI Comment                             19343 non-null  object \n",
            " 29  MSI Score                               24487 non-null  float64\n",
            " 30  MSI Type                                24486 non-null  object \n",
            " 31  Mutation Count                          23862 non-null  float64\n",
            " 32  Number of Tumor Registry Entries        25040 non-null  int64  \n",
            " 33  Oncotree Code                           25040 non-null  object \n",
            " 34  Overall Survival (Months)               25040 non-null  float64\n",
            " 35  Overall Survival Status                 25040 non-null  object \n",
            " 36  Tumor Site: Other (NLP)                 25040 non-null  object \n",
            " 37  Pathological Group                      17767 non-null  object \n",
            " 38  Sample PD-L1 Positive (NLP)             3526 non-null   object \n",
            " 39  Tumor Site: Pleura (NLP)                25040 non-null  object \n",
            " 40  Primary Tumor Site                      25040 non-null  object \n",
            " 41  Prior Treatment to MSK (NLP)            25040 non-null  object \n",
            " 42  Race                                    25040 non-null  object \n",
            " 43  Tumor Site: Reproductive Organs (NLP)   25040 non-null  object \n",
            " 44  Sample Class                            25040 non-null  object \n",
            " 45  Number of Samples Per Patient           25040 non-null  int64  \n",
            " 46  Sample coverage                         25040 non-null  int64  \n",
            " 47  Sample Type                             25040 non-null  object \n",
            " 48  Smoking History (NLP)                   25040 non-null  object \n",
            " 49  Somatic Status                          25040 non-null  object \n",
            " 50  Stage (Highest Recorded)                25040 non-null  object \n",
            " 51  TMB (nonsynonymous)                     25040 non-null  float64\n",
            " 52  Tumor Purity                            24454 non-null  float64\n",
            "dtypes: float64(10), int64(3), object(40)\n",
            "memory usage: 10.1+ MB\n"
          ]
        }
      ],
      "source": [
        "#We shall then review the dataset information\n",
        "df.info()"
      ]
    },
    {
      "cell_type": "code",
      "execution_count": 369,
      "id": "32ae0bef",
      "metadata": {
        "colab": {
          "base_uri": "https://localhost:8080/"
        },
        "id": "32ae0bef",
        "outputId": "608ac321-e6b3-48b3-8456-7f6f057afad9"
      },
      "outputs": [
        {
          "data": {
            "text/plain": [
              "(25040, 53)"
            ]
          },
          "execution_count": 369,
          "metadata": {},
          "output_type": "execute_result"
        }
      ],
      "source": [
        "# Looking at the shape of the dataset\n",
        "df.shape"
      ]
    },
    {
      "cell_type": "markdown",
      "id": "25f6f96b",
      "metadata": {
        "id": "25f6f96b"
      },
      "source": [
        "This shows the dataset has mostly float and object data. They are 25040 rows and 52 columns. The rows and columns will need to be selected and filtered to reduce the dataset and focus on Pancreatic cancer."
      ]
    },
    {
      "cell_type": "code",
      "execution_count": 370,
      "id": "2e78afb6",
      "metadata": {
        "colab": {
          "base_uri": "https://localhost:8080/",
          "height": 0
        },
        "id": "2e78afb6",
        "outputId": "7850a6a5-9c1b-4059-f57e-0079c84562a7"
      },
      "outputs": [
        {
          "data": {
            "text/html": [
              "<div>\n",
              "<style scoped>\n",
              "    .dataframe tbody tr th:only-of-type {\n",
              "        vertical-align: middle;\n",
              "    }\n",
              "\n",
              "    .dataframe tbody tr th {\n",
              "        vertical-align: top;\n",
              "    }\n",
              "\n",
              "    .dataframe thead th {\n",
              "        text-align: right;\n",
              "    }\n",
              "</style>\n",
              "<table border=\"1\" class=\"dataframe\">\n",
              "  <thead>\n",
              "    <tr style=\"text-align: right;\">\n",
              "      <th></th>\n",
              "      <th>Current Age</th>\n",
              "      <th>Fraction Genome Altered</th>\n",
              "      <th>Gleason Score, 1st Reported (NLP)</th>\n",
              "      <th>Gleason Score, Highest Reported (NLP)</th>\n",
              "      <th>Gleason Score Reported on Sample (NLP)</th>\n",
              "      <th>MSI Score</th>\n",
              "      <th>Mutation Count</th>\n",
              "      <th>Number of Tumor Registry Entries</th>\n",
              "      <th>Overall Survival (Months)</th>\n",
              "      <th>Number of Samples Per Patient</th>\n",
              "      <th>Sample coverage</th>\n",
              "      <th>TMB (nonsynonymous)</th>\n",
              "      <th>Tumor Purity</th>\n",
              "    </tr>\n",
              "  </thead>\n",
              "  <tbody>\n",
              "    <tr>\n",
              "      <th>count</th>\n",
              "      <td>25037.000000</td>\n",
              "      <td>24870.000000</td>\n",
              "      <td>3272.000000</td>\n",
              "      <td>3272.000000</td>\n",
              "      <td>2110.000000</td>\n",
              "      <td>24487.000000</td>\n",
              "      <td>23862.000000</td>\n",
              "      <td>25040.000000</td>\n",
              "      <td>25040.000000</td>\n",
              "      <td>25040.000000</td>\n",
              "      <td>25040.000000</td>\n",
              "      <td>25040.000000</td>\n",
              "      <td>24454.000000</td>\n",
              "    </tr>\n",
              "    <tr>\n",
              "      <th>mean</th>\n",
              "      <td>65.476655</td>\n",
              "      <td>0.180309</td>\n",
              "      <td>7.845355</td>\n",
              "      <td>7.981663</td>\n",
              "      <td>8.012322</td>\n",
              "      <td>1.438650</td>\n",
              "      <td>8.725756</td>\n",
              "      <td>1.315735</td>\n",
              "      <td>32.128503</td>\n",
              "      <td>1.007188</td>\n",
              "      <td>609.113099</td>\n",
              "      <td>7.258216</td>\n",
              "      <td>36.414452</td>\n",
              "    </tr>\n",
              "    <tr>\n",
              "      <th>std</th>\n",
              "      <td>12.683747</td>\n",
              "      <td>0.185514</td>\n",
              "      <td>1.022186</td>\n",
              "      <td>0.976473</td>\n",
              "      <td>0.942561</td>\n",
              "      <td>5.004455</td>\n",
              "      <td>19.416691</td>\n",
              "      <td>0.687179</td>\n",
              "      <td>25.712181</td>\n",
              "      <td>0.084481</td>\n",
              "      <td>213.755797</td>\n",
              "      <td>16.375452</td>\n",
              "      <td>19.201781</td>\n",
              "    </tr>\n",
              "    <tr>\n",
              "      <th>min</th>\n",
              "      <td>10.000000</td>\n",
              "      <td>0.000000</td>\n",
              "      <td>6.000000</td>\n",
              "      <td>6.000000</td>\n",
              "      <td>6.000000</td>\n",
              "      <td>-1.000000</td>\n",
              "      <td>1.000000</td>\n",
              "      <td>0.000000</td>\n",
              "      <td>0.032877</td>\n",
              "      <td>1.000000</td>\n",
              "      <td>23.000000</td>\n",
              "      <td>0.000000</td>\n",
              "      <td>0.000000</td>\n",
              "    </tr>\n",
              "    <tr>\n",
              "      <th>25%</th>\n",
              "      <td>57.000000</td>\n",
              "      <td>0.021100</td>\n",
              "      <td>7.000000</td>\n",
              "      <td>7.000000</td>\n",
              "      <td>7.000000</td>\n",
              "      <td>0.020000</td>\n",
              "      <td>3.000000</td>\n",
              "      <td>1.000000</td>\n",
              "      <td>11.145193</td>\n",
              "      <td>1.000000</td>\n",
              "      <td>470.000000</td>\n",
              "      <td>2.461042</td>\n",
              "      <td>20.000000</td>\n",
              "    </tr>\n",
              "    <tr>\n",
              "      <th>50%</th>\n",
              "      <td>67.000000</td>\n",
              "      <td>0.125800</td>\n",
              "      <td>8.000000</td>\n",
              "      <td>8.000000</td>\n",
              "      <td>8.000000</td>\n",
              "      <td>0.230000</td>\n",
              "      <td>5.000000</td>\n",
              "      <td>1.000000</td>\n",
              "      <td>24.657507</td>\n",
              "      <td>1.000000</td>\n",
              "      <td>598.000000</td>\n",
              "      <td>4.101736</td>\n",
              "      <td>30.000000</td>\n",
              "    </tr>\n",
              "    <tr>\n",
              "      <th>75%</th>\n",
              "      <td>75.000000</td>\n",
              "      <td>0.283900</td>\n",
              "      <td>9.000000</td>\n",
              "      <td>9.000000</td>\n",
              "      <td>9.000000</td>\n",
              "      <td>0.900000</td>\n",
              "      <td>8.000000</td>\n",
              "      <td>1.000000</td>\n",
              "      <td>49.183508</td>\n",
              "      <td>1.000000</td>\n",
              "      <td>737.000000</td>\n",
              "      <td>6.917585</td>\n",
              "      <td>50.000000</td>\n",
              "    </tr>\n",
              "    <tr>\n",
              "      <th>max</th>\n",
              "      <td>89.000000</td>\n",
              "      <td>1.000000</td>\n",
              "      <td>10.000000</td>\n",
              "      <td>10.000000</td>\n",
              "      <td>10.000000</td>\n",
              "      <td>53.530000</td>\n",
              "      <td>696.000000</td>\n",
              "      <td>10.000000</td>\n",
              "      <td>118.454665</td>\n",
              "      <td>2.000000</td>\n",
              "      <td>2610.000000</td>\n",
              "      <td>570.961677</td>\n",
              "      <td>95.000000</td>\n",
              "    </tr>\n",
              "  </tbody>\n",
              "</table>\n",
              "</div>"
            ],
            "text/plain": [
              "        Current Age  Fraction Genome Altered  \\\n",
              "count  25037.000000             24870.000000   \n",
              "mean      65.476655                 0.180309   \n",
              "std       12.683747                 0.185514   \n",
              "min       10.000000                 0.000000   \n",
              "25%       57.000000                 0.021100   \n",
              "50%       67.000000                 0.125800   \n",
              "75%       75.000000                 0.283900   \n",
              "max       89.000000                 1.000000   \n",
              "\n",
              "       Gleason Score, 1st Reported (NLP)  \\\n",
              "count                        3272.000000   \n",
              "mean                            7.845355   \n",
              "std                             1.022186   \n",
              "min                             6.000000   \n",
              "25%                             7.000000   \n",
              "50%                             8.000000   \n",
              "75%                             9.000000   \n",
              "max                            10.000000   \n",
              "\n",
              "       Gleason Score, Highest Reported (NLP)  \\\n",
              "count                            3272.000000   \n",
              "mean                                7.981663   \n",
              "std                                 0.976473   \n",
              "min                                 6.000000   \n",
              "25%                                 7.000000   \n",
              "50%                                 8.000000   \n",
              "75%                                 9.000000   \n",
              "max                                10.000000   \n",
              "\n",
              "       Gleason Score Reported on Sample (NLP)     MSI Score  Mutation Count  \\\n",
              "count                             2110.000000  24487.000000    23862.000000   \n",
              "mean                                 8.012322      1.438650        8.725756   \n",
              "std                                  0.942561      5.004455       19.416691   \n",
              "min                                  6.000000     -1.000000        1.000000   \n",
              "25%                                  7.000000      0.020000        3.000000   \n",
              "50%                                  8.000000      0.230000        5.000000   \n",
              "75%                                  9.000000      0.900000        8.000000   \n",
              "max                                 10.000000     53.530000      696.000000   \n",
              "\n",
              "       Number of Tumor Registry Entries  Overall Survival (Months)  \\\n",
              "count                      25040.000000               25040.000000   \n",
              "mean                           1.315735                  32.128503   \n",
              "std                            0.687179                  25.712181   \n",
              "min                            0.000000                   0.032877   \n",
              "25%                            1.000000                  11.145193   \n",
              "50%                            1.000000                  24.657507   \n",
              "75%                            1.000000                  49.183508   \n",
              "max                           10.000000                 118.454665   \n",
              "\n",
              "       Number of Samples Per Patient  Sample coverage  TMB (nonsynonymous)  \\\n",
              "count                   25040.000000     25040.000000         25040.000000   \n",
              "mean                        1.007188       609.113099             7.258216   \n",
              "std                         0.084481       213.755797            16.375452   \n",
              "min                         1.000000        23.000000             0.000000   \n",
              "25%                         1.000000       470.000000             2.461042   \n",
              "50%                         1.000000       598.000000             4.101736   \n",
              "75%                         1.000000       737.000000             6.917585   \n",
              "max                         2.000000      2610.000000           570.961677   \n",
              "\n",
              "       Tumor Purity  \n",
              "count  24454.000000  \n",
              "mean      36.414452  \n",
              "std       19.201781  \n",
              "min        0.000000  \n",
              "25%       20.000000  \n",
              "50%       30.000000  \n",
              "75%       50.000000  \n",
              "max       95.000000  "
            ]
          },
          "execution_count": 370,
          "metadata": {},
          "output_type": "execute_result"
        }
      ],
      "source": [
        "# Having an overview of all Numeric columns\n",
        "df.describe()"
      ]
    },
    {
      "cell_type": "markdown",
      "id": "b6038ab4",
      "metadata": {
        "id": "b6038ab4"
      },
      "source": [
        "Understanding the columns:\n",
        "\n",
        "- The Current Age: Patient age ranges from 10 to 89, with an average of 65.5 years.\n",
        "\n",
        "-  Fraction Genome Altered: Represents how much of the genome is altered, ranging from 0 to 1.\n",
        "\n",
        "-  Gleason Scores  Indicates prostate cancer severity generally ranges from 6 to 10.\n",
        "\n",
        "-  MSI Score: Microsatellite Instability score.\n",
        "\n",
        "- Mutation Count: Mutation events, ranging widely from 1 to 696.\n",
        "\n",
        "- Number of Tumor Registry Entries: Most patients have 1, with a max of 10.\n",
        "\n",
        "- Overall Survival : Ranges from near 0 to over 118 months.\n",
        "\n",
        "- Number of Samples Per Patient: Usually 1, some with 2.\n",
        "\n",
        "- Sample Coverage: Mean of 609, max up to 2610.\n",
        "\n",
        "- (TMB) Tumor Mutational Burden mean of 7.26\n",
        "\n",
        "- Tumor Purity: Ranges from 0 to 95%, with a mean of 36.4%."
      ]
    },
    {
      "cell_type": "markdown",
      "id": "e808edec",
      "metadata": {
        "id": "e808edec"
      },
      "source": [
        "## 2. Data Cleaning and Preprocessing"
      ]
    },
    {
      "cell_type": "markdown",
      "id": "615d6e82",
      "metadata": {
        "id": "615d6e82"
      },
      "source": [
        "As our main focus is specifically on pancreatic cancer we shall therefore filter the dataset to include only patients diagnosed with this cancer type."
      ]
    },
    {
      "cell_type": "code",
      "execution_count": 371,
      "id": "e320d176",
      "metadata": {
        "colab": {
          "base_uri": "https://localhost:8080/"
        },
        "id": "e320d176",
        "outputId": "a9bec5fc-c3f4-4373-ae01-fbae9ac78d4f"
      },
      "outputs": [
        {
          "name": "stdout",
          "output_type": "stream",
          "text": [
            "['Breast Cancer', 'Non-Small Cell Lung Cancer', 'Colorectal Cancer', 'Prostate Cancer', 'Pancreatic Cancer']\n"
          ]
        }
      ],
      "source": [
        "# Cancer types found in the dataset.\n",
        "print(df['Cancer Type'].unique().tolist())"
      ]
    },
    {
      "cell_type": "code",
      "execution_count": 372,
      "id": "OggmLuioYmen",
      "metadata": {
        "id": "OggmLuioYmen"
      },
      "outputs": [],
      "source": [
        "# Filtering for pancreatic cancer\n",
        "\n",
        "pancreatic_cancer = df[df['Cancer Type'] == 'Pancreatic Cancer']"
      ]
    },
    {
      "cell_type": "code",
      "execution_count": 373,
      "id": "vFKjMt3IYuQr",
      "metadata": {
        "colab": {
          "base_uri": "https://localhost:8080/"
        },
        "id": "vFKjMt3IYuQr",
        "outputId": "e8a37388-e6f7-4539-a33a-15e81e0c76a0"
      },
      "outputs": [
        {
          "name": "stdout",
          "output_type": "stream",
          "text": [
            "Shape of the new Pancreatic Cancer DataFrame:\n"
          ]
        },
        {
          "data": {
            "text/plain": [
              "(3109, 53)"
            ]
          },
          "execution_count": 373,
          "metadata": {},
          "output_type": "execute_result"
        }
      ],
      "source": [
        "print(\"Shape of the new Pancreatic Cancer DataFrame:\")\n",
        "\n",
        "pancreatic_cancer.shape"
      ]
    },
    {
      "cell_type": "code",
      "execution_count": 374,
      "id": "BRf9hNFtWBPP",
      "metadata": {
        "colab": {
          "base_uri": "https://localhost:8080/",
          "height": 498
        },
        "id": "BRf9hNFtWBPP",
        "outputId": "2b629335-94cf-49b9-bce8-db34d7c0405d"
      },
      "outputs": [
        {
          "data": {
            "text/html": [
              "<div>\n",
              "<style scoped>\n",
              "    .dataframe tbody tr th:only-of-type {\n",
              "        vertical-align: middle;\n",
              "    }\n",
              "\n",
              "    .dataframe tbody tr th {\n",
              "        vertical-align: top;\n",
              "    }\n",
              "\n",
              "    .dataframe thead th {\n",
              "        text-align: right;\n",
              "    }\n",
              "</style>\n",
              "<table border=\"1\" class=\"dataframe\">\n",
              "  <thead>\n",
              "    <tr style=\"text-align: right;\">\n",
              "      <th></th>\n",
              "      <th>Study ID</th>\n",
              "      <th>Patient ID</th>\n",
              "      <th>Sample ID</th>\n",
              "      <th>Tumor Site: Adrenal Glands (NLP)</th>\n",
              "      <th>Tumor Site: Bone (NLP)</th>\n",
              "      <th>Cancer Type</th>\n",
              "      <th>Cancer Type Detailed</th>\n",
              "      <th>Clinical Group</th>\n",
              "      <th>Clinical Summary</th>\n",
              "      <th>Tumor Site: CNS/Brain (NLP)</th>\n",
              "      <th>...</th>\n",
              "      <th>Tumor Site: Reproductive Organs (NLP)</th>\n",
              "      <th>Sample Class</th>\n",
              "      <th>Number of Samples Per Patient</th>\n",
              "      <th>Sample coverage</th>\n",
              "      <th>Sample Type</th>\n",
              "      <th>Smoking History (NLP)</th>\n",
              "      <th>Somatic Status</th>\n",
              "      <th>Stage (Highest Recorded)</th>\n",
              "      <th>TMB (nonsynonymous)</th>\n",
              "      <th>Tumor Purity</th>\n",
              "    </tr>\n",
              "  </thead>\n",
              "  <tbody>\n",
              "    <tr>\n",
              "      <th>29</th>\n",
              "      <td>msk_chord_2024</td>\n",
              "      <td>P-0000142</td>\n",
              "      <td>P-0000142-T01-IM3</td>\n",
              "      <td>No</td>\n",
              "      <td>No</td>\n",
              "      <td>Pancreatic Cancer</td>\n",
              "      <td>Pancreatic Adenocarcinoma</td>\n",
              "      <td>2B</td>\n",
              "      <td>Regional,Extension and Nodes</td>\n",
              "      <td>Yes</td>\n",
              "      <td>...</td>\n",
              "      <td>No</td>\n",
              "      <td>Tumor</td>\n",
              "      <td>1</td>\n",
              "      <td>639</td>\n",
              "      <td>Primary</td>\n",
              "      <td>Unknown</td>\n",
              "      <td>Matched</td>\n",
              "      <td>Stage 1-3</td>\n",
              "      <td>4.436621</td>\n",
              "      <td>40.0</td>\n",
              "    </tr>\n",
              "    <tr>\n",
              "      <th>76</th>\n",
              "      <td>msk_chord_2024</td>\n",
              "      <td>P-0000314</td>\n",
              "      <td>P-0000314-T01-IM3</td>\n",
              "      <td>No</td>\n",
              "      <td>Yes</td>\n",
              "      <td>Pancreatic Cancer</td>\n",
              "      <td>Pancreatic Adenocarcinoma</td>\n",
              "      <td>4</td>\n",
              "      <td>Distant</td>\n",
              "      <td>No</td>\n",
              "      <td>...</td>\n",
              "      <td>No</td>\n",
              "      <td>Tumor</td>\n",
              "      <td>1</td>\n",
              "      <td>883</td>\n",
              "      <td>Primary</td>\n",
              "      <td>Former/Current Smoker</td>\n",
              "      <td>Matched</td>\n",
              "      <td>Stage 4</td>\n",
              "      <td>7.764087</td>\n",
              "      <td>90.0</td>\n",
              "    </tr>\n",
              "    <tr>\n",
              "      <th>108</th>\n",
              "      <td>msk_chord_2024</td>\n",
              "      <td>P-0000421</td>\n",
              "      <td>P-0000421-T01-IM3</td>\n",
              "      <td>No</td>\n",
              "      <td>Yes</td>\n",
              "      <td>Pancreatic Cancer</td>\n",
              "      <td>Pancreatic Adenocarcinoma</td>\n",
              "      <td>4</td>\n",
              "      <td>Distant</td>\n",
              "      <td>Yes</td>\n",
              "      <td>...</td>\n",
              "      <td>No</td>\n",
              "      <td>Tumor</td>\n",
              "      <td>1</td>\n",
              "      <td>452</td>\n",
              "      <td>Metastasis</td>\n",
              "      <td>Never</td>\n",
              "      <td>Matched</td>\n",
              "      <td>Stage 4</td>\n",
              "      <td>0.000000</td>\n",
              "      <td>20.0</td>\n",
              "    </tr>\n",
              "    <tr>\n",
              "      <th>252</th>\n",
              "      <td>msk_chord_2024</td>\n",
              "      <td>P-0000783</td>\n",
              "      <td>P-0000783-T01-IM3</td>\n",
              "      <td>No</td>\n",
              "      <td>Yes</td>\n",
              "      <td>Pancreatic Cancer</td>\n",
              "      <td>Pancreatic Adenocarcinoma</td>\n",
              "      <td>2B</td>\n",
              "      <td>Regional,Extension and Nodes</td>\n",
              "      <td>No</td>\n",
              "      <td>...</td>\n",
              "      <td>No</td>\n",
              "      <td>Tumor</td>\n",
              "      <td>1</td>\n",
              "      <td>399</td>\n",
              "      <td>Primary</td>\n",
              "      <td>Unknown</td>\n",
              "      <td>Matched</td>\n",
              "      <td>Stage 1-3</td>\n",
              "      <td>5.545777</td>\n",
              "      <td>80.0</td>\n",
              "    </tr>\n",
              "    <tr>\n",
              "      <th>266</th>\n",
              "      <td>msk_chord_2024</td>\n",
              "      <td>P-0000825</td>\n",
              "      <td>P-0000825-T04-IM7</td>\n",
              "      <td>No</td>\n",
              "      <td>Yes</td>\n",
              "      <td>Pancreatic Cancer</td>\n",
              "      <td>Pancreatic Adenocarcinoma</td>\n",
              "      <td>1B</td>\n",
              "      <td>Localized</td>\n",
              "      <td>Yes</td>\n",
              "      <td>...</td>\n",
              "      <td>No</td>\n",
              "      <td>Tumor</td>\n",
              "      <td>2</td>\n",
              "      <td>518</td>\n",
              "      <td>Primary</td>\n",
              "      <td>Former/Current Smoker</td>\n",
              "      <td>Matched</td>\n",
              "      <td>Stage 1-3</td>\n",
              "      <td>6.562778</td>\n",
              "      <td>60.0</td>\n",
              "    </tr>\n",
              "  </tbody>\n",
              "</table>\n",
              "<p>5 rows × 53 columns</p>\n",
              "</div>"
            ],
            "text/plain": [
              "           Study ID Patient ID          Sample ID  \\\n",
              "29   msk_chord_2024  P-0000142  P-0000142-T01-IM3   \n",
              "76   msk_chord_2024  P-0000314  P-0000314-T01-IM3   \n",
              "108  msk_chord_2024  P-0000421  P-0000421-T01-IM3   \n",
              "252  msk_chord_2024  P-0000783  P-0000783-T01-IM3   \n",
              "266  msk_chord_2024  P-0000825  P-0000825-T04-IM7   \n",
              "\n",
              "    Tumor Site: Adrenal Glands (NLP) Tumor Site: Bone (NLP)  \\\n",
              "29                                No                     No   \n",
              "76                                No                    Yes   \n",
              "108                               No                    Yes   \n",
              "252                               No                    Yes   \n",
              "266                               No                    Yes   \n",
              "\n",
              "           Cancer Type       Cancer Type Detailed Clinical Group  \\\n",
              "29   Pancreatic Cancer  Pancreatic Adenocarcinoma             2B   \n",
              "76   Pancreatic Cancer  Pancreatic Adenocarcinoma              4   \n",
              "108  Pancreatic Cancer  Pancreatic Adenocarcinoma              4   \n",
              "252  Pancreatic Cancer  Pancreatic Adenocarcinoma             2B   \n",
              "266  Pancreatic Cancer  Pancreatic Adenocarcinoma             1B   \n",
              "\n",
              "                 Clinical Summary Tumor Site: CNS/Brain (NLP)  ...  \\\n",
              "29   Regional,Extension and Nodes                         Yes  ...   \n",
              "76                        Distant                          No  ...   \n",
              "108                       Distant                         Yes  ...   \n",
              "252  Regional,Extension and Nodes                          No  ...   \n",
              "266                     Localized                         Yes  ...   \n",
              "\n",
              "     Tumor Site: Reproductive Organs (NLP) Sample Class  \\\n",
              "29                                      No        Tumor   \n",
              "76                                      No        Tumor   \n",
              "108                                     No        Tumor   \n",
              "252                                     No        Tumor   \n",
              "266                                     No        Tumor   \n",
              "\n",
              "    Number of Samples Per Patient  Sample coverage Sample Type  \\\n",
              "29                              1              639     Primary   \n",
              "76                              1              883     Primary   \n",
              "108                             1              452  Metastasis   \n",
              "252                             1              399     Primary   \n",
              "266                             2              518     Primary   \n",
              "\n",
              "     Smoking History (NLP)  Somatic Status  Stage (Highest Recorded)  \\\n",
              "29                 Unknown         Matched                 Stage 1-3   \n",
              "76   Former/Current Smoker         Matched                   Stage 4   \n",
              "108                  Never         Matched                   Stage 4   \n",
              "252                Unknown         Matched                 Stage 1-3   \n",
              "266  Former/Current Smoker         Matched                 Stage 1-3   \n",
              "\n",
              "     TMB (nonsynonymous) Tumor Purity  \n",
              "29              4.436621         40.0  \n",
              "76              7.764087         90.0  \n",
              "108             0.000000         20.0  \n",
              "252             5.545777         80.0  \n",
              "266             6.562778         60.0  \n",
              "\n",
              "[5 rows x 53 columns]"
            ]
          },
          "execution_count": 374,
          "metadata": {},
          "output_type": "execute_result"
        }
      ],
      "source": [
        "# Looking at the pancreatic cancer dataset\n",
        "pancreatic_cancer.head()"
      ]
    },
    {
      "cell_type": "markdown",
      "id": "ppcMV3DeeWHc",
      "metadata": {
        "id": "ppcMV3DeeWHc"
      },
      "source": [
        "Based on our review of the columns: certain columns aren't neccessary for our study on the survival of pancreatic cancer. We shall therefore drop the columns in order to remain with our subject of focus."
      ]
    },
    {
      "cell_type": "code",
      "execution_count": 375,
      "id": "CZEwZsZJqJK6",
      "metadata": {
        "colab": {
          "base_uri": "https://localhost:8080/"
        },
        "id": "CZEwZsZJqJK6",
        "outputId": "e9d969e9-d6c5-491c-e140-79a7423b2665"
      },
      "outputs": [
        {
          "name": "stdout",
          "output_type": "stream",
          "text": [
            "Index(['Study ID', 'Patient ID', 'Sample ID',\n",
            "       'Tumor Site: Adrenal Glands (NLP)', 'Tumor Site: Bone (NLP)',\n",
            "       'Cancer Type', 'Cancer Type Detailed', 'Clinical Group',\n",
            "       'Clinical Summary', 'Tumor Site: CNS/Brain (NLP)', 'Current Age',\n",
            "       'Diagnosis Description', 'Ethnicity', 'Fraction Genome Altered', 'Sex',\n",
            "       'Gene Panel', 'Gleason Score, 1st Reported (NLP)',\n",
            "       'Gleason Score, Highest Reported (NLP)',\n",
            "       'Gleason Score Reported on Sample (NLP)', 'HER2',\n",
            "       'History for Positive PD-L1 (NLP)', 'HR', 'ICD-O Histology Description',\n",
            "       'Tumor Site: Intra Abdominal', 'Tumor Site: Liver (NLP)',\n",
            "       'Tumor Site: Lung (NLP)', 'Tumor Site: Lymph Node (NLP)',\n",
            "       'Metastatic Site', 'MSI Comment', 'MSI Score', 'MSI Type',\n",
            "       'Mutation Count', 'Number of Tumor Registry Entries', 'Oncotree Code',\n",
            "       'Overall Survival (Months)', 'Overall Survival Status',\n",
            "       'Tumor Site: Other (NLP)', 'Pathological Group',\n",
            "       'Sample PD-L1 Positive (NLP)', 'Tumor Site: Pleura (NLP)',\n",
            "       'Primary Tumor Site', 'Prior Treatment to MSK (NLP)', 'Race',\n",
            "       'Tumor Site: Reproductive Organs (NLP)', 'Sample Class',\n",
            "       'Number of Samples Per Patient', 'Sample coverage', 'Sample Type',\n",
            "       'Smoking History (NLP)', 'Somatic Status', 'Stage (Highest Recorded)',\n",
            "       'TMB (nonsynonymous)', 'Tumor Purity'],\n",
            "      dtype='object')\n"
          ]
        }
      ],
      "source": [
        "#  Viewing the column list to analyse the necessary columns\n",
        "print(pancreatic_cancer.columns)"
      ]
    },
    {
      "cell_type": "code",
      "execution_count": 376,
      "id": "195f1eca",
      "metadata": {
        "colab": {
          "base_uri": "https://localhost:8080/",
          "height": 521
        },
        "id": "195f1eca",
        "outputId": "a33ccca7-a024-4054-cb23-f22232f8022f"
      },
      "outputs": [
        {
          "data": {
            "text/html": [
              "<div>\n",
              "<style scoped>\n",
              "    .dataframe tbody tr th:only-of-type {\n",
              "        vertical-align: middle;\n",
              "    }\n",
              "\n",
              "    .dataframe tbody tr th {\n",
              "        vertical-align: top;\n",
              "    }\n",
              "\n",
              "    .dataframe thead th {\n",
              "        text-align: right;\n",
              "    }\n",
              "</style>\n",
              "<table border=\"1\" class=\"dataframe\">\n",
              "  <thead>\n",
              "    <tr style=\"text-align: right;\">\n",
              "      <th></th>\n",
              "      <th>Patient ID</th>\n",
              "      <th>Sample ID</th>\n",
              "      <th>Cancer Type</th>\n",
              "      <th>Cancer Type Detailed</th>\n",
              "      <th>Overall Survival (Months)</th>\n",
              "      <th>Overall Survival Status</th>\n",
              "      <th>Clinical Summary</th>\n",
              "      <th>Primary Tumor Site</th>\n",
              "      <th>Current Age</th>\n",
              "      <th>Sex</th>\n",
              "      <th>Race</th>\n",
              "      <th>Ethnicity</th>\n",
              "      <th>Smoking History (NLP)</th>\n",
              "      <th>Stage (Highest Recorded)</th>\n",
              "      <th>Metastatic Site</th>\n",
              "      <th>Tumor Purity</th>\n",
              "      <th>TMB (nonsynonymous)</th>\n",
              "      <th>Mutation Count</th>\n",
              "      <th>Fraction Genome Altered</th>\n",
              "    </tr>\n",
              "  </thead>\n",
              "  <tbody>\n",
              "    <tr>\n",
              "      <th>29</th>\n",
              "      <td>P-0000142</td>\n",
              "      <td>P-0000142-T01-IM3</td>\n",
              "      <td>Pancreatic Cancer</td>\n",
              "      <td>Pancreatic Adenocarcinoma</td>\n",
              "      <td>8.810949</td>\n",
              "      <td>1:DECEASED</td>\n",
              "      <td>Regional,Extension and Nodes</td>\n",
              "      <td>Pancreas</td>\n",
              "      <td>56.0</td>\n",
              "      <td>Female</td>\n",
              "      <td>White</td>\n",
              "      <td>Non-Spanish; Non-Hispanic</td>\n",
              "      <td>Unknown</td>\n",
              "      <td>Stage 1-3</td>\n",
              "      <td>NaN</td>\n",
              "      <td>40.0</td>\n",
              "      <td>4.436621</td>\n",
              "      <td>4.0</td>\n",
              "      <td>0.2681</td>\n",
              "    </tr>\n",
              "    <tr>\n",
              "      <th>76</th>\n",
              "      <td>P-0000314</td>\n",
              "      <td>P-0000314-T01-IM3</td>\n",
              "      <td>Pancreatic Cancer</td>\n",
              "      <td>Pancreatic Adenocarcinoma</td>\n",
              "      <td>33.731470</td>\n",
              "      <td>1:DECEASED</td>\n",
              "      <td>Distant</td>\n",
              "      <td>Pancreas</td>\n",
              "      <td>47.0</td>\n",
              "      <td>Male</td>\n",
              "      <td>White</td>\n",
              "      <td>Non-Spanish; Non-Hispanic</td>\n",
              "      <td>Former/Current Smoker</td>\n",
              "      <td>Stage 4</td>\n",
              "      <td>NaN</td>\n",
              "      <td>90.0</td>\n",
              "      <td>7.764087</td>\n",
              "      <td>7.0</td>\n",
              "      <td>0.3610</td>\n",
              "    </tr>\n",
              "    <tr>\n",
              "      <th>108</th>\n",
              "      <td>P-0000421</td>\n",
              "      <td>P-0000421-T01-IM3</td>\n",
              "      <td>Pancreatic Cancer</td>\n",
              "      <td>Pancreatic Adenocarcinoma</td>\n",
              "      <td>25.052027</td>\n",
              "      <td>1:DECEASED</td>\n",
              "      <td>Distant</td>\n",
              "      <td>Pancreas</td>\n",
              "      <td>69.0</td>\n",
              "      <td>Male</td>\n",
              "      <td>White</td>\n",
              "      <td>Non-Spanish; Non-Hispanic</td>\n",
              "      <td>Never</td>\n",
              "      <td>Stage 4</td>\n",
              "      <td>Lung</td>\n",
              "      <td>20.0</td>\n",
              "      <td>0.000000</td>\n",
              "      <td>NaN</td>\n",
              "      <td>0.0005</td>\n",
              "    </tr>\n",
              "    <tr>\n",
              "      <th>252</th>\n",
              "      <td>P-0000783</td>\n",
              "      <td>P-0000783-T01-IM3</td>\n",
              "      <td>Pancreatic Cancer</td>\n",
              "      <td>Pancreatic Adenocarcinoma</td>\n",
              "      <td>3.057531</td>\n",
              "      <td>1:DECEASED</td>\n",
              "      <td>Regional,Extension and Nodes</td>\n",
              "      <td>Pancreas</td>\n",
              "      <td>64.0</td>\n",
              "      <td>Male</td>\n",
              "      <td>White</td>\n",
              "      <td>Non-Spanish; Non-Hispanic</td>\n",
              "      <td>Unknown</td>\n",
              "      <td>Stage 1-3</td>\n",
              "      <td>NaN</td>\n",
              "      <td>80.0</td>\n",
              "      <td>5.545777</td>\n",
              "      <td>5.0</td>\n",
              "      <td>0.4135</td>\n",
              "    </tr>\n",
              "    <tr>\n",
              "      <th>266</th>\n",
              "      <td>P-0000825</td>\n",
              "      <td>P-0000825-T04-IM7</td>\n",
              "      <td>Pancreatic Cancer</td>\n",
              "      <td>Pancreatic Adenocarcinoma</td>\n",
              "      <td>110.531386</td>\n",
              "      <td>0:LIVING</td>\n",
              "      <td>Localized</td>\n",
              "      <td>Pancreas</td>\n",
              "      <td>65.0</td>\n",
              "      <td>Female</td>\n",
              "      <td>Black Or African American</td>\n",
              "      <td>Non-Spanish; Non-Hispanic</td>\n",
              "      <td>Former/Current Smoker</td>\n",
              "      <td>Stage 1-3</td>\n",
              "      <td>NaN</td>\n",
              "      <td>60.0</td>\n",
              "      <td>6.562778</td>\n",
              "      <td>8.0</td>\n",
              "      <td>0.2843</td>\n",
              "    </tr>\n",
              "  </tbody>\n",
              "</table>\n",
              "</div>"
            ],
            "text/plain": [
              "    Patient ID          Sample ID        Cancer Type  \\\n",
              "29   P-0000142  P-0000142-T01-IM3  Pancreatic Cancer   \n",
              "76   P-0000314  P-0000314-T01-IM3  Pancreatic Cancer   \n",
              "108  P-0000421  P-0000421-T01-IM3  Pancreatic Cancer   \n",
              "252  P-0000783  P-0000783-T01-IM3  Pancreatic Cancer   \n",
              "266  P-0000825  P-0000825-T04-IM7  Pancreatic Cancer   \n",
              "\n",
              "          Cancer Type Detailed  Overall Survival (Months)  \\\n",
              "29   Pancreatic Adenocarcinoma                   8.810949   \n",
              "76   Pancreatic Adenocarcinoma                  33.731470   \n",
              "108  Pancreatic Adenocarcinoma                  25.052027   \n",
              "252  Pancreatic Adenocarcinoma                   3.057531   \n",
              "266  Pancreatic Adenocarcinoma                 110.531386   \n",
              "\n",
              "    Overall Survival Status              Clinical Summary Primary Tumor Site  \\\n",
              "29               1:DECEASED  Regional,Extension and Nodes           Pancreas   \n",
              "76               1:DECEASED                       Distant           Pancreas   \n",
              "108              1:DECEASED                       Distant           Pancreas   \n",
              "252              1:DECEASED  Regional,Extension and Nodes           Pancreas   \n",
              "266                0:LIVING                     Localized           Pancreas   \n",
              "\n",
              "     Current Age     Sex                       Race  \\\n",
              "29          56.0  Female                      White   \n",
              "76          47.0    Male                      White   \n",
              "108         69.0    Male                      White   \n",
              "252         64.0    Male                      White   \n",
              "266         65.0  Female  Black Or African American   \n",
              "\n",
              "                     Ethnicity  Smoking History (NLP)  \\\n",
              "29   Non-Spanish; Non-Hispanic                Unknown   \n",
              "76   Non-Spanish; Non-Hispanic  Former/Current Smoker   \n",
              "108  Non-Spanish; Non-Hispanic                  Never   \n",
              "252  Non-Spanish; Non-Hispanic                Unknown   \n",
              "266  Non-Spanish; Non-Hispanic  Former/Current Smoker   \n",
              "\n",
              "    Stage (Highest Recorded) Metastatic Site  Tumor Purity  \\\n",
              "29                 Stage 1-3             NaN          40.0   \n",
              "76                   Stage 4             NaN          90.0   \n",
              "108                  Stage 4            Lung          20.0   \n",
              "252                Stage 1-3             NaN          80.0   \n",
              "266                Stage 1-3             NaN          60.0   \n",
              "\n",
              "     TMB (nonsynonymous)  Mutation Count  Fraction Genome Altered  \n",
              "29              4.436621             4.0                   0.2681  \n",
              "76              7.764087             7.0                   0.3610  \n",
              "108             0.000000             NaN                   0.0005  \n",
              "252             5.545777             5.0                   0.4135  \n",
              "266             6.562778             8.0                   0.2843  "
            ]
          },
          "execution_count": 376,
          "metadata": {},
          "output_type": "execute_result"
        }
      ],
      "source": [
        "# Dropping columns\n",
        "\n",
        "columns_chosen = ['Patient ID',\n",
        "  'Sample ID',\n",
        "  'Cancer Type',\n",
        "  'Cancer Type Detailed',\n",
        "  'Overall Survival (Months)',\n",
        "  'Overall Survival Status',\n",
        "  'Clinical Summary',\n",
        "  'Primary Tumor Site',\n",
        "  'Current Age',\n",
        "  'Sex',\n",
        "  'Race',\n",
        "  'Ethnicity',\n",
        "  'Smoking History (NLP)',\n",
        "  'Stage (Highest Recorded)',\n",
        "  'Metastatic Site',\n",
        "  'Tumor Purity',\n",
        "  'TMB (nonsynonymous)',\n",
        "  'Mutation Count',\n",
        "  'Fraction Genome Altered',\n",
        "]\n",
        "\n",
        "pancreatic_cancer_filtered = pancreatic_cancer[columns_chosen].copy()\n",
        "pancreatic_cancer_filtered.head()"
      ]
    },
    {
      "cell_type": "code",
      "execution_count": 377,
      "id": "TF7xkir0BWhD",
      "metadata": {
        "colab": {
          "base_uri": "https://localhost:8080/"
        },
        "id": "TF7xkir0BWhD",
        "outputId": "f3c72a38-2926-46cb-e1b5-8ef6f65943f1"
      },
      "outputs": [
        {
          "data": {
            "text/plain": [
              "(3109, 19)"
            ]
          },
          "execution_count": 377,
          "metadata": {},
          "output_type": "execute_result"
        }
      ],
      "source": [
        "# Ensuring that the same rows are maintained\n",
        "pancreatic_cancer_filtered.shape"
      ]
    },
    {
      "cell_type": "code",
      "execution_count": 378,
      "id": "c653484b",
      "metadata": {
        "colab": {
          "base_uri": "https://localhost:8080/",
          "height": 679
        },
        "id": "c653484b",
        "outputId": "9858eb3c-a9d8-48df-cc14-d13b9fecac5f"
      },
      "outputs": [
        {
          "data": {
            "text/plain": [
              "Patient ID                      0\n",
              "Sample ID                       0\n",
              "Cancer Type                     0\n",
              "Cancer Type Detailed            0\n",
              "Overall Survival (Months)       0\n",
              "Overall Survival Status         0\n",
              "Clinical Summary               41\n",
              "Primary Tumor Site              0\n",
              "Current Age                     0\n",
              "Sex                             0\n",
              "Race                            0\n",
              "Ethnicity                       0\n",
              "Smoking History (NLP)           0\n",
              "Stage (Highest Recorded)        0\n",
              "Metastatic Site              1990\n",
              "Tumor Purity                   27\n",
              "TMB (nonsynonymous)             0\n",
              "Mutation Count                154\n",
              "Fraction Genome Altered        11\n",
              "dtype: int64"
            ]
          },
          "execution_count": 378,
          "metadata": {},
          "output_type": "execute_result"
        }
      ],
      "source": [
        "# Finding Nulls and Missing entries\n",
        "pancreatic_cancer_filtered.isnull().sum()"
      ]
    },
    {
      "cell_type": "markdown",
      "id": "875415b7",
      "metadata": {
        "id": "875415b7"
      },
      "source": [
        "We can identify that the following columns have missing values\n",
        "\n",
        "1. Clinical Summary - This relates to the summary of where the cancer is\n",
        "2. Metastatic Site - This relates to where the cancer has metastasized to (Spread to)\n",
        "3. Tumor Purity - This realtes to the proportion of cancer cells within a tissue (expressed as a percentage)\n",
        "4. Mutation Count - This relates to the number of DNA mutations within the tumor\n",
        "5. Fraction Genome Altrered - This relates to the number of genome that have undergone mutations"
      ]
    },
    {
      "cell_type": "markdown",
      "id": "cYUe06IKG1bp",
      "metadata": {
        "id": "cYUe06IKG1bp"
      },
      "source": [
        "From the above we can derive the following:\n",
        "\n",
        "Clinical summary and Metastatic site are qualitative data while the rest of the data is quantitative in nature.\n",
        "\n",
        "We shall therefore replace the clinical and metatstic missing valuables with (null) and the rest with the averages from their respective columns."
      ]
    },
    {
      "cell_type": "code",
      "execution_count": 379,
      "id": "KMUW70x1IKwq",
      "metadata": {
        "colab": {
          "base_uri": "https://localhost:8080/"
        },
        "id": "KMUW70x1IKwq",
        "outputId": "a749b21a-c938-4b5e-d5cc-d55f7b778fc1"
      },
      "outputs": [],
      "source": [
        "# Filled rows with N/A\n",
        "pancreatic_cancer_filtered['Clinical Summary'].fillna('N/A', inplace= True)\n",
        "pancreatic_cancer_filtered['Metastatic Site'].fillna('N/A', inplace= True)"
      ]
    },
    {
      "cell_type": "code",
      "execution_count": 380,
      "id": "hrtUtL9JJxky",
      "metadata": {
        "colab": {
          "base_uri": "https://localhost:8080/"
        },
        "id": "hrtUtL9JJxky",
        "outputId": "b63faa10-da9b-4cdf-f581-74b2844684e7"
      },
      "outputs": [],
      "source": [
        "# Filled rows with means\n",
        "pancreatic_cancer_filtered['Tumor Purity'].fillna(pancreatic_cancer_filtered['Tumor Purity'].mean(), inplace= True)\n",
        "pancreatic_cancer_filtered['Mutation Count'].fillna(pancreatic_cancer_filtered['Mutation Count'].mean(), inplace = True)\n",
        "pancreatic_cancer_filtered['Fraction Genome Altered'].fillna(pancreatic_cancer_filtered['Fraction Genome Altered'].mean(), inplace = True)"
      ]
    },
    {
      "cell_type": "code",
      "execution_count": 381,
      "id": "IwjOWvEOIu3C",
      "metadata": {
        "colab": {
          "base_uri": "https://localhost:8080/",
          "height": 679
        },
        "id": "IwjOWvEOIu3C",
        "outputId": "bf61e18b-9ab3-49ff-8ef9-bd64e2cea96e"
      },
      "outputs": [
        {
          "data": {
            "text/plain": [
              "Patient ID                   0\n",
              "Sample ID                    0\n",
              "Cancer Type                  0\n",
              "Cancer Type Detailed         0\n",
              "Overall Survival (Months)    0\n",
              "Overall Survival Status      0\n",
              "Clinical Summary             0\n",
              "Primary Tumor Site           0\n",
              "Current Age                  0\n",
              "Sex                          0\n",
              "Race                         0\n",
              "Ethnicity                    0\n",
              "Smoking History (NLP)        0\n",
              "Stage (Highest Recorded)     0\n",
              "Metastatic Site              0\n",
              "Tumor Purity                 0\n",
              "TMB (nonsynonymous)          0\n",
              "Mutation Count               0\n",
              "Fraction Genome Altered      0\n",
              "dtype: int64"
            ]
          },
          "execution_count": 381,
          "metadata": {},
          "output_type": "execute_result"
        }
      ],
      "source": [
        "pancreatic_cancer_filtered.isnull().sum()"
      ]
    },
    {
      "cell_type": "markdown",
      "id": "748db7cd",
      "metadata": {
        "id": "748db7cd"
      },
      "source": [
        "## 3. Exploratory Data Analysis"
      ]
    },
    {
      "cell_type": "markdown",
      "id": "d755b95b",
      "metadata": {
        "id": "d755b95b"
      },
      "source": [
        "Following our review of the data and selecting the relevant columns for our analysis. We will look into key patient characteristics, treatment factors, and clinical variables associated with pancreatic cancer. We will explore feature distributions, and potential relationships between variables and survival outcomes."
      ]
    },
    {
      "cell_type": "markdown",
      "id": "8051d9f1",
      "metadata": {
        "id": "8051d9f1"
      },
      "source": [
        "EDA Objectives\n",
        "\n",
        "- Understand feature distributions (e.g., age, stage, mutation count)\n",
        "- Examine survival status distribution\n",
        "- Explore relationships between features and survival outcome\n",
        "- Detect any anomalies, imbalances, or feature engineering opportunities"
      ]
    },
    {
      "cell_type": "markdown",
      "id": "975034f5",
      "metadata": {},
      "source": [
        "## 3.1 Descriptive statistics\n",
        "\n",
        "An overview of the types of cancer under pancreatic"
      ]
    },
    {
      "cell_type": "code",
      "execution_count": 382,
      "id": "6d2a8d04",
      "metadata": {},
      "outputs": [
        {
          "name": "stdout",
          "output_type": "stream",
          "text": [
            "Unique Pancreatic Cancer Types:\n"
          ]
        },
        {
          "data": {
            "text/plain": [
              "['Pancreatic Adenocarcinoma',\n",
              " 'Pancreatic Neuroendocrine Tumor',\n",
              " 'Acinar Cell Carcinoma of the Pancreas',\n",
              " 'Adenosquamous Carcinoma of the Pancreas',\n",
              " 'Solid Pseudopapillary Neoplasm of the Pancreas',\n",
              " 'Undifferentiated Carcinoma of the Pancreas',\n",
              " 'Mucinous Cystic Neoplasm',\n",
              " 'Pancreatoblastoma',\n",
              " 'Intraductal Papillary Mucinous Neoplasm',\n",
              " 'Osteoclastic Giant Cell Tumor',\n",
              " 'Pancreatic Neuroendocrine Carcinoma',\n",
              " 'Intraductal Tubulopapillary Neoplasm']"
            ]
          },
          "execution_count": 382,
          "metadata": {},
          "output_type": "execute_result"
        }
      ],
      "source": [
        "#Types of pancreatic cancer in the dataset\n",
        "\n",
        "pancreatic_cancer_types = pancreatic_cancer['Cancer Type Detailed'].unique().tolist()\n",
        "\n",
        "print(\"Unique Pancreatic Cancer Types:\")\n",
        "pancreatic_cancer_types"
      ]
    },
    {
      "cell_type": "code",
      "execution_count": 383,
      "id": "7235ee46",
      "metadata": {},
      "outputs": [
        {
          "name": "stdout",
          "output_type": "stream",
          "text": [
            "Number of patients per Pancreatic Cancer type:\n"
          ]
        },
        {
          "data": {
            "text/plain": [
              "Pancreatic Adenocarcinoma                         2703\n",
              "Pancreatic Neuroendocrine Tumor                    259\n",
              "Adenosquamous Carcinoma of the Pancreas             50\n",
              "Acinar Cell Carcinoma of the Pancreas               43\n",
              "Undifferentiated Carcinoma of the Pancreas          25\n",
              "Intraductal Papillary Mucinous Neoplasm             10\n",
              "Pancreatic Neuroendocrine Carcinoma                  7\n",
              "Solid Pseudopapillary Neoplasm of the Pancreas       5\n",
              "Pancreatoblastoma                                    3\n",
              "Mucinous Cystic Neoplasm                             2\n",
              "Osteoclastic Giant Cell Tumor                        1\n",
              "Intraductal Tubulopapillary Neoplasm                 1\n",
              "Name: Cancer Type Detailed, dtype: int64"
            ]
          },
          "execution_count": 383,
          "metadata": {},
          "output_type": "execute_result"
        }
      ],
      "source": [
        "#Count of patients and pancreatic cancer types\n",
        "\n",
        "# Get the value counts for Cancer Type Detailed\n",
        "cancer_type_counts = pancreatic_cancer['Cancer Type Detailed'].value_counts()\n",
        "\n",
        "print(\"Number of patients per Pancreatic Cancer type:\")\n",
        "cancer_type_counts"
      ]
    },
    {
      "cell_type": "markdown",
      "id": "6c660818",
      "metadata": {},
      "source": [
        "## 3.2 Data Visualization"
      ]
    },
    {
      "cell_type": "markdown",
      "id": "b1dc289f",
      "metadata": {
        "id": "b1dc289f"
      },
      "source": [
        "### A. Target Variable Analysis: Survival Status"
      ]
    },
    {
      "cell_type": "markdown",
      "id": "_kYlS5jP2fis",
      "metadata": {
        "id": "_kYlS5jP2fis"
      },
      "source": [
        "We shall examine the survivability of patients with the disease and asses how fatal it is."
      ]
    },
    {
      "cell_type": "code",
      "execution_count": 384,
      "id": "XRS0WidKjr_7",
      "metadata": {
        "colab": {
          "base_uri": "https://localhost:8080/",
          "height": 0
        },
        "id": "XRS0WidKjr_7",
        "outputId": "f42d8dee-154c-48ed-d5d3-5db5f001a7b0"
      },
      "outputs": [
        {
          "data": {
            "image/png": "[encoded data removed]",
            "text/plain": [
              "<Figure size 432x288 with 1 Axes>"
            ]
          },
          "metadata": {
            "needs_background": "light"
          },
          "output_type": "display_data"
        },
        {
          "name": "stdout",
          "output_type": "stream",
          "text": [
            "Survival Status Distribution:\n"
          ]
        },
        {
          "data": {
            "text/plain": [
              "1:DECEASED    2120\n",
              "0:LIVING       989\n",
              "Name: Overall Survival Status, dtype: int64"
            ]
          },
          "execution_count": 384,
          "metadata": {},
          "output_type": "execute_result"
        }
      ],
      "source": [
        "#Investigating the distribution between dead and alive patients\n",
        "\n",
        "survival_counts = pancreatic_cancer_filtered['Overall Survival Status'].value_counts()\n",
        "\n",
        "plt.figure(figsize=(6, 4))\n",
        "sns.countplot(x='Overall Survival Status', data=pancreatic_cancer_filtered, palette='viridis')\n",
        "plt.title('Distribution of Overall Survival Status')\n",
        "plt.xlabel('Survival Status')\n",
        "plt.ylabel('Number of Patients')\n",
        "plt.xticks(ticks=[0, 1], labels=['Dead', 'Alive'])\n",
        "plt.show()\n",
        "\n",
        "print(\"Survival Status Distribution:\")\n",
        "survival_counts"
      ]
    },
    {
      "cell_type": "code",
      "execution_count": 385,
      "id": "zhmomgGYlK7E",
      "metadata": {
        "colab": {
          "base_uri": "https://localhost:8080/"
        },
        "id": "zhmomgGYlK7E",
        "outputId": "06239faa-7f42-48a7-d19d-ea0fc142039d"
      },
      "outputs": [
        {
          "name": "stdout",
          "output_type": "stream",
          "text": [
            "Overall Survival Rate: 31.81%\n"
          ]
        }
      ],
      "source": [
        "#Compute the survival rate based on the data\n",
        "\n",
        "# Calculating the survival rate\n",
        "survival_rate = (pancreatic_cancer_filtered['Overall Survival Status'].value_counts()['0:LIVING'] / len(pancreatic_cancer_filtered)) * 100\n",
        "\n",
        "print(f\"Overall Survival Rate: {survival_rate:.2f}%\")"
      ]
    },
    {
      "cell_type": "markdown",
      "id": "Ti2peP7KlyWZ",
      "metadata": {
        "id": "Ti2peP7KlyWZ"
      },
      "source": [
        "This shows us the survival rate for pancreatic cancer being 32% once the patient has been diagnosed."
      ]
    },
    {
      "cell_type": "code",
      "execution_count": 386,
      "id": "8b75ff22",
      "metadata": {
        "colab": {
          "base_uri": "https://localhost:8080/",
          "height": 0
        },
        "id": "8b75ff22",
        "outputId": "33d96dc7-d8e7-4c58-e9ba-15dcfb39c56b"
      },
      "outputs": [
        {
          "data": {
            "image/png": "[encoded data removed]",
            "text/plain": [
              "<Figure size 432x288 with 1 Axes>"
            ]
          },
          "metadata": {
            "needs_background": "light"
          },
          "output_type": "display_data"
        }
      ],
      "source": [
        "# Survival in months\n",
        "sns.histplot(data=pancreatic_cancer_filtered, x='Overall Survival (Months)', bins=30, kde=True, hue='Overall Survival Status')\n",
        "plt.title('Overall Survival (Months) Distribution')\n",
        "plt.show()"
      ]
    },
    {
      "cell_type": "code",
      "execution_count": 387,
      "id": "4cibyBERzWNE",
      "metadata": {
        "colab": {
          "base_uri": "https://localhost:8080/"
        },
        "id": "4cibyBERzWNE",
        "outputId": "bbb47079-6861-4cd6-e5d1-3d8b9518d4f3"
      },
      "outputs": [
        {
          "name": "stdout",
          "output_type": "stream",
          "text": [
            "\n",
            "Overall Survival (Months) Statistics:\n",
            "count    3109.000000\n",
            "mean       20.222603\n",
            "std        20.106376\n",
            "min         0.032877\n",
            "25%         6.476705\n",
            "50%        13.643821\n",
            "75%        26.498601\n",
            "max       110.531386\n",
            "Name: Overall Survival (Months), dtype: float64\n",
            "\n",
            "Average Survival in Months: 20.22\n"
          ]
        }
      ],
      "source": [
        "#Computing the average of a patient survival in months\n",
        "\n",
        "survival_months_stats = pancreatic_cancer_filtered['Overall Survival (Months)'].describe()\n",
        "print(\"\\nOverall Survival (Months) Statistics:\")\n",
        "print(survival_months_stats)\n",
        "\n",
        "average_survival_months = pancreatic_cancer_filtered['Overall Survival (Months)'].mean()\n",
        "print(f\"\\nAverage Survival in Months: {average_survival_months:.2f}\")"
      ]
    },
    {
      "cell_type": "markdown",
      "id": "pXD6TwEn2wda",
      "metadata": {
        "id": "pXD6TwEn2wda"
      },
      "source": [
        "Therefore an average patient has a survival time of 1 Year and 8 months after testing positive for pancreatic cancer."
      ]
    },
    {
      "cell_type": "markdown",
      "id": "641a1c52",
      "metadata": {
        "id": "641a1c52"
      },
      "source": [
        "### B. Demographic Analysis"
      ]
    },
    {
      "cell_type": "markdown",
      "id": "JV_JQlLE3Jsw",
      "metadata": {
        "id": "JV_JQlLE3Jsw"
      },
      "source": [
        "We shall investigate the age and ethnicity to assess the distribution of the cancer type"
      ]
    },
    {
      "cell_type": "code",
      "execution_count": 388,
      "id": "a9a5d5c4",
      "metadata": {
        "colab": {
          "base_uri": "https://localhost:8080/",
          "height": 0
        },
        "id": "a9a5d5c4",
        "outputId": "afb74d10-111e-45ab-f3ed-01e708d2c8ea"
      },
      "outputs": [
        {
          "data": {
            "image/png": "[encoded data removed]",
            "text/plain": [
              "<Figure size 432x288 with 1 Axes>"
            ]
          },
          "metadata": {
            "needs_background": "light"
          },
          "output_type": "display_data"
        }
      ],
      "source": [
        "# Showing the age distribution of the patients\n",
        "sns.histplot(data=pancreatic_cancer_filtered, x='Current Age', kde=True)\n",
        "plt.title('Age Distribution')\n",
        "plt.show()"
      ]
    },
    {
      "cell_type": "code",
      "execution_count": 389,
      "id": "lKMcoqMDeNvA",
      "metadata": {
        "colab": {
          "base_uri": "https://localhost:8080/"
        },
        "id": "lKMcoqMDeNvA",
        "outputId": "767e2fde-eb6f-44ea-a5dc-996e57c7454a"
      },
      "outputs": [
        {
          "name": "stdout",
          "output_type": "stream",
          "text": [
            "Average age of pancreatic patients: 67.50 years\n"
          ]
        }
      ],
      "source": [
        "#Calculating the average age of pancreatic patients\n",
        "\n",
        "average_age = pancreatic_cancer_filtered['Current Age'].mean()\n",
        "print(f\"Average age of pancreatic patients: {average_age:.2f} years\")"
      ]
    },
    {
      "cell_type": "code",
      "execution_count": 390,
      "id": "197127eb",
      "metadata": {
        "colab": {
          "base_uri": "https://localhost:8080/",
          "height": 0
        },
        "id": "197127eb",
        "outputId": "89ba50c4-3dde-460a-c235-c264f92736a8"
      },
      "outputs": [
        {
          "data": {
            "image/png": "[encoded data removed]",
            "text/plain": [
              "<Figure size 432x288 with 1 Axes>"
            ]
          },
          "metadata": {
            "needs_background": "light"
          },
          "output_type": "display_data"
        }
      ],
      "source": [
        "# Sex vs survival\n",
        "sns.countplot(x='Sex', hue='Overall Survival Status', data=pancreatic_cancer_filtered)\n",
        "plt.title('Sex and Survival Status')\n",
        "plt.show()"
      ]
    },
    {
      "cell_type": "markdown",
      "id": "majBqlf_1TLm",
      "metadata": {
        "id": "majBqlf_1TLm"
      },
      "source": [
        "The distribution of pancreatic cancer is relatively equal between genders, with the majority of patients not surviving the disease."
      ]
    },
    {
      "cell_type": "code",
      "execution_count": 391,
      "id": "L7jdwdjeDBS7",
      "metadata": {
        "colab": {
          "base_uri": "https://localhost:8080/",
          "height": 0
        },
        "id": "L7jdwdjeDBS7",
        "outputId": "1565eb94-78ac-4fe0-d423-2cb3e5ff8054"
      },
      "outputs": [
        {
          "data": {
            "image/png": "[encoded data removed]",
            "text/plain": [
              "<Figure size 864x576 with 1 Axes>"
            ]
          },
          "metadata": {
            "needs_background": "light"
          },
          "output_type": "display_data"
        }
      ],
      "source": [
        "# Observing how different races are affected\n",
        "\n",
        "# Race vs survival\n",
        "plt.figure(figsize=(12, 8))\n",
        "sns.countplot(x='Race', hue='Overall Survival Status', data=pancreatic_cancer_filtered, palette='Set1')\n",
        "plt.title('Race and Survival Status')\n",
        "plt.xlabel('Race')\n",
        "plt.ylabel('Number of Patients')\n",
        "plt.xticks(rotation=45, ha='right')\n",
        "plt.tight_layout()\n",
        "plt.show()"
      ]
    },
    {
      "cell_type": "code",
      "execution_count": 392,
      "id": "YgLcU5p7DJ1f",
      "metadata": {
        "colab": {
          "base_uri": "https://localhost:8080/"
        },
        "id": "YgLcU5p7DJ1f",
        "outputId": "72270c08-5e45-481c-d9e6-5f09d2c51e13"
      },
      "outputs": [
        {
          "name": "stdout",
          "output_type": "stream",
          "text": [
            "\n",
            "Race vs. Survival Status Counts and Rates:\n",
            "Overall Survival Status        0:LIVING  1:DECEASED  Total  Survival Rate (%)\n",
            "Race                                                                         \n",
            "Asian-Far East/Indian Subcont        56         157    213          26.291080\n",
            "Black Or African American            40         104    144          27.777778\n",
            "Native American-Am Ind/Alaska         2           2      4          50.000000\n",
            "No Value Entered                      1           0      1         100.000000\n",
            "Other                                20          46     66          30.303030\n",
            "Pt Refused To Answer                 29          54     83          34.939759\n",
            "Unknown                               7          19     26          26.923077\n",
            "White                               834        1738   2572          32.426128\n"
          ]
        }
      ],
      "source": [
        "# Calculate survival counts and rates per race\n",
        "race_survival_counts = pancreatic_cancer_filtered.groupby(['Race', 'Overall Survival Status']).size().unstack(fill_value=0)\n",
        "race_survival_counts['Total'] = race_survival_counts['0:LIVING'] + race_survival_counts['1:DECEASED']\n",
        "race_survival_counts['Survival Rate (%)'] = (race_survival_counts['0:LIVING'] / race_survival_counts['Total']) * 100\n",
        "\n",
        "print(\"\\nRace vs. Survival Status Counts and Rates:\")\n",
        "print(race_survival_counts)"
      ]
    },
    {
      "cell_type": "code",
      "execution_count": 393,
      "id": "Wi1gvF-A1A-q",
      "metadata": {
        "colab": {
          "base_uri": "https://localhost:8080/",
          "height": 0
        },
        "id": "Wi1gvF-A1A-q",
        "outputId": "e226fbf8-8d95-4075-f5c2-161138f68734"
      },
      "outputs": [
        {
          "name": "stdout",
          "output_type": "stream",
          "text": [
            "\n",
            "Ethnicity vs. Survival Status Counts and Rates:\n"
          ]
        },
        {
          "data": {
            "text/html": [
              "<div>\n",
              "<style scoped>\n",
              "    .dataframe tbody tr th:only-of-type {\n",
              "        vertical-align: middle;\n",
              "    }\n",
              "\n",
              "    .dataframe tbody tr th {\n",
              "        vertical-align: top;\n",
              "    }\n",
              "\n",
              "    .dataframe thead th {\n",
              "        text-align: right;\n",
              "    }\n",
              "</style>\n",
              "<table border=\"1\" class=\"dataframe\">\n",
              "  <thead>\n",
              "    <tr style=\"text-align: right;\">\n",
              "      <th>Overall Survival Status</th>\n",
              "      <th>0:LIVING</th>\n",
              "      <th>1:DECEASED</th>\n",
              "      <th>Total</th>\n",
              "      <th>Survival Rate (%)</th>\n",
              "    </tr>\n",
              "    <tr>\n",
              "      <th>Ethnicity</th>\n",
              "      <th></th>\n",
              "      <th></th>\n",
              "      <th></th>\n",
              "      <th></th>\n",
              "    </tr>\n",
              "  </thead>\n",
              "  <tbody>\n",
              "    <tr>\n",
              "      <th>Cuban</th>\n",
              "      <td>1</td>\n",
              "      <td>1</td>\n",
              "      <td>2</td>\n",
              "      <td>50.000000</td>\n",
              "    </tr>\n",
              "    <tr>\n",
              "      <th>Dominican Republic</th>\n",
              "      <td>1</td>\n",
              "      <td>7</td>\n",
              "      <td>8</td>\n",
              "      <td>12.500000</td>\n",
              "    </tr>\n",
              "    <tr>\n",
              "      <th>Mexican (includes Chicano)</th>\n",
              "      <td>0</td>\n",
              "      <td>1</td>\n",
              "      <td>1</td>\n",
              "      <td>0.000000</td>\n",
              "    </tr>\n",
              "    <tr>\n",
              "      <th>Non-Spanish; Non-Hispanic</th>\n",
              "      <td>888</td>\n",
              "      <td>1907</td>\n",
              "      <td>2795</td>\n",
              "      <td>31.771020</td>\n",
              "    </tr>\n",
              "    <tr>\n",
              "      <th>Other Spanish/Hispanic(incl European; excl Dom Rep</th>\n",
              "      <td>1</td>\n",
              "      <td>0</td>\n",
              "      <td>1</td>\n",
              "      <td>100.000000</td>\n",
              "    </tr>\n",
              "    <tr>\n",
              "      <th>Puerto Rican</th>\n",
              "      <td>4</td>\n",
              "      <td>6</td>\n",
              "      <td>10</td>\n",
              "      <td>40.000000</td>\n",
              "    </tr>\n",
              "    <tr>\n",
              "      <th>South/Central America (except Brazil)</th>\n",
              "      <td>7</td>\n",
              "      <td>15</td>\n",
              "      <td>22</td>\n",
              "      <td>31.818182</td>\n",
              "    </tr>\n",
              "    <tr>\n",
              "      <th>Spanish  NOS; Hispanic NOS, Latino NOS</th>\n",
              "      <td>51</td>\n",
              "      <td>103</td>\n",
              "      <td>154</td>\n",
              "      <td>33.116883</td>\n",
              "    </tr>\n",
              "    <tr>\n",
              "      <th>Unknown whether Spanish or not</th>\n",
              "      <td>36</td>\n",
              "      <td>80</td>\n",
              "      <td>116</td>\n",
              "      <td>31.034483</td>\n",
              "    </tr>\n",
              "  </tbody>\n",
              "</table>\n",
              "</div>"
            ],
            "text/plain": [
              "Overall Survival Status                             0:LIVING  1:DECEASED  \\\n",
              "Ethnicity                                                                  \n",
              "Cuban                                                      1           1   \n",
              "Dominican Republic                                         1           7   \n",
              "Mexican (includes Chicano)                                 0           1   \n",
              "Non-Spanish; Non-Hispanic                                888        1907   \n",
              "Other Spanish/Hispanic(incl European; excl Dom Rep         1           0   \n",
              "Puerto Rican                                               4           6   \n",
              "South/Central America (except Brazil)                      7          15   \n",
              "Spanish  NOS; Hispanic NOS, Latino NOS                    51         103   \n",
              "Unknown whether Spanish or not                            36          80   \n",
              "\n",
              "Overall Survival Status                             Total  Survival Rate (%)  \n",
              "Ethnicity                                                                     \n",
              "Cuban                                                   2          50.000000  \n",
              "Dominican Republic                                      8          12.500000  \n",
              "Mexican (includes Chicano)                              1           0.000000  \n",
              "Non-Spanish; Non-Hispanic                            2795          31.771020  \n",
              "Other Spanish/Hispanic(incl European; excl Dom Rep      1         100.000000  \n",
              "Puerto Rican                                           10          40.000000  \n",
              "South/Central America (except Brazil)                  22          31.818182  \n",
              "Spanish  NOS; Hispanic NOS, Latino NOS                154          33.116883  \n",
              "Unknown whether Spanish or not                        116          31.034483  "
            ]
          },
          "execution_count": 393,
          "metadata": {},
          "output_type": "execute_result"
        }
      ],
      "source": [
        "#Observing how different ethnicities are affected\n",
        "\n",
        "# Ethnicity and Survival\n",
        "ethnicity_survival_counts = pancreatic_cancer_filtered.groupby(['Ethnicity', 'Overall Survival Status']).size().unstack(fill_value=0)\n",
        "ethnicity_survival_counts['Total'] = ethnicity_survival_counts['0:LIVING'] + ethnicity_survival_counts['1:DECEASED']\n",
        "ethnicity_survival_counts['Survival Rate (%)'] = (ethnicity_survival_counts['0:LIVING'] / ethnicity_survival_counts['Total']) * 100\n",
        "\n",
        "print(\"\\nEthnicity vs. Survival Status Counts and Rates:\")\n",
        "ethnicity_survival_counts\n"
      ]
    },
    {
      "cell_type": "markdown",
      "id": "cf1f920f",
      "metadata": {
        "id": "cf1f920f"
      },
      "source": [
        "### C. Tumor and Genomic Characteristics"
      ]
    },
    {
      "cell_type": "code",
      "execution_count": 394,
      "id": "68470b31",
      "metadata": {
        "colab": {
          "base_uri": "https://localhost:8080/",
          "height": 0
        },
        "id": "68470b31",
        "outputId": "c8c82bc6-2e8d-4ef3-ebc8-918dc58843c6"
      },
      "outputs": [
        {
          "data": {
            "image/png": "[encoded data removed]",
            "text/plain": [
              "<Figure size 432x288 with 1 Axes>"
            ]
          },
          "metadata": {
            "needs_background": "light"
          },
          "output_type": "display_data"
        }
      ],
      "source": [
        "pancreatic_cancer_filtered['Tumor Purity'] = pd.to_numeric(pancreatic_cancer_filtered['Tumor Purity'], errors='coerce')\n",
        "\n",
        "# Tumor Purity\n",
        "sns.boxplot(x='Overall Survival Status', y='Tumor Purity', data=pancreatic_cancer_filtered)\n",
        "plt.title('Tumor Purity vs Survival Status')\n",
        "plt.show()"
      ]
    },
    {
      "cell_type": "code",
      "execution_count": 395,
      "id": "lFgr2vc2NOCu",
      "metadata": {
        "colab": {
          "base_uri": "https://localhost:8080/",
          "height": 0
        },
        "id": "lFgr2vc2NOCu",
        "outputId": "2927ad4d-b09d-4520-83ea-156aa75447d9"
      },
      "outputs": [
        {
          "data": {
            "image/png": "[encoded data removed]",
            "text/plain": [
              "<Figure size 720x360 with 1 Axes>"
            ]
          },
          "metadata": {
            "needs_background": "light"
          },
          "output_type": "display_data"
        }
      ],
      "source": [
        "#Showing a histogram indicating mutation count\n",
        "\n",
        "# Mutation Count\n",
        "plt.figure(figsize=(10, 5))\n",
        "sns.histplot(data= pancreatic_cancer_filtered[pancreatic_cancer_filtered['Mutation Count'] <= 20], x='Mutation Count', bins=50, kde=True, hue='Overall Survival Status')\n",
        "plt.title('Mutation Count Distribution Among Patients')\n",
        "plt.xlabel('Mutation Count')\n",
        "plt.ylabel('Frequency')\n",
        "plt.xlim(0, 100)\n",
        "plt.show()"
      ]
    },
    {
      "cell_type": "code",
      "execution_count": 396,
      "id": "PIDg-l9zO4Kh",
      "metadata": {
        "colab": {
          "base_uri": "https://localhost:8080/",
          "height": 0
        },
        "id": "PIDg-l9zO4Kh",
        "outputId": "0f842228-06ea-4ccd-8d5f-ede3a71ab23b"
      },
      "outputs": [
        {
          "name": "stdout",
          "output_type": "stream",
          "text": [
            "\n",
            "Mutation Count Statistics by Survival Status:\n"
          ]
        },
        {
          "data": {
            "text/html": [
              "<div>\n",
              "<style scoped>\n",
              "    .dataframe tbody tr th:only-of-type {\n",
              "        vertical-align: middle;\n",
              "    }\n",
              "\n",
              "    .dataframe tbody tr th {\n",
              "        vertical-align: top;\n",
              "    }\n",
              "\n",
              "    .dataframe thead th {\n",
              "        text-align: right;\n",
              "    }\n",
              "</style>\n",
              "<table border=\"1\" class=\"dataframe\">\n",
              "  <thead>\n",
              "    <tr style=\"text-align: right;\">\n",
              "      <th></th>\n",
              "      <th>count</th>\n",
              "      <th>mean</th>\n",
              "      <th>std</th>\n",
              "      <th>min</th>\n",
              "      <th>25%</th>\n",
              "      <th>50%</th>\n",
              "      <th>75%</th>\n",
              "      <th>max</th>\n",
              "    </tr>\n",
              "    <tr>\n",
              "      <th>Overall Survival Status</th>\n",
              "      <th></th>\n",
              "      <th></th>\n",
              "      <th></th>\n",
              "      <th></th>\n",
              "      <th></th>\n",
              "      <th></th>\n",
              "      <th></th>\n",
              "      <th></th>\n",
              "    </tr>\n",
              "  </thead>\n",
              "  <tbody>\n",
              "    <tr>\n",
              "      <th>0:LIVING</th>\n",
              "      <td>989.0</td>\n",
              "      <td>4.845800</td>\n",
              "      <td>7.857904</td>\n",
              "      <td>1.0</td>\n",
              "      <td>3.0</td>\n",
              "      <td>4.0</td>\n",
              "      <td>5.0</td>\n",
              "      <td>150.0</td>\n",
              "    </tr>\n",
              "    <tr>\n",
              "      <th>1:DECEASED</th>\n",
              "      <td>2120.0</td>\n",
              "      <td>4.532975</td>\n",
              "      <td>5.707814</td>\n",
              "      <td>1.0</td>\n",
              "      <td>3.0</td>\n",
              "      <td>4.0</td>\n",
              "      <td>5.0</td>\n",
              "      <td>168.0</td>\n",
              "    </tr>\n",
              "  </tbody>\n",
              "</table>\n",
              "</div>"
            ],
            "text/plain": [
              "                          count      mean       std  min  25%  50%  75%    max\n",
              "Overall Survival Status                                                       \n",
              "0:LIVING                  989.0  4.845800  7.857904  1.0  3.0  4.0  5.0  150.0\n",
              "1:DECEASED               2120.0  4.532975  5.707814  1.0  3.0  4.0  5.0  168.0"
            ]
          },
          "execution_count": 396,
          "metadata": {},
          "output_type": "execute_result"
        }
      ],
      "source": [
        "#Showing mutation count statistics among dead and living patients\n",
        "\n",
        "mutation_counts_by_status = pancreatic_cancer_filtered.groupby('Overall Survival Status')['Mutation Count'].describe()\n",
        "\n",
        "print(\"\\nMutation Count Statistics by Survival Status:\")\n",
        "mutation_counts_by_status"
      ]
    },
    {
      "cell_type": "markdown",
      "id": "-TVhiL9mPMVa",
      "metadata": {
        "id": "-TVhiL9mPMVa"
      },
      "source": [
        "The mutation count distributions for both survival groups are quite similar in shape and range. This suggests that mutation count alone may not strongly differentiate between living and deceased patients."
      ]
    },
    {
      "cell_type": "code",
      "execution_count": 397,
      "id": "Crfk5ixka4Bi",
      "metadata": {
        "colab": {
          "base_uri": "https://localhost:8080/",
          "height": 0
        },
        "id": "Crfk5ixka4Bi",
        "outputId": "07e829a8-d295-4059-c3e7-a9b49563994b"
      },
      "outputs": [
        {
          "data": {
            "image/png": "[encoded data removed]",
            "text/plain": [
              "<Figure size 576x432 with 1 Axes>"
            ]
          },
          "metadata": {
            "needs_background": "light"
          },
          "output_type": "display_data"
        }
      ],
      "source": [
        "#Genome Alteration using the fraction genome altered\n",
        "\n",
        "#We shall use the violin plot to show fraction genome altered among patients\n",
        "\n",
        "# Fraction Genome Altered\n",
        "plt.figure(figsize=(8, 6))\n",
        "sns.violinplot(x='Overall Survival Status', y='Fraction Genome Altered', data=pancreatic_cancer_filtered, palette='pastel')\n",
        "plt.title('Fraction Genome Altered Among Patients by Survival Status')\n",
        "plt.xlabel('Overall Survival Status')\n",
        "plt.ylabel('Fraction Genome Altered')\n",
        "plt.xticks(ticks=[0, 1], labels=['Dead', 'Alive'])\n",
        "plt.show()"
      ]
    },
    {
      "cell_type": "markdown",
      "id": "MRT4b5uIb5Lk",
      "metadata": {
        "id": "MRT4b5uIb5Lk"
      },
      "source": [
        "This indicates that there is a higher distribution of genome alteration among dead patients making this a good basis to test our model on."
      ]
    },
    {
      "cell_type": "markdown",
      "id": "d54e251c",
      "metadata": {
        "id": "d54e251c"
      },
      "source": [
        "### D. Clinical Staging & Smoking History"
      ]
    },
    {
      "cell_type": "code",
      "execution_count": 398,
      "id": "DxHqGgzRPaWI",
      "metadata": {
        "colab": {
          "base_uri": "https://localhost:8080/",
          "height": 0
        },
        "id": "DxHqGgzRPaWI",
        "outputId": "88f1daef-3722-4eaa-c62f-e1b87e6e76a1"
      },
      "outputs": [
        {
          "data": {
            "image/png": "[encoded data removed]",
            "text/plain": [
              "<Figure size 576x432 with 1 Axes>"
            ]
          },
          "metadata": {
            "needs_background": "light"
          },
          "output_type": "display_data"
        }
      ],
      "source": [
        "#Indiacting the distribution among the stages how a bar graph distributing the different cancer stages\n",
        "\n",
        "# Distribution of Cancer Stages\n",
        "plt.figure(figsize=(8, 6))\n",
        "sns.countplot(x='Stage (Highest Recorded)', data=pancreatic_cancer_filtered, palette='Set2', order=sorted(pancreatic_cancer_filtered['Stage (Highest Recorded)'].unique()))\n",
        "plt.title('Distribution of patients in the cancer stages')\n",
        "plt.xlabel('Cancer Stage')\n",
        "plt.ylabel('Number of Patients')\n",
        "plt.show()"
      ]
    },
    {
      "cell_type": "code",
      "execution_count": 399,
      "id": "b241e1ed",
      "metadata": {
        "colab": {
          "base_uri": "https://localhost:8080/",
          "height": 0
        },
        "id": "b241e1ed",
        "outputId": "de1c439b-9672-4f5d-8feb-c554cfe8e1b5"
      },
      "outputs": [
        {
          "data": {
            "image/png": "[encoded data removed]",
            "text/plain": [
              "<Figure size 576x432 with 1 Axes>"
            ]
          },
          "metadata": {
            "needs_background": "light"
          },
          "output_type": "display_data"
        }
      ],
      "source": [
        "# Stage distribution with the survival metrics\n",
        "\n",
        "plt.figure(figsize=(8,6))\n",
        "sns.countplot(x='Stage (Highest Recorded)', hue='Overall Survival Status', data=pancreatic_cancer_filtered, palette='Set1')\n",
        "plt.title('Distribution of patients status in the cancer stages')\n",
        "plt.xlabel('Cancer Stage')\n",
        "plt.ylabel('Number of Patients')\n",
        "plt.show()"
      ]
    },
    {
      "cell_type": "markdown",
      "id": "4b88f1b2",
      "metadata": {},
      "source": [
        "The bar chart shows that most patients with Stage 1–3 cancer are living while fewer have died.\n",
        "\n",
        "A larger number of patients diagnosed at these stages are still alive, indicating that early detection and treatment may lead to higher chances of survival. It highlights the potential benefit of catching cancer before it progresses to more advanced stages."
      ]
    },
    {
      "cell_type": "code",
      "execution_count": 400,
      "id": "bXZ9HQylR8NJ",
      "metadata": {
        "colab": {
          "base_uri": "https://localhost:8080/",
          "height": 0
        },
        "id": "bXZ9HQylR8NJ",
        "outputId": "28eb21f5-ff1b-434c-aee8-f1cf0a150e92"
      },
      "outputs": [
        {
          "data": {
            "image/png": "[encoded data removed]",
            "text/plain": [
              "<Figure size 720x576 with 1 Axes>"
            ]
          },
          "metadata": {
            "needs_background": "light"
          },
          "output_type": "display_data"
        }
      ],
      "source": [
        "# Distribution of Smoking History\n",
        "plt.figure(figsize=(10, 8))\n",
        "sns.countplot(x='Smoking History (NLP)', data=pancreatic_cancer_filtered, palette='pastel')\n",
        "plt.title('Distribution of Smoking History among Patients with Pancreatic Cancer')\n",
        "plt.xlabel('Smoking History')\n",
        "plt.ylabel('Number of Patients')\n",
        "plt.ylim(0, 1800)\n",
        "plt.yticks(range(0, 1800, 50))\n",
        "plt.show()\n"
      ]
    },
    {
      "cell_type": "markdown",
      "id": "JZZ8I0MYSBdH",
      "metadata": {
        "id": "JZZ8I0MYSBdH"
      },
      "source": [
        "This indiactes that majority of the patients don't smoke indicating that it is not a leading cause to the pancreatic cancer."
      ]
    },
    {
      "cell_type": "code",
      "execution_count": 401,
      "id": "slZ3IFBmTWL2",
      "metadata": {
        "colab": {
          "base_uri": "https://localhost:8080/",
          "height": 0
        },
        "id": "slZ3IFBmTWL2",
        "outputId": "6c0d611e-b839-4e07-b05b-a744bd1ec06e"
      },
      "outputs": [
        {
          "data": {
            "image/png": "[encoded data removed]",
            "text/plain": [
              "<Figure size 720x576 with 1 Axes>"
            ]
          },
          "metadata": {
            "needs_background": "light"
          },
          "output_type": "display_data"
        }
      ],
      "source": [
        "# Smoking History vs Survival\n",
        "plt.figure(figsize=(10, 8))\n",
        "sns.countplot(x='Smoking History (NLP)', hue='Overall Survival Status', data=pancreatic_cancer_filtered, palette='dark')\n",
        "plt.title('Smoking History vs Survival Status')\n",
        "plt.xlabel('Smoking History')\n",
        "plt.ylabel('Number of Patients')\n",
        "plt.ylim(0,1300)\n",
        "plt.yticks(range(0, 1300, 50))\n",
        "plt.show()"
      ]
    },
    {
      "cell_type": "markdown",
      "id": "JhsJeGcFUfcV",
      "metadata": {
        "id": "JhsJeGcFUfcV"
      },
      "source": [
        "From the above data we can derive that smokers and non-smokers dont affect their survivability status. This therefore susbtanciate our initial assumption that smoking isn't a cause or a trigger to the further development of the disease."
      ]
    },
    {
      "cell_type": "code",
      "execution_count": 402,
      "id": "FxXXteCYVFe7",
      "metadata": {
        "colab": {
          "base_uri": "https://localhost:8080/"
        },
        "id": "FxXXteCYVFe7",
        "outputId": "2964bf17-58e7-497a-a4bc-2cc0e3b8af07"
      },
      "outputs": [
        {
          "name": "stdout",
          "output_type": "stream",
          "text": [
            "\n",
            "Smoking History vs. Survival Status Counts:\n",
            "Overall Survival Status  0:LIVING  1:DECEASED\n",
            "Smoking History (NLP)                        \n",
            "Former/Current Smoker         378         898\n",
            "Never                         576        1151\n",
            "Unknown                        35          71\n"
          ]
        }
      ],
      "source": [
        "smoking_survival_counts = pancreatic_cancer_filtered.groupby(['Smoking History (NLP)','Overall Survival Status']).size().unstack(fill_value=0)\n",
        "print(\"\\nSmoking History vs. Survival Status Counts:\")\n",
        "print(smoking_survival_counts)"
      ]
    },
    {
      "cell_type": "code",
      "execution_count": 403,
      "id": "ha0HotK7U5EY",
      "metadata": {
        "colab": {
          "base_uri": "https://localhost:8080/",
          "height": 0
        },
        "id": "ha0HotK7U5EY",
        "outputId": "ad098552-5431-4c16-efa5-76344f4952c6"
      },
      "outputs": [
        {
          "name": "stdout",
          "output_type": "stream",
          "text": [
            "\n",
            "Smoking History vs. Survival Status Rates (%):\n"
          ]
        },
        {
          "data": {
            "text/html": [
              "<div>\n",
              "<style scoped>\n",
              "    .dataframe tbody tr th:only-of-type {\n",
              "        vertical-align: middle;\n",
              "    }\n",
              "\n",
              "    .dataframe tbody tr th {\n",
              "        vertical-align: top;\n",
              "    }\n",
              "\n",
              "    .dataframe thead th {\n",
              "        text-align: right;\n",
              "    }\n",
              "</style>\n",
              "<table border=\"1\" class=\"dataframe\">\n",
              "  <thead>\n",
              "    <tr style=\"text-align: right;\">\n",
              "      <th>Overall Survival Status</th>\n",
              "      <th>0:LIVING</th>\n",
              "      <th>1:DECEASED</th>\n",
              "    </tr>\n",
              "    <tr>\n",
              "      <th>Smoking History (NLP)</th>\n",
              "      <th></th>\n",
              "      <th></th>\n",
              "    </tr>\n",
              "  </thead>\n",
              "  <tbody>\n",
              "    <tr>\n",
              "      <th>Former/Current Smoker</th>\n",
              "      <td>29.623824</td>\n",
              "      <td>70.376176</td>\n",
              "    </tr>\n",
              "    <tr>\n",
              "      <th>Never</th>\n",
              "      <td>33.352635</td>\n",
              "      <td>66.647365</td>\n",
              "    </tr>\n",
              "    <tr>\n",
              "      <th>Unknown</th>\n",
              "      <td>33.018868</td>\n",
              "      <td>66.981132</td>\n",
              "    </tr>\n",
              "  </tbody>\n",
              "</table>\n",
              "</div>"
            ],
            "text/plain": [
              "Overall Survival Status   0:LIVING  1:DECEASED\n",
              "Smoking History (NLP)                         \n",
              "Former/Current Smoker    29.623824   70.376176\n",
              "Never                    33.352635   66.647365\n",
              "Unknown                  33.018868   66.981132"
            ]
          },
          "execution_count": 403,
          "metadata": {},
          "output_type": "execute_result"
        }
      ],
      "source": [
        "smoking_survival_rates = smoking_survival_counts.apply(lambda x: x / x.sum() * 100, axis=1)\n",
        "print(\"\\nSmoking History vs. Survival Status Rates (%):\")\n",
        "smoking_survival_rates"
      ]
    },
    {
      "cell_type": "markdown",
      "id": "18c40cc6",
      "metadata": {
        "id": "18c40cc6"
      },
      "source": [
        "### E. Survival by Metastatic Site"
      ]
    },
    {
      "cell_type": "code",
      "execution_count": 404,
      "id": "nhhwETQ1hK9G",
      "metadata": {
        "colab": {
          "base_uri": "https://localhost:8080/",
          "height": 0
        },
        "id": "nhhwETQ1hK9G",
        "outputId": "de644223-8a8b-4e53-dbdf-fcfa252eb0ea"
      },
      "outputs": [
        {
          "data": {
            "image/png": "[encoded data removed]",
            "text/plain": [
              "<Figure size 1440x576 with 1 Axes>"
            ]
          },
          "metadata": {
            "needs_background": "light"
          },
          "output_type": "display_data"
        }
      ],
      "source": [
        "# Graphically show metatstic sites in patients\n",
        "metastatic_df = pancreatic_cancer_filtered[pancreatic_cancer_filtered['Metastatic Site'] != 'N/A']\n",
        "\n",
        "plt.figure(figsize=(20, 8))\n",
        "sns.countplot(y='Metastatic Site', hue='Overall Survival Status', data= metastatic_df, order=pancreatic_cancer_filtered['Metastatic Site'].value_counts().nlargest(10).index)\n",
        "plt.title('Metastatic Site and Survival Status')\n",
        "plt.xlabel('Number of Patients')\n",
        "plt.ylabel('Metastatic Site')\n",
        "plt.xlim(0, 1400)\n",
        "plt.xticks(range(0, 1400, 50))\n",
        "plt.show()"
      ]
    },
    {
      "cell_type": "code",
      "execution_count": 405,
      "id": "w6A3cYW6f1ka",
      "metadata": {
        "colab": {
          "base_uri": "https://localhost:8080/",
          "height": 0
        },
        "id": "w6A3cYW6f1ka",
        "outputId": "26817f77-05b3-4956-ac29-0a41a5d81842"
      },
      "outputs": [
        {
          "name": "stdout",
          "output_type": "stream",
          "text": [
            "\n",
            "Metastatic Site vs. Survival Status Counts and Rates (Sorted by Deceased Patients):\n"
          ]
        },
        {
          "data": {
            "text/html": [
              "<div>\n",
              "<style scoped>\n",
              "    .dataframe tbody tr th:only-of-type {\n",
              "        vertical-align: middle;\n",
              "    }\n",
              "\n",
              "    .dataframe tbody tr th {\n",
              "        vertical-align: top;\n",
              "    }\n",
              "\n",
              "    .dataframe thead th {\n",
              "        text-align: right;\n",
              "    }\n",
              "</style>\n",
              "<table border=\"1\" class=\"dataframe\">\n",
              "  <thead>\n",
              "    <tr style=\"text-align: right;\">\n",
              "      <th>Overall Survival Status</th>\n",
              "      <th>0:LIVING</th>\n",
              "      <th>1:DECEASED</th>\n",
              "    </tr>\n",
              "    <tr>\n",
              "      <th>Metastatic Site</th>\n",
              "      <th></th>\n",
              "      <th></th>\n",
              "    </tr>\n",
              "  </thead>\n",
              "  <tbody>\n",
              "    <tr>\n",
              "      <th>N/A</th>\n",
              "      <td>760</td>\n",
              "      <td>1230</td>\n",
              "    </tr>\n",
              "    <tr>\n",
              "      <th>Liver</th>\n",
              "      <td>148</td>\n",
              "      <td>624</td>\n",
              "    </tr>\n",
              "    <tr>\n",
              "      <th>Lung</th>\n",
              "      <td>14</td>\n",
              "      <td>51</td>\n",
              "    </tr>\n",
              "    <tr>\n",
              "      <th>Peritoneum</th>\n",
              "      <td>16</td>\n",
              "      <td>47</td>\n",
              "    </tr>\n",
              "    <tr>\n",
              "      <th>Lymph Node</th>\n",
              "      <td>17</td>\n",
              "      <td>37</td>\n",
              "    </tr>\n",
              "    <tr>\n",
              "      <th>Omentum</th>\n",
              "      <td>5</td>\n",
              "      <td>21</td>\n",
              "    </tr>\n",
              "    <tr>\n",
              "      <th>Soft Tissue</th>\n",
              "      <td>5</td>\n",
              "      <td>20</td>\n",
              "    </tr>\n",
              "    <tr>\n",
              "      <th>Ovary</th>\n",
              "      <td>4</td>\n",
              "      <td>11</td>\n",
              "    </tr>\n",
              "    <tr>\n",
              "      <th>Retroperitoneum</th>\n",
              "      <td>3</td>\n",
              "      <td>7</td>\n",
              "    </tr>\n",
              "    <tr>\n",
              "      <th>Mesentery</th>\n",
              "      <td>2</td>\n",
              "      <td>6</td>\n",
              "    </tr>\n",
              "    <tr>\n",
              "      <th>Abdomen</th>\n",
              "      <td>5</td>\n",
              "      <td>6</td>\n",
              "    </tr>\n",
              "    <tr>\n",
              "      <th>Duodenum</th>\n",
              "      <td>2</td>\n",
              "      <td>5</td>\n",
              "    </tr>\n",
              "    <tr>\n",
              "      <th>Peritoneal Implant</th>\n",
              "      <td>0</td>\n",
              "      <td>4</td>\n",
              "    </tr>\n",
              "    <tr>\n",
              "      <th>Pleura</th>\n",
              "      <td>0</td>\n",
              "      <td>4</td>\n",
              "    </tr>\n",
              "    <tr>\n",
              "      <th>Pelvis</th>\n",
              "      <td>0</td>\n",
              "      <td>4</td>\n",
              "    </tr>\n",
              "    <tr>\n",
              "      <th>Peritoneal Fluid</th>\n",
              "      <td>1</td>\n",
              "      <td>3</td>\n",
              "    </tr>\n",
              "    <tr>\n",
              "      <th>Colon</th>\n",
              "      <td>0</td>\n",
              "      <td>3</td>\n",
              "    </tr>\n",
              "    <tr>\n",
              "      <th>Appendix</th>\n",
              "      <td>0</td>\n",
              "      <td>3</td>\n",
              "    </tr>\n",
              "    <tr>\n",
              "      <th>Stomach</th>\n",
              "      <td>0</td>\n",
              "      <td>3</td>\n",
              "    </tr>\n",
              "    <tr>\n",
              "      <th>Neck</th>\n",
              "      <td>0</td>\n",
              "      <td>2</td>\n",
              "    </tr>\n",
              "    <tr>\n",
              "      <th>Lymph node</th>\n",
              "      <td>1</td>\n",
              "      <td>2</td>\n",
              "    </tr>\n",
              "    <tr>\n",
              "      <th>Abdominal wall</th>\n",
              "      <td>0</td>\n",
              "      <td>2</td>\n",
              "    </tr>\n",
              "    <tr>\n",
              "      <th>Adnexa or Endomterium</th>\n",
              "      <td>0</td>\n",
              "      <td>2</td>\n",
              "    </tr>\n",
              "    <tr>\n",
              "      <th>Diaphragm</th>\n",
              "      <td>2</td>\n",
              "      <td>2</td>\n",
              "    </tr>\n",
              "    <tr>\n",
              "      <th>Arm</th>\n",
              "      <td>0</td>\n",
              "      <td>2</td>\n",
              "    </tr>\n",
              "    <tr>\n",
              "      <th>Brain</th>\n",
              "      <td>0</td>\n",
              "      <td>2</td>\n",
              "    </tr>\n",
              "    <tr>\n",
              "      <th>LN</th>\n",
              "      <td>0</td>\n",
              "      <td>1</td>\n",
              "    </tr>\n",
              "    <tr>\n",
              "      <th>Gallbladder</th>\n",
              "      <td>1</td>\n",
              "      <td>1</td>\n",
              "    </tr>\n",
              "    <tr>\n",
              "      <th>liver</th>\n",
              "      <td>0</td>\n",
              "      <td>1</td>\n",
              "    </tr>\n",
              "    <tr>\n",
              "      <th>Small Intestine</th>\n",
              "      <td>0</td>\n",
              "      <td>1</td>\n",
              "    </tr>\n",
              "    <tr>\n",
              "      <th>Small Bowel</th>\n",
              "      <td>0</td>\n",
              "      <td>1</td>\n",
              "    </tr>\n",
              "    <tr>\n",
              "      <th>Skin</th>\n",
              "      <td>0</td>\n",
              "      <td>1</td>\n",
              "    </tr>\n",
              "    <tr>\n",
              "      <th>Bladder</th>\n",
              "      <td>0</td>\n",
              "      <td>1</td>\n",
              "    </tr>\n",
              "    <tr>\n",
              "      <th>Peritonenum</th>\n",
              "      <td>0</td>\n",
              "      <td>1</td>\n",
              "    </tr>\n",
              "    <tr>\n",
              "      <th>Bone</th>\n",
              "      <td>0</td>\n",
              "      <td>1</td>\n",
              "    </tr>\n",
              "    <tr>\n",
              "      <th>Cerebellum</th>\n",
              "      <td>0</td>\n",
              "      <td>1</td>\n",
              "    </tr>\n",
              "    <tr>\n",
              "      <th>Pelvic Nodule</th>\n",
              "      <td>0</td>\n",
              "      <td>1</td>\n",
              "    </tr>\n",
              "    <tr>\n",
              "      <th>Chest Wall</th>\n",
              "      <td>0</td>\n",
              "      <td>1</td>\n",
              "    </tr>\n",
              "    <tr>\n",
              "      <th>Diaphram</th>\n",
              "      <td>0</td>\n",
              "      <td>1</td>\n",
              "    </tr>\n",
              "    <tr>\n",
              "      <th>Epidural</th>\n",
              "      <td>0</td>\n",
              "      <td>1</td>\n",
              "    </tr>\n",
              "    <tr>\n",
              "      <th>GE Junction</th>\n",
              "      <td>0</td>\n",
              "      <td>1</td>\n",
              "    </tr>\n",
              "    <tr>\n",
              "      <th>Abdominal Wall</th>\n",
              "      <td>0</td>\n",
              "      <td>1</td>\n",
              "    </tr>\n",
              "    <tr>\n",
              "      <th>right upper quadrant peritoneum</th>\n",
              "      <td>0</td>\n",
              "      <td>1</td>\n",
              "    </tr>\n",
              "    <tr>\n",
              "      <th>Adrenal Gland</th>\n",
              "      <td>1</td>\n",
              "      <td>0</td>\n",
              "    </tr>\n",
              "    <tr>\n",
              "      <th>Soft tissue</th>\n",
              "      <td>1</td>\n",
              "      <td>0</td>\n",
              "    </tr>\n",
              "    <tr>\n",
              "      <th>Uterus</th>\n",
              "      <td>1</td>\n",
              "      <td>0</td>\n",
              "    </tr>\n",
              "  </tbody>\n",
              "</table>\n",
              "</div>"
            ],
            "text/plain": [
              "Overall Survival Status          0:LIVING  1:DECEASED\n",
              "Metastatic Site                                      \n",
              "N/A                                   760        1230\n",
              "Liver                                 148         624\n",
              "Lung                                   14          51\n",
              "Peritoneum                             16          47\n",
              "Lymph Node                             17          37\n",
              "Omentum                                 5          21\n",
              "Soft Tissue                             5          20\n",
              "Ovary                                   4          11\n",
              "Retroperitoneum                         3           7\n",
              "Mesentery                               2           6\n",
              "Abdomen                                 5           6\n",
              "Duodenum                                2           5\n",
              "Peritoneal Implant                      0           4\n",
              "Pleura                                  0           4\n",
              "Pelvis                                  0           4\n",
              "Peritoneal Fluid                        1           3\n",
              "Colon                                   0           3\n",
              "Appendix                                0           3\n",
              "Stomach                                 0           3\n",
              "Neck                                    0           2\n",
              "Lymph node                              1           2\n",
              "Abdominal wall                          0           2\n",
              "Adnexa or Endomterium                   0           2\n",
              "Diaphragm                               2           2\n",
              "Arm                                     0           2\n",
              "Brain                                   0           2\n",
              "LN                                      0           1\n",
              "Gallbladder                             1           1\n",
              "liver                                   0           1\n",
              "Small Intestine                         0           1\n",
              "Small Bowel                             0           1\n",
              "Skin                                    0           1\n",
              "Bladder                                 0           1\n",
              "Peritonenum                             0           1\n",
              "Bone                                    0           1\n",
              "Cerebellum                              0           1\n",
              "Pelvic Nodule                           0           1\n",
              "Chest Wall                              0           1\n",
              "Diaphram                                0           1\n",
              "Epidural                                0           1\n",
              "GE Junction                             0           1\n",
              "Abdominal Wall                          0           1\n",
              "right upper quadrant peritoneum         0           1\n",
              "Adrenal Gland                           1           0\n",
              "Soft tissue                             1           0\n",
              "Uterus                                  1           0"
            ]
          },
          "execution_count": 405,
          "metadata": {},
          "output_type": "execute_result"
        }
      ],
      "source": [
        "#Calculate survival counts and rates per metastatic site\n",
        "\n",
        "# Calculate survival counts per metastatic site\n",
        "metastatic_survival_counts = pancreatic_cancer_filtered.groupby(['Metastatic Site', 'Overall Survival Status']).size().unstack(fill_value=0)\n",
        "\n",
        "# Sort the metastatic survival counts by the number of deceased patients in descending order\n",
        "metastatic_survival_counts_sorted_by_deceased = metastatic_survival_counts.sort_values(by='1:DECEASED', ascending=False)\n",
        "\n",
        "print(\"\\nMetastatic Site vs. Survival Status Counts and Rates (Sorted by Deceased Patients):\")\n",
        "metastatic_survival_counts_sorted_by_deceased"
      ]
    },
    {
      "cell_type": "markdown",
      "id": "8443d1bb",
      "metadata": {},
      "source": [
        "The liver is the most common site of metastasis for pancreatic cancer."
      ]
    },
    {
      "cell_type": "markdown",
      "id": "72d9ef62",
      "metadata": {
        "id": "72d9ef62"
      },
      "source": [
        "## 3.2 Feature Engineering"
      ]
    },
    {
      "cell_type": "markdown",
      "id": "787b0c1c",
      "metadata": {
        "id": "787b0c1c"
      },
      "source": [
        "### A. Correlation Analysis\n",
        "- Finds the redundant or weakly correlated features in the dataset"
      ]
    },
    {
      "cell_type": "code",
      "execution_count": 406,
      "id": "d6f4437e",
      "metadata": {
        "colab": {
          "base_uri": "https://localhost:8080/",
          "height": 0
        },
        "id": "d6f4437e",
        "outputId": "792db932-f357-48eb-b09d-aa05ba2d40d5"
      },
      "outputs": [
        {
          "data": {
            "image/png": "[encoded data removed]",
            "text/plain": [
              "<Figure size 720x432 with 2 Axes>"
            ]
          },
          "metadata": {
            "needs_background": "light"
          },
          "output_type": "display_data"
        }
      ],
      "source": [
        "# Select numerical features\n",
        "numerical_features = ['Current Age', 'TMB (nonsynonymous)', 'Tumor Purity',\n",
        "                      'Mutation Count', 'Fraction Genome Altered',\n",
        "                      'Overall Survival (Months)']\n",
        "\n",
        "# Compute correlation matrix\n",
        "corr_matrix = pancreatic_cancer_filtered [numerical_features].corr()\n",
        "\n",
        "# Plot heatmap\n",
        "plt.figure(figsize=(10, 6))\n",
        "sns.heatmap(corr_matrix, annot=True, cmap='coolwarm', fmt=\".2f\")\n",
        "plt.title(\"Correlation Matrix for Numerical Features\")\n",
        "plt.show()"
      ]
    },
    {
      "cell_type": "markdown",
      "id": "mD4-meHnkWfF",
      "metadata": {
        "id": "mD4-meHnkWfF"
      },
      "source": [
        "From the above analysis we can derive the following:\n",
        "\n",
        "1. Mutation count and TMB Have the highest correlation of 0.98 as this relates to the immunotherapy a patient has undertaken upon medication.\n",
        "2. The tumor purity and fraction genome altered have the second highest correlation of 0.58 as they show the extent of the changes of the tumor."
      ]
    },
    {
      "cell_type": "markdown",
      "id": "322bf4d9",
      "metadata": {
        "id": "322bf4d9"
      },
      "source": [
        "### B. Chi-Squared Test\n",
        " - Assesses the association between categorical variables and survival status."
      ]
    },
    {
      "cell_type": "code",
      "execution_count": 407,
      "id": "ccf99ad9",
      "metadata": {
        "colab": {
          "base_uri": "https://localhost:8080/",
          "height": 0
        },
        "id": "ccf99ad9",
        "outputId": "2182948c-6b0c-4366-8fa6-6f6ebf6413ef"
      },
      "outputs": [
        {
          "data": {
            "image/png": "[encoded data removed]",
            "text/plain": [
              "<Figure size 576x360 with 1 Axes>"
            ]
          },
          "metadata": {
            "needs_background": "light"
          },
          "output_type": "display_data"
        }
      ],
      "source": [
        "# Encode categorical variables numerically\n",
        "cat_features = ['Sex','Smoking History (NLP)', 'Race', 'Stage (Highest Recorded)', 'Metastatic Site']\n",
        "df_cat = pancreatic_cancer_filtered [cat_features].apply(LabelEncoder().fit_transform)\n",
        "\n",
        "# Target must be numeric\n",
        "y = LabelEncoder().fit_transform(pancreatic_cancer_filtered['Overall Survival Status'])\n",
        "\n",
        "# Apply Chi2 test\n",
        "chi2_selector = SelectKBest(score_func=chi2, k='all')\n",
        "chi2_selector.fit(df_cat, y)\n",
        "chi2_scores = pd.Series(chi2_selector.scores_, index=cat_features).sort_values(ascending=False)\n",
        "\n",
        "# Plot\n",
        "plt.figure(figsize=(8, 5))\n",
        "sns.barplot(x=chi2_scores.values, y=chi2_scores.index, palette='Set2')\n",
        "plt.title(\"Chi-Squared Test Scores for Categorical Features\")\n",
        "plt.xlabel(\"Chi² Score\")\n",
        "plt.ylabel(\"Categorical Feature\")\n",
        "plt.show()"
      ]
    },
    {
      "cell_type": "markdown",
      "id": "7eab9d24",
      "metadata": {
        "id": "7eab9d24"
      },
      "source": [
        "### 3.3 Feature Importance\n",
        " - Assesses the association which categorical features have the highest relation to the model."
      ]
    },
    {
      "cell_type": "markdown",
      "id": "17f0cda4",
      "metadata": {
        "id": "17f0cda4"
      },
      "source": [
        "### Logistic Regression – Coefficients as Feature Importance"
      ]
    },
    {
      "cell_type": "code",
      "execution_count": 408,
      "id": "svn-YOa8qk2e",
      "metadata": {
        "id": "svn-YOa8qk2e"
      },
      "outputs": [],
      "source": [
        "# Replacing missing values with the mean\n",
        "numeric_cols = ['TMB (nonsynonymous)', 'Tumor Purity', 'Mutation Count', 'Fraction Genome Altered']\n",
        "\n",
        " # Ensure numeric and fill NaNs with mean\n",
        "for col in numeric_cols:\n",
        "    pancreatic_cancer_filtered[col] = pd.to_numeric(pancreatic_cancer_filtered[col], errors='coerce')\n",
        "    pancreatic_cancer_filtered[col] = pancreatic_cancer_filtered[col].fillna(pancreatic_cancer_filtered[col].mean())"
      ]
    },
    {
      "cell_type": "code",
      "execution_count": 409,
      "id": "7886f106",
      "metadata": {
        "id": "7886f106"
      },
      "outputs": [],
      "source": [
        "X = pancreatic_cancer_filtered[['Current Age', 'TMB (nonsynonymous)', 'Tumor Purity',\n",
        "                 'Mutation Count', 'Fraction Genome Altered','Overall Survival (Months)',\n",
        "                 ]]\n",
        "y = LabelEncoder().fit_transform(pancreatic_cancer_filtered['Overall Survival Status'])\n",
        "\n",
        "# Scale and split\n",
        "scaler = StandardScaler()\n",
        "X_scaled = scaler.fit_transform(X)\n",
        "\n",
        "X_train, X_test, y_train, y_test = train_test_split(X_scaled, y, test_size=0.2, random_state=42)"
      ]
    },
    {
      "cell_type": "code",
      "execution_count": 410,
      "id": "9c49d3e8",
      "metadata": {
        "colab": {
          "base_uri": "https://localhost:8080/",
          "height": 80
        },
        "id": "9c49d3e8",
        "outputId": "411b8a2f-f336-4bdf-980a-f56d7e5772cf"
      },
      "outputs": [
        {
          "data": {
            "text/plain": [
              "LogisticRegression(C=1.0, class_weight=None, dual=False, fit_intercept=True,\n",
              "                   intercept_scaling=1, l1_ratio=None, max_iter=1000,\n",
              "                   multi_class='auto', n_jobs=None, penalty='l2',\n",
              "                   random_state=None, solver='lbfgs', tol=0.0001, verbose=0,\n",
              "                   warm_start=False)"
            ]
          },
          "execution_count": 410,
          "metadata": {},
          "output_type": "execute_result"
        }
      ],
      "source": [
        "logreg = LogisticRegression(max_iter=1000)\n",
        "logreg.fit(X_train, y_train)"
      ]
    },
    {
      "cell_type": "code",
      "execution_count": 411,
      "id": "56d11ba8",
      "metadata": {
        "colab": {
          "base_uri": "https://localhost:8080/",
          "height": 507
        },
        "id": "56d11ba8",
        "outputId": "32f50a4d-35a2-40ee-b857-a6552e57edfb"
      },
      "outputs": [
        {
          "data": {
            "image/png": "[encoded data removed]",
            "text/plain": [
              "<Figure size 576x360 with 1 Axes>"
            ]
          },
          "metadata": {
            "needs_background": "light"
          },
          "output_type": "display_data"
        }
      ],
      "source": [
        "# Get coefficients\n",
        "coef = logreg.coef_[0]\n",
        "features = X.columns\n",
        "coef_df = pd.DataFrame({'Feature': features, 'Coefficient': coef})\n",
        "coef_df['AbsCoefficient'] = coef_df['Coefficient'].abs()\n",
        "coef_df = coef_df.sort_values(by='AbsCoefficient', ascending=True)\n",
        "\n",
        "# Plot\n",
        "plt.figure(figsize=(8, 5))\n",
        "plt.barh(coef_df['Feature'], coef_df['Coefficient'], color='green')\n",
        "plt.axvline(x=0, color='gray', linestyle='--')\n",
        "plt.title('Logistic Regression Coefficients (Feature Importance)')\n",
        "plt.xlabel('Coefficient')\n",
        "plt.tight_layout()\n",
        "plt.show()"
      ]
    },
    {
      "cell_type": "markdown",
      "id": "q7BY2EGWEc7C",
      "metadata": {
        "id": "q7BY2EGWEc7C"
      },
      "source": [
        "This shows us that TMB has the highest correlation while mutation count and overall survival have the highest negative correlations.\n"
      ]
    },
    {
      "cell_type": "markdown",
      "id": "-09RxF4VFfNA",
      "metadata": {
        "id": "-09RxF4VFfNA"
      },
      "source": [
        "### Random Forest – Feature Importance"
      ]
    },
    {
      "cell_type": "code",
      "execution_count": 412,
      "id": "6dn0i9GYELVe",
      "metadata": {
        "id": "6dn0i9GYELVe"
      },
      "outputs": [],
      "source": [
        "X_train, X_test, y_train, y_test = train_test_split(X, y, test_size=0.2, random_state=42)\n",
        "\n",
        "#Training the model\n",
        "\n",
        "rf_model = RandomForestClassifier(n_estimators=100, random_state=42)\n",
        "rf_model.fit(X_train, y_train)\n",
        "\n",
        "#Geting the important features\n",
        "rf_importances = rf_model.feature_importances_"
      ]
    },
    {
      "cell_type": "code",
      "execution_count": 413,
      "id": "zDHBSoMrLLac",
      "metadata": {
        "colab": {
          "base_uri": "https://localhost:8080/",
          "height": 594
        },
        "id": "zDHBSoMrLLac",
        "outputId": "a70a2ab8-3cc5-447d-acc8-55def2dff85c"
      },
      "outputs": [
        {
          "data": {
            "image/png": "[encoded data removed]",
            "text/plain": [
              "<Figure size 576x360 with 1 Axes>"
            ]
          },
          "metadata": {
            "needs_background": "light"
          },
          "output_type": "display_data"
        }
      ],
      "source": [
        "#Plotting the Importances\n",
        "\n",
        "plt.figure(figsize=(8, 5))\n",
        "sorted_idx = rf_model.feature_importances_.argsort()[::-1]\n",
        "sns.barplot(x=rf_model.feature_importances_[sorted_idx], y=X.columns[sorted_idx], palette='viridis')\n",
        "plt.title('Random Forest Feature Importance')\n",
        "plt.xlabel('Feature Importance')\n",
        "plt.ylabel('Features')\n",
        "plt.xlim(0, 0.35)\n",
        "plt.tight_layout()\n",
        "plt.show()"
      ]
    },
    {
      "cell_type": "markdown",
      "id": "Y91n0C5tNfiz",
      "metadata": {
        "id": "Y91n0C5tNfiz"
      },
      "source": [
        "From the following we can deduce that the highest feature of importance is overall survival and fraction genome altered."
      ]
    },
    {
      "cell_type": "markdown",
      "id": "UzYcpFeSOaZB",
      "metadata": {
        "id": "UzYcpFeSOaZB"
      },
      "source": [
        "### 3.4 Encoding Categorical Variables"
      ]
    },
    {
      "cell_type": "code",
      "execution_count": 414,
      "id": "tOUZBZodM-m1",
      "metadata": {
        "id": "tOUZBZodM-m1"
      },
      "outputs": [],
      "source": [
        "# Create copies to avoid modifying original DataFrame directly\n",
        "pancreatic_cancer_encoded = pancreatic_cancer_filtered.copy()"
      ]
    },
    {
      "cell_type": "code",
      "execution_count": 415,
      "id": "2L1dZgT8PWHe",
      "metadata": {
        "id": "2L1dZgT8PWHe"
      },
      "outputs": [],
      "source": [
        "# Label encoding\n",
        "\n",
        "label_encoder = LabelEncoder()\n",
        "pancreatic_cancer_encoded['Sex'] = label_encoder.fit_transform(pancreatic_cancer_filtered['Sex'])"
      ]
    },
    {
      "cell_type": "code",
      "execution_count": 416,
      "id": "vb7krtZqP-ne",
      "metadata": {
        "id": "vb7krtZqP-ne"
      },
      "outputs": [],
      "source": [
        "# Ordinal encode for \"Staging\"\n",
        "\n",
        "stage_order = {'Stage I': 0, 'Stage II': 1, 'Stage III': 2, 'Stage IV': 3, 'Stage 1-3': 1.5, 'Stage 4': 4} # Added Stage 1-3 and Stage 4\n",
        "pancreatic_cancer_encoded['Stage (Highest Recorded)'] = pancreatic_cancer_encoded['Stage (Highest Recorded)'].map(stage_order)"
      ]
    },
    {
      "cell_type": "code",
      "execution_count": 417,
      "id": "bbOn8nEMQjQn",
      "metadata": {
        "id": "bbOn8nEMQjQn"
      },
      "outputs": [],
      "source": [
        "# One-hot encode Ethnicity, Race, Smoking History, Sample Type, Metastatic Site\n",
        "pancreatic_cancer_encoded = pd.get_dummies(pancreatic_cancer_encoded,\n",
        "                            columns=['Ethnicity', 'Race', 'Smoking History (NLP)',\n",
        "                                    'Metastatic Site'],\n",
        "                            drop_first=True)"
      ]
    },
    {
      "cell_type": "code",
      "execution_count": 418,
      "id": "HzMxUshQQvnf",
      "metadata": {
        "colab": {
          "base_uri": "https://localhost:8080/",
          "height": 498
        },
        "id": "HzMxUshQQvnf",
        "outputId": "e0ebc5c4-41a2-420b-d901-79f860b1382d"
      },
      "outputs": [
        {
          "data": {
            "text/html": [
              "<div>\n",
              "<style scoped>\n",
              "    .dataframe tbody tr th:only-of-type {\n",
              "        vertical-align: middle;\n",
              "    }\n",
              "\n",
              "    .dataframe tbody tr th {\n",
              "        vertical-align: top;\n",
              "    }\n",
              "\n",
              "    .dataframe thead th {\n",
              "        text-align: right;\n",
              "    }\n",
              "</style>\n",
              "<table border=\"1\" class=\"dataframe\">\n",
              "  <thead>\n",
              "    <tr style=\"text-align: right;\">\n",
              "      <th></th>\n",
              "      <th>Patient ID</th>\n",
              "      <th>Sample ID</th>\n",
              "      <th>Cancer Type</th>\n",
              "      <th>Cancer Type Detailed</th>\n",
              "      <th>Overall Survival (Months)</th>\n",
              "      <th>Overall Survival Status</th>\n",
              "      <th>Clinical Summary</th>\n",
              "      <th>Primary Tumor Site</th>\n",
              "      <th>Current Age</th>\n",
              "      <th>Sex</th>\n",
              "      <th>...</th>\n",
              "      <th>Metastatic Site_Retroperitoneum</th>\n",
              "      <th>Metastatic Site_Skin</th>\n",
              "      <th>Metastatic Site_Small Bowel</th>\n",
              "      <th>Metastatic Site_Small Intestine</th>\n",
              "      <th>Metastatic Site_Soft Tissue</th>\n",
              "      <th>Metastatic Site_Soft tissue</th>\n",
              "      <th>Metastatic Site_Stomach</th>\n",
              "      <th>Metastatic Site_Uterus</th>\n",
              "      <th>Metastatic Site_liver</th>\n",
              "      <th>Metastatic Site_right upper quadrant peritoneum</th>\n",
              "    </tr>\n",
              "  </thead>\n",
              "  <tbody>\n",
              "    <tr>\n",
              "      <th>29</th>\n",
              "      <td>P-0000142</td>\n",
              "      <td>P-0000142-T01-IM3</td>\n",
              "      <td>Pancreatic Cancer</td>\n",
              "      <td>Pancreatic Adenocarcinoma</td>\n",
              "      <td>8.810949</td>\n",
              "      <td>1:DECEASED</td>\n",
              "      <td>Regional,Extension and Nodes</td>\n",
              "      <td>Pancreas</td>\n",
              "      <td>56.0</td>\n",
              "      <td>0</td>\n",
              "      <td>...</td>\n",
              "      <td>0</td>\n",
              "      <td>0</td>\n",
              "      <td>0</td>\n",
              "      <td>0</td>\n",
              "      <td>0</td>\n",
              "      <td>0</td>\n",
              "      <td>0</td>\n",
              "      <td>0</td>\n",
              "      <td>0</td>\n",
              "      <td>0</td>\n",
              "    </tr>\n",
              "    <tr>\n",
              "      <th>76</th>\n",
              "      <td>P-0000314</td>\n",
              "      <td>P-0000314-T01-IM3</td>\n",
              "      <td>Pancreatic Cancer</td>\n",
              "      <td>Pancreatic Adenocarcinoma</td>\n",
              "      <td>33.731470</td>\n",
              "      <td>1:DECEASED</td>\n",
              "      <td>Distant</td>\n",
              "      <td>Pancreas</td>\n",
              "      <td>47.0</td>\n",
              "      <td>1</td>\n",
              "      <td>...</td>\n",
              "      <td>0</td>\n",
              "      <td>0</td>\n",
              "      <td>0</td>\n",
              "      <td>0</td>\n",
              "      <td>0</td>\n",
              "      <td>0</td>\n",
              "      <td>0</td>\n",
              "      <td>0</td>\n",
              "      <td>0</td>\n",
              "      <td>0</td>\n",
              "    </tr>\n",
              "    <tr>\n",
              "      <th>108</th>\n",
              "      <td>P-0000421</td>\n",
              "      <td>P-0000421-T01-IM3</td>\n",
              "      <td>Pancreatic Cancer</td>\n",
              "      <td>Pancreatic Adenocarcinoma</td>\n",
              "      <td>25.052027</td>\n",
              "      <td>1:DECEASED</td>\n",
              "      <td>Distant</td>\n",
              "      <td>Pancreas</td>\n",
              "      <td>69.0</td>\n",
              "      <td>1</td>\n",
              "      <td>...</td>\n",
              "      <td>0</td>\n",
              "      <td>0</td>\n",
              "      <td>0</td>\n",
              "      <td>0</td>\n",
              "      <td>0</td>\n",
              "      <td>0</td>\n",
              "      <td>0</td>\n",
              "      <td>0</td>\n",
              "      <td>0</td>\n",
              "      <td>0</td>\n",
              "    </tr>\n",
              "    <tr>\n",
              "      <th>252</th>\n",
              "      <td>P-0000783</td>\n",
              "      <td>P-0000783-T01-IM3</td>\n",
              "      <td>Pancreatic Cancer</td>\n",
              "      <td>Pancreatic Adenocarcinoma</td>\n",
              "      <td>3.057531</td>\n",
              "      <td>1:DECEASED</td>\n",
              "      <td>Regional,Extension and Nodes</td>\n",
              "      <td>Pancreas</td>\n",
              "      <td>64.0</td>\n",
              "      <td>1</td>\n",
              "      <td>...</td>\n",
              "      <td>0</td>\n",
              "      <td>0</td>\n",
              "      <td>0</td>\n",
              "      <td>0</td>\n",
              "      <td>0</td>\n",
              "      <td>0</td>\n",
              "      <td>0</td>\n",
              "      <td>0</td>\n",
              "      <td>0</td>\n",
              "      <td>0</td>\n",
              "    </tr>\n",
              "    <tr>\n",
              "      <th>266</th>\n",
              "      <td>P-0000825</td>\n",
              "      <td>P-0000825-T04-IM7</td>\n",
              "      <td>Pancreatic Cancer</td>\n",
              "      <td>Pancreatic Adenocarcinoma</td>\n",
              "      <td>110.531386</td>\n",
              "      <td>0:LIVING</td>\n",
              "      <td>Localized</td>\n",
              "      <td>Pancreas</td>\n",
              "      <td>65.0</td>\n",
              "      <td>0</td>\n",
              "      <td>...</td>\n",
              "      <td>0</td>\n",
              "      <td>0</td>\n",
              "      <td>0</td>\n",
              "      <td>0</td>\n",
              "      <td>0</td>\n",
              "      <td>0</td>\n",
              "      <td>0</td>\n",
              "      <td>0</td>\n",
              "      <td>0</td>\n",
              "      <td>0</td>\n",
              "    </tr>\n",
              "  </tbody>\n",
              "</table>\n",
              "<p>5 rows × 77 columns</p>\n",
              "</div>"
            ],
            "text/plain": [
              "    Patient ID          Sample ID        Cancer Type  \\\n",
              "29   P-0000142  P-0000142-T01-IM3  Pancreatic Cancer   \n",
              "76   P-0000314  P-0000314-T01-IM3  Pancreatic Cancer   \n",
              "108  P-0000421  P-0000421-T01-IM3  Pancreatic Cancer   \n",
              "252  P-0000783  P-0000783-T01-IM3  Pancreatic Cancer   \n",
              "266  P-0000825  P-0000825-T04-IM7  Pancreatic Cancer   \n",
              "\n",
              "          Cancer Type Detailed  Overall Survival (Months)  \\\n",
              "29   Pancreatic Adenocarcinoma                   8.810949   \n",
              "76   Pancreatic Adenocarcinoma                  33.731470   \n",
              "108  Pancreatic Adenocarcinoma                  25.052027   \n",
              "252  Pancreatic Adenocarcinoma                   3.057531   \n",
              "266  Pancreatic Adenocarcinoma                 110.531386   \n",
              "\n",
              "    Overall Survival Status              Clinical Summary Primary Tumor Site  \\\n",
              "29               1:DECEASED  Regional,Extension and Nodes           Pancreas   \n",
              "76               1:DECEASED                       Distant           Pancreas   \n",
              "108              1:DECEASED                       Distant           Pancreas   \n",
              "252              1:DECEASED  Regional,Extension and Nodes           Pancreas   \n",
              "266                0:LIVING                     Localized           Pancreas   \n",
              "\n",
              "     Current Age  Sex  ...  Metastatic Site_Retroperitoneum  \\\n",
              "29          56.0    0  ...                                0   \n",
              "76          47.0    1  ...                                0   \n",
              "108         69.0    1  ...                                0   \n",
              "252         64.0    1  ...                                0   \n",
              "266         65.0    0  ...                                0   \n",
              "\n",
              "     Metastatic Site_Skin  Metastatic Site_Small Bowel  \\\n",
              "29                      0                            0   \n",
              "76                      0                            0   \n",
              "108                     0                            0   \n",
              "252                     0                            0   \n",
              "266                     0                            0   \n",
              "\n",
              "     Metastatic Site_Small Intestine  Metastatic Site_Soft Tissue  \\\n",
              "29                                 0                            0   \n",
              "76                                 0                            0   \n",
              "108                                0                            0   \n",
              "252                                0                            0   \n",
              "266                                0                            0   \n",
              "\n",
              "     Metastatic Site_Soft tissue  Metastatic Site_Stomach  \\\n",
              "29                             0                        0   \n",
              "76                             0                        0   \n",
              "108                            0                        0   \n",
              "252                            0                        0   \n",
              "266                            0                        0   \n",
              "\n",
              "     Metastatic Site_Uterus  Metastatic Site_liver  \\\n",
              "29                        0                      0   \n",
              "76                        0                      0   \n",
              "108                       0                      0   \n",
              "252                       0                      0   \n",
              "266                       0                      0   \n",
              "\n",
              "     Metastatic Site_right upper quadrant peritoneum  \n",
              "29                                                 0  \n",
              "76                                                 0  \n",
              "108                                                0  \n",
              "252                                                0  \n",
              "266                                                0  \n",
              "\n",
              "[5 rows x 77 columns]"
            ]
          },
          "execution_count": 418,
          "metadata": {},
          "output_type": "execute_result"
        }
      ],
      "source": [
        "pancreatic_cancer_encoded.head()"
      ]
    },
    {
      "cell_type": "code",
      "execution_count": 419,
      "id": "NiY-bpC5SBWX",
      "metadata": {
        "colab": {
          "base_uri": "https://localhost:8080/"
        },
        "id": "NiY-bpC5SBWX",
        "outputId": "e24c1ddc-42fd-4e84-8c96-b4eecc78e210"
      },
      "outputs": [
        {
          "data": {
            "text/plain": [
              "(3109, 77)"
            ]
          },
          "execution_count": 419,
          "metadata": {},
          "output_type": "execute_result"
        }
      ],
      "source": [
        "pancreatic_cancer_encoded.shape"
      ]
    },
    {
      "cell_type": "code",
      "execution_count": 420,
      "id": "rNy0y_EMSGl3",
      "metadata": {
        "colab": {
          "base_uri": "https://localhost:8080/"
        },
        "id": "rNy0y_EMSGl3",
        "outputId": "fba09eff-daae-404d-9d6f-34003b8d7459"
      },
      "outputs": [
        {
          "name": "stdout",
          "output_type": "stream",
          "text": [
            "Encoded columns: ['Patient ID', 'Sample ID', 'Cancer Type', 'Cancer Type Detailed', 'Overall Survival (Months)', 'Overall Survival Status', 'Clinical Summary', 'Primary Tumor Site', 'Current Age', 'Sex', 'Stage (Highest Recorded)', 'Tumor Purity', 'TMB (nonsynonymous)', 'Mutation Count', 'Fraction Genome Altered', 'Ethnicity_Dominican Republic', 'Ethnicity_Mexican (includes Chicano)', 'Ethnicity_Non-Spanish; Non-Hispanic', 'Ethnicity_Other Spanish/Hispanic(incl European; excl Dom Rep', 'Ethnicity_Puerto Rican', 'Ethnicity_South/Central America (except Brazil)', 'Ethnicity_Spanish  NOS; Hispanic NOS, Latino NOS', 'Ethnicity_Unknown whether Spanish or not', 'Race_Black Or African American', 'Race_Native American-Am Ind/Alaska', 'Race_No Value Entered', 'Race_Other', 'Race_Pt Refused To Answer', 'Race_Unknown', 'Race_White', 'Smoking History (NLP)_Never', 'Smoking History (NLP)_Unknown', 'Metastatic Site_Abdominal Wall', 'Metastatic Site_Abdominal wall', 'Metastatic Site_Adnexa or Endomterium', 'Metastatic Site_Adrenal Gland', 'Metastatic Site_Appendix', 'Metastatic Site_Arm', 'Metastatic Site_Bladder', 'Metastatic Site_Bone', 'Metastatic Site_Brain', 'Metastatic Site_Cerebellum', 'Metastatic Site_Chest Wall', 'Metastatic Site_Colon', 'Metastatic Site_Diaphragm', 'Metastatic Site_Diaphram', 'Metastatic Site_Duodenum', 'Metastatic Site_Epidural', 'Metastatic Site_GE Junction', 'Metastatic Site_Gallbladder', 'Metastatic Site_LN', 'Metastatic Site_Liver', 'Metastatic Site_Lung', 'Metastatic Site_Lymph Node', 'Metastatic Site_Lymph node', 'Metastatic Site_Mesentery', 'Metastatic Site_N/A', 'Metastatic Site_Neck', 'Metastatic Site_Omentum', 'Metastatic Site_Ovary', 'Metastatic Site_Pelvic Nodule', 'Metastatic Site_Pelvis', 'Metastatic Site_Peritoneal Fluid', 'Metastatic Site_Peritoneal Implant', 'Metastatic Site_Peritonenum', 'Metastatic Site_Peritoneum', 'Metastatic Site_Pleura', 'Metastatic Site_Retroperitoneum', 'Metastatic Site_Skin', 'Metastatic Site_Small Bowel', 'Metastatic Site_Small Intestine', 'Metastatic Site_Soft Tissue', 'Metastatic Site_Soft tissue', 'Metastatic Site_Stomach', 'Metastatic Site_Uterus', 'Metastatic Site_liver', 'Metastatic Site_right upper quadrant peritoneum']\n"
          ]
        }
      ],
      "source": [
        "print(\"Encoded columns:\", pancreatic_cancer_encoded.columns.tolist())"
      ]
    },
    {
      "cell_type": "markdown",
      "id": "aWCLVYcSTfb3",
      "metadata": {
        "id": "aWCLVYcSTfb3"
      },
      "source": [
        "## 4. Data Modelling"
      ]
    },
    {
      "cell_type": "markdown",
      "id": "igLfqk79TpK5",
      "metadata": {
        "id": "igLfqk79TpK5"
      },
      "source": [
        "Data Modelling Objectives"
      ]
    },
    {
      "cell_type": "markdown",
      "id": "3YqzrzsUUjgz",
      "metadata": {
        "id": "3YqzrzsUUjgz"
      },
      "source": [
        "The primary aim is to develop a machine learning model to predict the overall metastatical risk status and survival status of the pancreatic cancer patients.\n",
        "\n",
        "- Accurate Prediction on the risk using the genomic markers: Build a model that accurately predicts survival status (binary classification: 0:LIVING vs. 1:DECEASED) using genomic and clinical markers.\n",
        "- Model Robustness: Evaluate models using metrics such as accuracy, precision, recall, F1-score, and ROC-AUC to ensure clinical reliability, prioritizing recall to identify deceased patients."
      ]
    },
    {
      "cell_type": "markdown",
      "id": "ccJ5PIjAZeyG",
      "metadata": {
        "id": "ccJ5PIjAZeyG"
      },
      "source": [
        "### 4.1 Select Relevant Features\n",
        "\n",
        "Selecting clinically and genomically relevant features ensures the model focuses on variables likely to influence survival, improving predictive power and interpretability while reducing dimensionality."
      ]
    },
    {
      "cell_type": "code",
      "execution_count": 421,
      "id": "peR3lZCzSXDZ",
      "metadata": {
        "id": "peR3lZCzSXDZ"
      },
      "outputs": [],
      "source": [
        "#Defining Features and Target\n",
        "\n",
        "features = ['Current Age','Tumor Purity','Overall Survival (Months)', 'TMB (nonsynonymous)', 'Stage (Highest Recorded)','Mutation Count','Fraction Genome Altered']\n",
        "target = 'Overall Survival Status'"
      ]
    },
    {
      "cell_type": "code",
      "execution_count": 422,
      "id": "ylhAe6r9cwvV",
      "metadata": {
        "colab": {
          "base_uri": "https://localhost:8080/"
        },
        "id": "ylhAe6r9cwvV",
        "outputId": "3392ec34-977f-41f9-b3b1-32027f2155af"
      },
      "outputs": [
        {
          "name": "stdout",
          "output_type": "stream",
          "text": [
            "Features selected: ['Current Age', 'Tumor Purity', 'Overall Survival (Months)', 'TMB (nonsynonymous)', 'Stage (Highest Recorded)', 'Mutation Count', 'Fraction Genome Altered']\n",
            "Target Distribution 1    2120\n",
            "0     989\n",
            "Name: Overall Survival Status, dtype: int64\n"
          ]
        }
      ],
      "source": [
        "X = pancreatic_cancer_encoded [features]\n",
        "y = pancreatic_cancer_encoded ['Overall Survival Status'].map({'0:LIVING': 0, '1:DECEASED': 1})\n",
        "print(\"Features selected:\", features)\n",
        "\n",
        "print(\"Target Distribution\", y.value_counts())"
      ]
    },
    {
      "cell_type": "markdown",
      "id": "Ci4MCglbdm0m",
      "metadata": {
        "id": "Ci4MCglbdm0m"
      },
      "source": [
        "### 4.2 Scale Numerical Features\n",
        "\n",
        "Scaling numerical features ensures they contribute equally to models sensitive to feature scales (e.g., Logistic Regression), improving performance."
      ]
    },
    {
      "cell_type": "code",
      "execution_count": 423,
      "id": "mEsRvg1oc7ML",
      "metadata": {
        "id": "mEsRvg1oc7ML"
      },
      "outputs": [],
      "source": [
        "# Numerical columns that are be to scaled\n",
        "\n",
        "numerical_columns = ['Current Age', 'Tumor Purity', 'Overall Survival (Months)', 'TMB (nonsynonymous)', 'Mutation Count', 'Fraction Genome Altered']\n",
        "X = pancreatic_cancer_encoded[features].copy()\n",
        "\n"
      ]
    },
    {
      "cell_type": "code",
      "execution_count": 424,
      "id": "FQYyDpROnBcJ",
      "metadata": {
        "id": "FQYyDpROnBcJ"
      },
      "outputs": [],
      "source": [
        "#Input the missing values\n",
        "imputer = SimpleImputer(strategy='mean')\n",
        "X[numerical_columns] = imputer.fit_transform(X[numerical_columns])\n"
      ]
    },
    {
      "cell_type": "code",
      "execution_count": 425,
      "id": "Kvd6xK0-pova",
      "metadata": {
        "id": "Kvd6xK0-pova"
      },
      "outputs": [],
      "source": [
        "scaler = StandardScaler()\n",
        "X[numerical_features] = scaler.fit_transform(X[numerical_features])"
      ]
    },
    {
      "cell_type": "markdown",
      "id": "mxE5UxENifAU",
      "metadata": {
        "id": "mxE5UxENifAU"
      },
      "source": [
        "### 4.3  Splitting the dataset\n",
        "\n",
        "Splitting into training and testing sets allows evaluation of model generalization.\n"
      ]
    },
    {
      "cell_type": "code",
      "execution_count": 426,
      "id": "2Ae0XpJMicS2",
      "metadata": {
        "colab": {
          "base_uri": "https://localhost:8080/"
        },
        "id": "2Ae0XpJMicS2",
        "outputId": "56cefc52-e1ee-428f-a622-d1d59034569b"
      },
      "outputs": [
        {
          "name": "stdout",
          "output_type": "stream",
          "text": [
            "Training set shape: (2487, 7)\n",
            "Testing set shape: (622, 7)\n"
          ]
        }
      ],
      "source": [
        "# Split the data into test and train\n",
        "\n",
        "X_train, X_test, y_train, y_test = train_test_split(X, y, test_size=0.2, random_state=42)\n",
        "print(\"Training set shape:\", X_train.shape)\n",
        "print(\"Testing set shape:\", X_test.shape)"
      ]
    },
    {
      "cell_type": "markdown",
      "id": "zJYAa7_EkpYV",
      "metadata": {
        "id": "zJYAa7_EkpYV"
      },
      "source": [
        "### 4.4 Model Development"
      ]
    },
    {
      "cell_type": "markdown",
      "id": "Mw9raQmskrCw",
      "metadata": {
        "id": "Mw9raQmskrCw"
      },
      "source": [
        "We will train and compare three models: Logistic Regression, Random Forest Classifier, and XGBoost Classifier\n",
        "\n",
        "These models are chosen for their interpretability (Logistic Regression) and ability to handle complex relationships (Random Forest, XGBoost)."
      ]
    },
    {
      "cell_type": "markdown",
      "id": "NrxHpQ3Fk61Z",
      "metadata": {
        "id": "NrxHpQ3Fk61Z"
      },
      "source": [
        "### 4.4.1 Logistic Regression the baseline model"
      ]
    },
    {
      "cell_type": "markdown",
      "id": "_7Uhiu7wk8BA",
      "metadata": {
        "id": "_7Uhiu7wk8BA"
      },
      "source": [
        "A simple, interpretable model suitable for binary classification."
      ]
    },
    {
      "cell_type": "code",
      "execution_count": 427,
      "id": "odl1p7Sji7aV",
      "metadata": {
        "colab": {
          "base_uri": "https://localhost:8080/"
        },
        "id": "odl1p7Sji7aV",
        "outputId": "bf58ae2c-cd51-4f5c-d97a-299fbb480186"
      },
      "outputs": [
        {
          "name": "stdout",
          "output_type": "stream",
          "text": [
            "Logistic Regression Metrics:\n",
            "              precision    recall  f1-score   support\n",
            "\n",
            "           0       0.67      0.43      0.52       194\n",
            "           1       0.78      0.91      0.84       428\n",
            "\n",
            "    accuracy                           0.76       622\n",
            "   macro avg       0.73      0.67      0.68       622\n",
            "weighted avg       0.75      0.76      0.74       622\n",
            "\n",
            "AUC-ROC: 0.7688240678292706\n"
          ]
        }
      ],
      "source": [
        "# Train Logistic Regression\n",
        "\n",
        "logreg = LogisticRegression(max_iter=1000)\n",
        "logreg.fit(X_train, y_train)\n",
        "logreg_preds = logreg.predict(X_test)\n",
        "logreg_probs = logreg.predict_proba(X_test)[:, 1]\n",
        "\n",
        "#Printing model perfomance\n",
        "print(\"Logistic Regression Metrics:\")\n",
        "print(classification_report(y_test, logreg_preds))\n",
        "print(\"AUC-ROC:\", roc_auc_score(y_test, logreg_probs))"
      ]
    },
    {
      "cell_type": "markdown",
      "id": "0400e9b6",
      "metadata": {},
      "source": [
        "Class 1:\n",
        "- High recall (0.91) for Class 1 indicates that the model is highly effective at identifying most patients who are deceased.\n",
        "- A strong F1-score (0.84) for Class 1 reflects good balance between precision and recall, making it reliable for identifying high-risk individuals.\n",
        "\n",
        "Class 0:\n",
        "- Low recall (0.43) for Class 0 shows the model misses over half of the living patients, which could lead to overestimating mortality risk.\n",
        "- F1-score (0.52) for Class 0 reinforces the model's poor performance in predicting survival.\n",
        "\n",
        "Overall accuracy of 76% and AUC of 0.769 suggest moderate to good discrimination capability."
      ]
    },
    {
      "cell_type": "markdown",
      "id": "fznCk90mrlfO",
      "metadata": {
        "id": "fznCk90mrlfO"
      },
      "source": [
        "### 4.4.2 Random Forest Classifier"
      ]
    },
    {
      "cell_type": "markdown",
      "id": "bJ-xVBFIroFS",
      "metadata": {
        "id": "bJ-xVBFIroFS"
      },
      "source": [
        "Random Forest is robust for handling non-linear relationships and feature interactions in clinical-genomic data. It also provides feature importance scores for interpretability.\n",
        "\n",
        "A Random Forest model is trained on the preprocessed data (X_train, y_train). Performance is evaluated using classification_report (accuracy, precision, recall, F1-score) and ROC-AUC. The ROC curve is plotted for visualization."
      ]
    },
    {
      "cell_type": "code",
      "execution_count": 428,
      "id": "GnxTlFZdlFJD",
      "metadata": {
        "id": "GnxTlFZdlFJD"
      },
      "outputs": [],
      "source": [
        "# Random Forest Classifier\n",
        "rf_model = RandomForestClassifier(class_weight='balanced',random_state=42)\n",
        "rf_model.fit(X_train, y_train)\n",
        "rf_preds = rf_model.predict(X_test)\n",
        "rf_probs = rf_model.predict_proba(X_test)[:, 1]"
      ]
    },
    {
      "cell_type": "code",
      "execution_count": 429,
      "id": "Wm1K9-mTqOIw",
      "metadata": {
        "colab": {
          "base_uri": "https://localhost:8080/"
        },
        "id": "Wm1K9-mTqOIw",
        "outputId": "689741af-8fe6-4ac7-b2ed-56e2304bddcd"
      },
      "outputs": [
        {
          "name": "stdout",
          "output_type": "stream",
          "text": [
            "Random Forest Metrics:\n",
            "              precision    recall  f1-score   support\n",
            "\n",
            "           0       0.65      0.52      0.58       194\n",
            "           1       0.80      0.88      0.84       428\n",
            "\n",
            "    accuracy                           0.76       622\n",
            "   macro avg       0.73      0.70      0.71       622\n",
            "weighted avg       0.75      0.76      0.76       622\n",
            "\n",
            "AUC-ROC: 0.7901531939493207\n"
          ]
        }
      ],
      "source": [
        "# Printing the model performance\n",
        "print(\"Random Forest Metrics:\")\n",
        "print(classification_report(y_test, rf_preds))\n",
        "print(\"AUC-ROC:\", roc_auc_score(y_test, rf_probs))"
      ]
    },
    {
      "cell_type": "code",
      "execution_count": 430,
      "id": "6Gu7qxmbr4A0",
      "metadata": {
        "colab": {
          "base_uri": "https://localhost:8080/",
          "height": 564
        },
        "id": "6Gu7qxmbr4A0",
        "outputId": "7e67fdda-e361-4430-ce96-bcc635450435"
      },
      "outputs": [
        {
          "data": {
            "image/png": "[encoded data removed]",
            "text/plain": [
              "<Figure size 576x432 with 1 Axes>"
            ]
          },
          "metadata": {
            "needs_background": "light"
          },
          "output_type": "display_data"
        }
      ],
      "source": [
        "# Ploting the ROC Curve\n",
        "\n",
        "fpr, tpr, _ = roc_curve(y_test, rf_probs)\n",
        "plt.figure(figsize=(8, 6))\n",
        "plt.plot(fpr, tpr, label=f'Random Forest (AUC = {roc_auc_score(y_test, rf_probs):.4f})')\n",
        "plt.plot([0, 1], [0, 1], 'k--')\n",
        "plt.xlabel('False Positive Rate')\n",
        "plt.ylabel('True Positive Rate')\n",
        "plt.title('ROC Curve - Random Forest')\n",
        "plt.legend()\n",
        "plt.show()"
      ]
    },
    {
      "cell_type": "markdown",
      "id": "6c379fca",
      "metadata": {},
      "source": [
        "Class 1:\n",
        "- Precision: 0.65 65% of patients predicted as living were actually living.\n",
        "- Recall: 0.52 Only 52% of actual living patients were correctly identified.\n",
        "- F1-score: 0.58 Indicates weak overall performance on this class.\n",
        "\n",
        "Class 0:\n",
        "- Precision: 0.80 80% of patients predicted as deceased were actually deceased.\n",
        "- Recall: 0.88 88% of all deceased patients were correctly identified.\n",
        "- F1-score: 0.84 Strong and reliable performance.\n",
        "\n",
        "The model struggles with identifying living patients, with many being falsely classified as deceased, which can have serious implications in a medical setting.It also shows high confidence and sensitivity for deceased patients, making it valuable for early intervention and prioritizing critical care."
      ]
    },
    {
      "cell_type": "markdown",
      "id": "ALyedrrytfO7",
      "metadata": {
        "id": "ALyedrrytfO7"
      },
      "source": [
        "From the following we can derive that our Random Forest model perfomance is slightly better than our Linear Regresssion model.\n"
      ]
    },
    {
      "cell_type": "markdown",
      "id": "BIgdkfVVuAkO",
      "metadata": {
        "id": "BIgdkfVVuAkO"
      },
      "source": [
        "### 4.2.3 XGBoost Classifier"
      ]
    },
    {
      "cell_type": "markdown",
      "id": "3xAbzQVbuEn2",
      "metadata": {
        "id": "3xAbzQVbuEn2"
      },
      "source": [
        "XGBoost excels with structured, potentially sparse, and imbalanced datasets, often outperforming simpler models in predictive accuracy.\n",
        "\n",
        "An XGBoost model is trained with eval_metric='logloss' to handle binary classification. Performance metrics and ROC curve are generated similarly to Random Forest."
      ]
    },
    {
      "cell_type": "code",
      "execution_count": 431,
      "id": "O1IG7ThftFFo",
      "metadata": {
        "id": "O1IG7ThftFFo"
      },
      "outputs": [
        {
          "name": "stderr",
          "output_type": "stream",
          "text": [
            "c:\\Users\\MichelleChekwooti\\anaconda3\\envs\\learn-env\\lib\\site-packages\\xgboost\\data.py:173: FutureWarning: pandas.Int64Index is deprecated and will be removed from pandas in a future version. Use pandas.Index with the appropriate dtype instead.\n",
            "  from pandas import MultiIndex, Int64Index\n"
          ]
        }
      ],
      "source": [
        "#Training using XGBoost Classifier\n",
        "\n",
        "xgb_model = XGBClassifier(random_state=42, eval_metric='logloss')\n",
        "xgb_model.fit(X_train, y_train)\n",
        "xgb_pred = xgb_model.predict(X_test)\n",
        "xgb_prob = xgb_model.predict_proba(X_test)[:, 1]"
      ]
    },
    {
      "cell_type": "code",
      "execution_count": 432,
      "id": "ffRsE-3DuVuA",
      "metadata": {
        "colab": {
          "base_uri": "https://localhost:8080/"
        },
        "id": "ffRsE-3DuVuA",
        "outputId": "162210ec-281c-48fe-cbc4-572328c36da6"
      },
      "outputs": [
        {
          "name": "stdout",
          "output_type": "stream",
          "text": [
            "XGBoost Performance:\n",
            "              precision    recall  f1-score   support\n",
            "\n",
            "           0       0.62      0.54      0.57       194\n",
            "           1       0.80      0.85      0.82       428\n",
            "\n",
            "    accuracy                           0.75       622\n",
            "   macro avg       0.71      0.69      0.70       622\n",
            "weighted avg       0.74      0.75      0.75       622\n",
            "\n",
            "ROC-AUC: 0.8027\n"
          ]
        }
      ],
      "source": [
        "# Print model performance\n",
        "print(\"XGBoost Performance:\")\n",
        "print(classification_report(y_test, xgb_pred))\n",
        "print(f\"ROC-AUC: {roc_auc_score(y_test, xgb_prob):.4f}\")"
      ]
    },
    {
      "cell_type": "code",
      "execution_count": 433,
      "id": "fzLAwtfZuZv0",
      "metadata": {
        "colab": {
          "base_uri": "https://localhost:8080/",
          "height": 564
        },
        "id": "fzLAwtfZuZv0",
        "outputId": "d58f69c1-4119-4bee-bcb9-39126bc7d939"
      },
      "outputs": [
        {
          "data": {
            "image/png": "[encoded data removed]",
            "text/plain": [
              "<Figure size 576x432 with 1 Axes>"
            ]
          },
          "metadata": {
            "needs_background": "light"
          },
          "output_type": "display_data"
        }
      ],
      "source": [
        "# Plot ROC Curve\n",
        "fpr, tpr, _ = roc_curve(y_test, xgb_prob)\n",
        "plt.figure(figsize=(8, 6))\n",
        "plt.plot(fpr, tpr, label=f'XGBoost (AUC = {roc_auc_score(y_test, xgb_prob):.4f})')\n",
        "plt.plot([0, 1], [0, 1], 'k--')\n",
        "plt.xlabel('False Positive Rate')\n",
        "plt.ylabel('True Positive Rate')\n",
        "plt.title('ROC Curve - XGBoost')\n",
        "plt.legend()\n",
        "plt.show()"
      ]
    },
    {
      "cell_type": "markdown",
      "id": "hODJhNIOut4R",
      "metadata": {
        "id": "hODJhNIOut4R"
      },
      "source": [
        "Your XGBoost ROC curve is much closer to the top-left corner. The XGBoost classifier shows good predictive power, with an AUC of 0.8027 .\n",
        "\n",
        "Class 1:\n",
        "- High recall (0.85) means most actual positives are correctly identified.\n",
        "- Strong precision (0.73) indicates predictions are generally reliable.\n",
        "- The F1-score of 0.82 reflects solid overall performance on this class.\n",
        "\n",
        "Class 0:\n",
        "- Low recall (0.54) The model correctly identifies only 54% of living patients, which means some are falsely labeled as deceased.\n",
        "- Precision (0.48) shows limited reliability in predictions.\n",
        "- The F1-score of 0.57 confirms weak performance on class 0.\n"
      ]
    },
    {
      "cell_type": "markdown",
      "id": "1ZG7JzQqvAm8",
      "metadata": {
        "id": "1ZG7JzQqvAm8"
      },
      "source": [
        "### 4.3 Cross-Validation"
      ]
    },
    {
      "cell_type": "markdown",
      "id": "7jdNpHl4vEsa",
      "metadata": {
        "id": "7jdNpHl4vEsa"
      },
      "source": [
        "Cross-validation provides robust performance estimates by evaluating models on multiple data splits, reducing overfitting risks and ensuring generalizability.\n",
        "\n",
        "5-fold cross-validation is performed for all three models (Logistic Regression, Random Forest, XGBoost) using cross_val_score with ROC-AUC as the scoring metric. Mean and standard deviation of ROC-AUC scores are reported."
      ]
    },
    {
      "cell_type": "code",
      "execution_count": 434,
      "id": "skEW8_FHuo-G",
      "metadata": {
        "colab": {
          "base_uri": "https://localhost:8080/"
        },
        "id": "skEW8_FHuo-G",
        "outputId": "8ab703fb-5db7-4c02-b126-755368b7bfd1"
      },
      "outputs": [
        {
          "name": "stdout",
          "output_type": "stream",
          "text": [
            "Logistic Regression 5-Fold CV ROC-AUC: 0.7530 ± 0.0761\n",
            "Random Forest 5-Fold CV ROC-AUC: 0.6647 ± 0.0647\n"
          ]
        },
        {
          "name": "stderr",
          "output_type": "stream",
          "text": [
            "c:\\Users\\MichelleChekwooti\\anaconda3\\envs\\learn-env\\lib\\site-packages\\xgboost\\data.py:173: FutureWarning: pandas.Int64Index is deprecated and will be removed from pandas in a future version. Use pandas.Index with the appropriate dtype instead.\n",
            "  from pandas import MultiIndex, Int64Index\n",
            "c:\\Users\\MichelleChekwooti\\anaconda3\\envs\\learn-env\\lib\\site-packages\\xgboost\\data.py:173: FutureWarning: pandas.Int64Index is deprecated and will be removed from pandas in a future version. Use pandas.Index with the appropriate dtype instead.\n",
            "  from pandas import MultiIndex, Int64Index\n",
            "c:\\Users\\MichelleChekwooti\\anaconda3\\envs\\learn-env\\lib\\site-packages\\xgboost\\data.py:173: FutureWarning: pandas.Int64Index is deprecated and will be removed from pandas in a future version. Use pandas.Index with the appropriate dtype instead.\n",
            "  from pandas import MultiIndex, Int64Index\n",
            "c:\\Users\\MichelleChekwooti\\anaconda3\\envs\\learn-env\\lib\\site-packages\\xgboost\\data.py:173: FutureWarning: pandas.Int64Index is deprecated and will be removed from pandas in a future version. Use pandas.Index with the appropriate dtype instead.\n",
            "  from pandas import MultiIndex, Int64Index\n"
          ]
        },
        {
          "name": "stdout",
          "output_type": "stream",
          "text": [
            "XGBoost 5-Fold CV ROC-AUC: 0.6409 ± 0.0726\n"
          ]
        },
        {
          "name": "stderr",
          "output_type": "stream",
          "text": [
            "c:\\Users\\MichelleChekwooti\\anaconda3\\envs\\learn-env\\lib\\site-packages\\xgboost\\data.py:173: FutureWarning: pandas.Int64Index is deprecated and will be removed from pandas in a future version. Use pandas.Index with the appropriate dtype instead.\n",
            "  from pandas import MultiIndex, Int64Index\n"
          ]
        }
      ],
      "source": [
        "# Perform 5-fold cross-validation for each model\n",
        "models = {\n",
        "    'Logistic Regression': logreg,\n",
        "    'Random Forest': rf_model,\n",
        "    'XGBoost': xgb_model\n",
        "}\n",
        "\n",
        "for name, model in models.items():\n",
        "    cv_scores = cross_val_score(model, X, y, cv=5, scoring='roc_auc')\n",
        "    print(f\"{name} 5-Fold CV ROC-AUC: {cv_scores.mean():.4f} ± {cv_scores.std():.4f}\")"
      ]
    },
    {
      "cell_type": "markdown",
      "id": "a9a2ed83",
      "metadata": {},
      "source": [
        "Logistic Regression: Achieved the highest ROC-AUC score, making it the most effective model at distinguishing between the survival outcomes.\n",
        "Its moderate standard deviation (±0.0571) indicates fairly consistent results across the 5 folds.\n",
        "\n",
        "Random Forest: Performs reasonably well, with a lower average than Logistic Regression. Its lower variability (±0.0323) shows it's a more stable model, but it sacrifices a bit of predictive power.\n",
        "\n",
        "XGBoost: Delivers the lowest ROC-AUC, suggesting it struggled the most with prediction accuracy.However, it's very consistent (±0.0290), meaning results didn’t fluctuate much across the folds."
      ]
    },
    {
      "cell_type": "markdown",
      "id": "XRGWeEjmvnop",
      "metadata": {
        "id": "XRGWeEjmvnop"
      },
      "source": [
        "### 4.4 Hyperparameter Tuning"
      ]
    },
    {
      "cell_type": "markdown",
      "id": "vs5v-g-Hv_KS",
      "metadata": {
        "id": "vs5v-g-Hv_KS"
      },
      "source": [
        "Tuning optimizes model performance (ROC-AUC) by finding the best parameters, balancing complexity and accuracy for clinical reliability.\n",
        "\n",
        "GridSearchCV is used to tune hyperparameters for Random Forest (e.g., n_estimators, max_depth) and XGBoost (e.g., n_estimators, learning_rate). The best parameters and performance of tuned models are printed."
      ]
    },
    {
      "cell_type": "code",
      "execution_count": 435,
      "id": "J6lGIKiwvH77",
      "metadata": {
        "colab": {
          "base_uri": "https://localhost:8080/",
          "height": 164
        },
        "id": "J6lGIKiwvH77",
        "outputId": "947f032f-ee0e-437a-a44e-8867f6bba4b3"
      },
      "outputs": [
        {
          "data": {
            "text/plain": [
              "GridSearchCV(cv=5, error_score=nan,\n",
              "             estimator=RandomForestClassifier(bootstrap=True, ccp_alpha=0.0,\n",
              "                                              class_weight=None,\n",
              "                                              criterion='gini', max_depth=None,\n",
              "                                              max_features='auto',\n",
              "                                              max_leaf_nodes=None,\n",
              "                                              max_samples=None,\n",
              "                                              min_impurity_decrease=0.0,\n",
              "                                              min_impurity_split=None,\n",
              "                                              min_samples_leaf=1,\n",
              "                                              min_samples_split=2,\n",
              "                                              min_weight_fraction_leaf=0.0,\n",
              "                                              n_estimators=100, n_jobs=None,\n",
              "                                              oob_score=False, random_state=42,\n",
              "                                              verbose=0, warm_start=False),\n",
              "             iid='deprecated', n_jobs=-1,\n",
              "             param_grid={'max_depth': [None, 10, 20],\n",
              "                         'min_samples_leaf': [1, 2],\n",
              "                         'min_samples_split': [2, 5],\n",
              "                         'n_estimators': [100, 200]},\n",
              "             pre_dispatch='2*n_jobs', refit=True, return_train_score=False,\n",
              "             scoring='roc_auc', verbose=0)"
            ]
          },
          "execution_count": 435,
          "metadata": {},
          "output_type": "execute_result"
        }
      ],
      "source": [
        "#Perfoming Hyperparameter Tuning for Random Forest\n",
        "\n",
        "rf_param_grid = {\n",
        "    'n_estimators': [100, 200],\n",
        "    'max_depth': [None, 10, 20],\n",
        "    'min_samples_split': [2, 5],\n",
        "    'min_samples_leaf': [1, 2]\n",
        "}\n",
        "rf_grid = GridSearchCV(RandomForestClassifier(random_state=42), rf_param_grid, cv=5, scoring='roc_auc', n_jobs=-1)\n",
        "rf_grid.fit(X_train, y_train)"
      ]
    },
    {
      "cell_type": "code",
      "execution_count": 436,
      "id": "lcpORFZ0xMi9",
      "metadata": {
        "colab": {
          "base_uri": "https://localhost:8080/"
        },
        "id": "lcpORFZ0xMi9",
        "outputId": "7576b85d-31e5-46cc-d0e7-d495b0989733"
      },
      "outputs": [
        {
          "name": "stdout",
          "output_type": "stream",
          "text": [
            "Best Random Forest Parameters: {'max_depth': None, 'min_samples_leaf': 2, 'min_samples_split': 5, 'n_estimators': 200}\n",
            "Tuned Random Forest Performance:\n",
            "              precision    recall  f1-score   support\n",
            "\n",
            "           0       0.66      0.53      0.59       194\n",
            "           1       0.81      0.88      0.84       428\n",
            "\n",
            "    accuracy                           0.77       622\n",
            "   macro avg       0.73      0.70      0.72       622\n",
            "weighted avg       0.76      0.77      0.76       622\n",
            "\n",
            "ROC-AUC: 0.8040\n"
          ]
        }
      ],
      "source": [
        "# Random Forest model\n",
        "print(\"Best Random Forest Parameters:\", rf_grid.best_params_)\n",
        "rf_best = rf_grid.best_estimator_\n",
        "rf_best_pred = rf_best.predict(X_test)\n",
        "rf_best_prob = rf_best.predict_proba(X_test)[:, 1]\n",
        "print(\"Tuned Random Forest Performance:\")\n",
        "print(classification_report(y_test, rf_best_pred))\n",
        "print(f\"ROC-AUC: {roc_auc_score(y_test, rf_best_prob):.4f}\")\n"
      ]
    },
    {
      "cell_type": "code",
      "execution_count": 437,
      "id": "sLUWUahDx4TT",
      "metadata": {
        "colab": {
          "base_uri": "https://localhost:8080/",
          "height": 164
        },
        "id": "sLUWUahDx4TT",
        "outputId": "e8b3ed42-cbc9-400a-cd01-8a91984d2236"
      },
      "outputs": [
        {
          "name": "stderr",
          "output_type": "stream",
          "text": [
            "c:\\Users\\MichelleChekwooti\\anaconda3\\envs\\learn-env\\lib\\site-packages\\xgboost\\data.py:173: FutureWarning: pandas.Int64Index is deprecated and will be removed from pandas in a future version. Use pandas.Index with the appropriate dtype instead.\n",
            "  from pandas import MultiIndex, Int64Index\n"
          ]
        },
        {
          "data": {
            "text/plain": [
              "GridSearchCV(cv=5, error_score=nan,\n",
              "             estimator=XGBClassifier(base_score=None, booster=None,\n",
              "                                     colsample_bylevel=None,\n",
              "                                     colsample_bynode=None,\n",
              "                                     colsample_bytree=None,\n",
              "                                     eval_metric='logloss', gamma=None,\n",
              "                                     gpu_id=None, importance_type='gain',\n",
              "                                     interaction_constraints=None,\n",
              "                                     learning_rate=None, max_delta_step=None,\n",
              "                                     max_depth=None, min_child_weight=None,\n",
              "                                     missing=nan, monotone_co...\n",
              "                                     random_state=42, reg_alpha=None,\n",
              "                                     reg_lambda=None, scale_pos_weight=None,\n",
              "                                     subsample=None, tree_method=None,\n",
              "                                     validate_parameters=None, verbosity=None),\n",
              "             iid='deprecated', n_jobs=-1,\n",
              "             param_grid={'learning_rate': [0.01, 0.1], 'max_depth': [3, 6],\n",
              "                         'n_estimators': [100, 200], 'subsample': [0.8, 1.0]},\n",
              "             pre_dispatch='2*n_jobs', refit=True, return_train_score=False,\n",
              "             scoring='roc_auc', verbose=0)"
            ]
          },
          "execution_count": 437,
          "metadata": {},
          "output_type": "execute_result"
        }
      ],
      "source": [
        "# Hyperparameter tuning for XGBoost\n",
        "xgb_param_grid = {\n",
        "    'n_estimators': [100, 200],\n",
        "    'max_depth': [3, 6],\n",
        "    'learning_rate': [0.01, 0.1],\n",
        "    'subsample': [0.8, 1.0]\n",
        "}\n",
        "xgb_grid = GridSearchCV(XGBClassifier(random_state=42, eval_metric='logloss'), xgb_param_grid, cv=5, scoring='roc_auc', n_jobs=-1)\n",
        "xgb_grid.fit(X_train, y_train)"
      ]
    },
    {
      "cell_type": "code",
      "execution_count": 438,
      "id": "Gp-7ZVU63HUh",
      "metadata": {
        "colab": {
          "base_uri": "https://localhost:8080/"
        },
        "id": "Gp-7ZVU63HUh",
        "outputId": "3a8f96ec-de83-4e04-ac46-1107c3643872"
      },
      "outputs": [
        {
          "name": "stdout",
          "output_type": "stream",
          "text": [
            "Best XGBoost Parameters: {'learning_rate': 0.1, 'max_depth': 3, 'n_estimators': 200, 'subsample': 1.0}\n",
            "Tuned XGBoost Performance:\n",
            "              precision    recall  f1-score   support\n",
            "\n",
            "           0       0.67      0.58      0.62       194\n",
            "           1       0.82      0.87      0.85       428\n",
            "\n",
            "    accuracy                           0.78       622\n",
            "   macro avg       0.75      0.73      0.74       622\n",
            "weighted avg       0.78      0.78      0.78       622\n",
            "\n",
            "ROC-AUC: 0.8237\n"
          ]
        }
      ],
      "source": [
        "# Best XGBoost model\n",
        "print(\"Best XGBoost Parameters:\", xgb_grid.best_params_)\n",
        "xgb_best = xgb_grid.best_estimator_\n",
        "xgb_best_pred = xgb_best.predict(X_test)\n",
        "xgb_best_prob = xgb_best.predict_proba(X_test)[:, 1]\n",
        "print(\"Tuned XGBoost Performance:\")\n",
        "print(classification_report(y_test, xgb_best_pred))\n",
        "print(f\"ROC-AUC: {roc_auc_score(y_test, xgb_best_prob):.4f}\")"
      ]
    },
    {
      "cell_type": "markdown",
      "id": "b6Y91BE036Jp",
      "metadata": {
        "id": "b6Y91BE036Jp"
      },
      "source": [
        "XGBoost (Tuned): Performed best overall, achieving the highest accuracy and ROC-AUC.\n",
        "Shows strong ability to correctly identify deceased patients (recall = 0.88).\n",
        "Well-balanced with a high f1-score of 0.85, making it suitable for real-world predictions.\n",
        "\n",
        "Random Forest (Tuned): Still performs very well, though slightly below XGBoost.\n",
        "Also achieved high recall (0.88), which is great for not missing high-risk patients.\n",
        "Precision and f1-score are slightly lower, especially for the minority class (0), meaning it struggles more with identifying living patients."
      ]
    },
    {
      "cell_type": "markdown",
      "id": "p7PxoJ4l6sNY",
      "metadata": {
        "id": "p7PxoJ4l6sNY"
      },
      "source": [
        "## 4.5 Feature Importance Analysis"
      ]
    },
    {
      "cell_type": "markdown",
      "id": "wK3TRpC86-6l",
      "metadata": {
        "id": "wK3TRpC86-6l"
      },
      "source": [
        "Identifying key features (e.g., Stage, TMB) helps uncover prognostic biomarkers, supporting clinical research and practice.\n",
        "\n",
        "Feature importances from the tuned Random Forest and XGBoost models are extracted and visualized using bar plots, highlighting the most influential predictors."
      ]
    },
    {
      "cell_type": "code",
      "execution_count": 439,
      "id": "pprkxKdo3zGn",
      "metadata": {
        "colab": {
          "base_uri": "https://localhost:8080/",
          "height": 1000
        },
        "id": "pprkxKdo3zGn",
        "outputId": "61038a0f-c4fb-45e5-d235-478f17dcdb4b"
      },
      "outputs": [
        {
          "data": {
            "image/png": "[encoded data removed]",
            "text/plain": [
              "<Figure size 576x432 with 1 Axes>"
            ]
          },
          "metadata": {
            "needs_background": "light"
          },
          "output_type": "display_data"
        },
        {
          "data": {
            "image/png": "[encoded data removed]",
            "text/plain": [
              "<Figure size 576x432 with 1 Axes>"
            ]
          },
          "metadata": {
            "needs_background": "light"
          },
          "output_type": "display_data"
        }
      ],
      "source": [
        "# Feature importance for Random Forest\n",
        "rf_importances = pd.DataFrame({\n",
        "    'Clinical Features': X.columns,\n",
        "    'Importance level': rf_best.feature_importances_\n",
        "}).sort_values('Importance level', ascending=False)\n",
        "\n",
        "plt.figure(figsize=(8, 6))\n",
        "sns.barplot(x='Importance level', y='Clinical Features', data=rf_importances)\n",
        "plt.title('Random Forest Feature Importance')\n",
        "plt.show()\n",
        "\n",
        "# Feature importance for XGBoost\n",
        "xgb_importances = pd.DataFrame({\n",
        "    'Clinical Features': X.columns,\n",
        "    'Importance level': xgb_best.feature_importances_\n",
        "}).sort_values('Importance level', ascending=False)\n",
        "\n",
        "plt.figure(figsize=(8, 6))\n",
        "sns.barplot(x='Importance level', y='Clinical Features', data=xgb_importances)\n",
        "plt.title('XGBoost Feature Importance')\n",
        "plt.show()"
      ]
    },
    {
      "cell_type": "markdown",
      "id": "9Na-O4Vw-kbd",
      "metadata": {
        "id": "9Na-O4Vw-kbd"
      },
      "source": [
        "### 4.6 Clinical Utility Demonstration and Threshold Tuning"
      ]
    },
    {
      "cell_type": "markdown",
      "id": "JOreFCH_-rFr",
      "metadata": {
        "id": "JOreFCH_-rFr"
      },
      "source": [
        "Risk stratification demonstrates how the model can identify high-risk patients for targeted therapies, aligning with clinical decision-making goals.\n",
        "\n",
        "The best model predicts risk scores (probability of 'Deceased'). Patients are classified as high or low risk based on a threshold (0.5). A sample of results is displayed, and a histogram visualizes the risk score distribution. A summary explains how the model supports personalized treatment planning.\n",
        "\n",
        "Threshold tuning is performed to optimize the classification threshold for predicting 'Deceased' patients, prioritizing sensitivity while balancing precision. The best model predicts risk scores, and patients are classified as high or low risk based on the optimal threshold. A sample of results is displayed, and a histogram visualizes the risk score distribution."
      ]
    },
    {
      "cell_type": "code",
      "execution_count": 440,
      "id": "IKMw764qEvR7",
      "metadata": {
        "colab": {
          "base_uri": "https://localhost:8080/",
          "height": 1000
        },
        "id": "IKMw764qEvR7",
        "outputId": "33e96a7a-a562-47e3-9d7c-683db227eb5c"
      },
      "outputs": [
        {
          "name": "stderr",
          "output_type": "stream",
          "text": [
            "c:\\Users\\MichelleChekwooti\\anaconda3\\envs\\learn-env\\lib\\site-packages\\xgboost\\data.py:173: FutureWarning: pandas.Int64Index is deprecated and will be removed from pandas in a future version. Use pandas.Index with the appropriate dtype instead.\n",
            "  from pandas import MultiIndex, Int64Index\n"
          ]
        },
        {
          "name": "stdout",
          "output_type": "stream",
          "text": [
            "Optimal Threshold (maximizing F1-score): 0.4332\n",
            "F1-Score at Optimal Threshold: 0.8639\n",
            "Precision at Optimal Threshold: 0.8032\n",
            "Recall at Optimal Threshold: 0.9346\n"
          ]
        },
        {
          "data": {
            "image/png": "[encoded data removed]",
            "text/plain": [
              "<Figure size 576x432 with 1 Axes>"
            ]
          },
          "metadata": {
            "needs_background": "light"
          },
          "output_type": "display_data"
        },
        {
          "data": {
            "image/png": "[encoded data removed]",
            "text/plain": [
              "<Figure size 576x432 with 1 Axes>"
            ]
          },
          "metadata": {
            "needs_background": "light"
          },
          "output_type": "display_data"
        },
        {
          "name": "stdout",
          "output_type": "stream",
          "text": [
            "Sample Risk Stratification Results:\n",
            "      Patient ID  Risk Score Risk Label Actual Survival Status\n",
            "2235   P-0006401    0.713994  High Risk             1:DECEASED\n",
            "3372   P-0009395    0.362115   Low Risk               0:LIVING\n",
            "22921  P-0078138    0.185177   Low Risk               0:LIVING\n",
            "10427  P-0029819    0.261796   Low Risk               0:LIVING\n",
            "3467   P-0009635    0.562585  High Risk               0:LIVING\n",
            "22333  P-0075968    0.711933  High Risk               0:LIVING\n",
            "23677  P-0081243    0.496289  High Risk             1:DECEASED\n",
            "3308   P-0009254    0.815129  High Risk             1:DECEASED\n",
            "24068  P-0083108    0.673079  High Risk             1:DECEASED\n",
            "721    P-0002167    0.512194  High Risk             1:DECEASED\n",
            "\n",
            "Performance at Optimal Threshold:\n",
            "              precision    recall  f1-score   support\n",
            "\n",
            "           0       0.77      0.49      0.60       194\n",
            "           1       0.80      0.93      0.86       428\n",
            "\n",
            "    accuracy                           0.80       622\n",
            "   macro avg       0.79      0.71      0.73       622\n",
            "weighted avg       0.79      0.80      0.78       622\n",
            "\n"
          ]
        },
        {
          "data": {
            "image/png": "[encoded data removed]",
            "text/plain": [
              "<Figure size 576x432 with 1 Axes>"
            ]
          },
          "metadata": {
            "needs_background": "light"
          },
          "output_type": "display_data"
        },
        {
          "name": "stdout",
          "output_type": "stream",
          "text": [
            "Clinical Utility Summary:\n",
            "- High-risk patients (Risk Score >= 0.4332) can be prioritized for aggressive treatments or clinical trials.\n",
            "- Low-risk patients may benefit from less invasive monitoring or standard care.\n",
            "- The model supports personalized treatment planning by identifying patients at greatest risk of poor outcomes.\n"
          ]
        }
      ],
      "source": [
        "le_y = LabelEncoder()\n",
        "le_y.fit(pancreatic_cancer_filtered['Overall Survival Status'])\n",
        "\n",
        "# Risk stratification using the best model XG Boost\n",
        "risk_scores = xgb_best.predict_proba(X_test)[:, 1]\n",
        "\n",
        "# Threshold tuning using precision-recall curve\n",
        "precision, recall, thresholds = precision_recall_curve(y_test, risk_scores)\n",
        "f1_scores = [2 * (p * r) / (p + r) if (p + r) > 0 else 0 for p, r in zip(precision, recall)]\n",
        "\n",
        "# Find the threshold that maximizes F1-score\n",
        "optimal_idx = np.argmax(f1_scores)\n",
        "optimal_threshold = thresholds[optimal_idx]\n",
        "print(f\"Optimal Threshold (maximizing F1-score): {optimal_threshold:.4f}\")\n",
        "print(f\"F1-Score at Optimal Threshold: {f1_scores[optimal_idx]:.4f}\")\n",
        "print(f\"Precision at Optimal Threshold: {precision[optimal_idx]:.4f}\")\n",
        "print(f\"Recall at Optimal Threshold: {recall[optimal_idx]:.4f}\")\n",
        "\n",
        "# Plot precision-recall curve\n",
        "plt.figure(figsize=(8, 6))\n",
        "plt.plot(thresholds, precision[:-1], label='Precision')\n",
        "plt.plot(thresholds, recall[:-1], label='Recall')\n",
        "plt.plot(thresholds, f1_scores[:-1], label='F1-Score')\n",
        "plt.axvline(optimal_threshold, color='red', linestyle='--', label=f'Optimal Threshold ({optimal_threshold:.4f})')\n",
        "plt.xlabel('Threshold')\n",
        "plt.ylabel('Score')\n",
        "plt.title('Precision-Recall vs Threshold')\n",
        "plt.legend()\n",
        "plt.show()\n",
        "\n",
        "# Plot ROC curve for additional insight\n",
        "fpr, tpr, roc_thresholds = roc_curve(y_test, risk_scores)\n",
        "plt.figure(figsize=(8, 6))\n",
        "plt.plot(fpr, tpr, label=f'ROC Curve (AUC = {roc_auc_score(y_test, risk_scores):.4f})')\n",
        "plt.plot([0, 1], [0, 1], 'k--')\n",
        "plt.xlabel('False Positive Rate')\n",
        "plt.ylabel('True Positive Rate')\n",
        "plt.title('ROC Curve - XGBoost')\n",
        "plt.legend()\n",
        "plt.show()\n",
        "\n",
        "# Classify patients using the optimal threshold\n",
        "risk_labels = ['High Risk' if score >= optimal_threshold else 'Low Risk' for score in risk_scores]\n",
        "\n",
        "# Create a DataFrame for risk stratification results\n",
        "risk_df = pd.DataFrame({\n",
        "    'Patient ID': pancreatic_cancer_filtered.loc[X_test.index, 'Patient ID'],\n",
        "    'Risk Score': risk_scores,\n",
        "    'Risk Label': risk_labels,\n",
        "    'Actual Survival Status': le_y.inverse_transform(y_test)\n",
        "})\n",
        "\n",
        "# Display sample of risk stratification\n",
        "print(\"Sample Risk Stratification Results:\")\n",
        "print(risk_df.head(10))\n",
        "\n",
        "# Evaluate performance at the optimal threshold\n",
        "y_pred_optimal = (risk_scores >= optimal_threshold).astype(int)\n",
        "print(\"\\nPerformance at Optimal Threshold:\")\n",
        "print(classification_report(y_test, y_pred_optimal))\n",
        "\n",
        "# Visualize risk score distribution\n",
        "plt.figure(figsize=(8, 6))\n",
        "sns.histplot(risk_scores, bins=20, kde=True)\n",
        "plt.axvline(optimal_threshold, color='red', linestyle='--', label=f'Optimal Threshold ({optimal_threshold:.4f})')\n",
        "plt.xlabel('Risk Score (Probability of Deceased)')\n",
        "plt.ylabel('Count')\n",
        "plt.title('Risk Score Distribution')\n",
        "plt.legend()\n",
        "plt.show()\n",
        "\n",
        "# Clinical utility summary\n",
        "print(\"Clinical Utility Summary:\")\n",
        "print(f\"- High-risk patients (Risk Score >= {optimal_threshold:.4f}) can be prioritized for aggressive treatments or clinical trials.\")\n",
        "print(\"- Low-risk patients may benefit from less invasive monitoring or standard care.\")\n",
        "print(\"- The model supports personalized treatment planning by identifying patients at greatest risk of poor outcomes.\")"
      ]
    },
    {
      "cell_type": "markdown",
      "id": "c3b85279",
      "metadata": {},
      "source": [
        "Class 1:\n",
        "Precision: 0.80 80% of those predicted as deceased truly are.\n",
        "Recall: 0.93 An excellent 93% of all deceased patients are correctly identified.\n",
        "F1-score: 0.86 Strong overall performance in both precision and recall.\n",
        "\n",
        "Class 0:\n",
        "Precision: 0.77 When the model predicts a patient is living, it's correct 77% of the time.\n",
        "Recall: 0.49 It correctly identifies only 49% of actual living patients.\n",
        "F1-score: 0.60 Moderate balance between precision and recall, but still shows room for improvement.\n",
        "\n",
        "| Model               | Precision | Recall | F1-Score |\n",
        "|---------------------|-----------|--------|----------|\n",
        "| Logistic Regression | 0.67      | 0.43   | 0.52     |\n",
        "| Random Forest       | 0.65      | 0.52   | 0.58     |\n",
        "| Tuned RF            | 0.54      | 0.18   | 0.27     |\n",
        "| XGBoost             | 0.62      | 0.54   | 0.57     |\n",
        "| Tuned XGBoost       | 0.48      | 0.54   | 0.51     |\n",
        "| Optimal Threshold | 0.77      | 0.49   | 0.60     |\n",
        "\n",
        "The XGBoost model (especially when using the optimal threshold) shows a good balance between precision, recall, and F1-score."
      ]
    },
    {
      "cell_type": "markdown",
      "id": "9kIDOdoUFyU3",
      "metadata": {
        "id": "9kIDOdoUFyU3"
      },
      "source": [
        "### 5. Saving the Model for deployment"
      ]
    },
    {
      "cell_type": "markdown",
      "id": "KxhndP0rF_EP",
      "metadata": {
        "id": "KxhndP0rF_EP"
      },
      "source": [
        "Saving the model ensures it can be deployed or reused, enhancing reproducibility and usability in clinical settings.\n",
        "\n",
        "After hyperparameter tuning, both Random Forest and XGBoost outperform Logistic Regression in terms of ROC-AUC.\n",
        "\n",
        "The best model (Random forest Tuned) and preprocessing objects (scaler, label encoders, target encoder) are saved using joblib for future use."
      ]
    },
    {
      "cell_type": "code",
      "execution_count": 441,
      "id": "jbgCfOJTGRLh",
      "metadata": {
        "colab": {
          "base_uri": "https://localhost:8080/"
        },
        "id": "jbgCfOJTGRLh",
        "outputId": "18ea1711-5834-43ae-9179-eff384463ff1"
      },
      "outputs": [
        {
          "name": "stdout",
          "output_type": "stream",
          "text": [
            "Best model saved as 'pancreatic_cancer_survival_model.pkl'\n",
            "Scaler saved as 'scaler.pkl'\n",
            "Preprocessing objects saved for future use.\n"
          ]
        }
      ],
      "source": [
        "\n",
        "\n",
        "# Save the best model Random forest\n",
        "joblib.dump(xgb_best, 'pickle_files/pancreatic_cancer_survival_model.pkl')\n",
        "print(\"Best model saved as 'pancreatic_cancer_survival_model.pkl'\")\n",
        "\n",
        "# Save the scaler and label encoders for preprocessing\n",
        "joblib.dump(scaler, 'pickle_files/scaler.pkl')\n",
        "print(\"Scaler saved as 'scaler.pkl'\")\n",
        "\n",
        "joblib.dump(le_y, 'pickle_files/target_encoder.pkl')\n",
        "print(\"Preprocessing objects saved for future use.\")"
      ]
    }
  ],
  "metadata": {
    "colab": {
      "provenance": []
    },
    "kernelspec": {
      "display_name": "learn-env",
      "language": "python",
      "name": "python3"
    },
    "language_info": {
      "codemirror_mode": {
        "name": "ipython",
        "version": 3
      },
      "file_extension": ".py",
      "mimetype": "text/x-python",
      "name": "python",
      "nbconvert_exporter": "python",
      "pygments_lexer": "ipython3",
      "version": "3.8.5"
    }
  },
  "nbformat": 4,
  "nbformat_minor": 5
}
